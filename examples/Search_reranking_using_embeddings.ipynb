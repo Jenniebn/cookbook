{
  "cells": [
    {
      "cell_type": "markdown",
      "metadata": {
        "id": "Tce3stUlHN0L"
      },
      "source": [
        "##### Copyright 2025 Google LLC."
      ]
    },
    {
      "cell_type": "code",
      "execution_count": 1,
      "metadata": {
        "cellView": "form",
        "id": "tuOe1ymfHZPu"
      },
      "outputs": [],
      "source": [
        "# @title Licensed under the Apache License, Version 2.0 (the \"License\");\n",
        "# you may not use this file except in compliance with the License.\n",
        "# You may obtain a copy of the License at\n",
        "#\n",
        "# https://www.apache.org/licenses/LICENSE-2.0\n",
        "#\n",
        "# Unless required by applicable law or agreed to in writing, software\n",
        "# distributed under the License is distributed on an \"AS IS\" BASIS,\n",
        "# WITHOUT WARRANTIES OR CONDITIONS OF ANY KIND, either express or implied.\n",
        "# See the License for the specific language governing permissions and\n",
        "# limitations under the License."
      ]
    },
    {
      "cell_type": "markdown",
      "metadata": {
        "id": "oJt4OFKPgO8C"
      },
      "source": [
        "# Search re-ranking using Gemini embeddings"
      ]
    },
    {
      "cell_type": "markdown",
      "metadata": {
        "id": "k5n0sCc_fKcB"
      },
      "source": [
        "<a target=\"_blank\" href=\"https://colab.research.google.com/github/google-gemini/cookbook/blob/main/examples/Search_reranking_using_embeddings.ipynb\"><img src=\"https://colab.research.google.com/assets/colab-badge.svg\" height=30/>"
      ]
    },
    {
      "cell_type": "markdown",
      "metadata": {
        "id": "0UO0Cgq0mRlG"
      },
      "source": [
        "This notebook demonstrates the use of embeddings to re-rank search results. This walkthrough will focus on the following objectives:\n",
        "\n",
        "\n",
        "\n",
        "1.   Setting up your development environment and API access to use Gemini.\n",
        "2.   Using Gemini's function calling support to access the Wikipedia API.\n",
        "3.   Embedding content via Gemini API.\n",
        "4.   Re-ranking the search results.\n"
      ]
    },
    {
      "cell_type": "markdown",
      "metadata": {
        "id": "-e5Aje-DTQOq"
      },
      "source": [
        "This is how you will implement search re-ranking:\n",
        "\n",
        "\n",
        "1.   The user will make a search query.\n",
        "2.   You will use Wikipedia API to return the relevant search results.\n",
        "3.   The search results will be embedded and their relevance will be evaluated by calculating distance metrics like cosine similarity.\n",
        "4.   The most relevant search result will be returned as the final answer."
      ]
    },
    {
      "cell_type": "markdown",
      "metadata": {
        "id": "rpVL_QrF5-oF"
      },
      "source": [
        "> The non-source code materials in this notebook are licensed under Creative Commons - Attribution-ShareAlike CC-BY-SA 4.0, https://creativecommons.org/licenses/by-sa/4.0/legalcode."
      ]
    },
    {
      "cell_type": "markdown",
      "metadata": {
        "id": "pwImlRg9DUp7"
      },
      "source": [
        "## Setup\n"
      ]
    },
    {
      "cell_type": "code",
      "execution_count": 2,
      "metadata": {
        "id": "Nv_6f_qNHe_2"
      },
      "outputs": [
        {
          "name": "stdout",
          "output_type": "stream",
          "text": [
            "\u001b[?25l   \u001b[90m━━━━━━━━━━━━━━━━━━━━━━━━━━━━━━━━━━━━━━━━\u001b[0m \u001b[32m0.0/149.6 kB\u001b[0m \u001b[31m?\u001b[0m eta \u001b[36m-:--:--\u001b[0m\r\u001b[2K   \u001b[90m━━━━━━━━━━━━━━━━━━━━━━━━━━━━━━━━━━━━━━━━\u001b[0m \u001b[32m149.6/149.6 kB\u001b[0m \u001b[31m4.5 MB/s\u001b[0m eta \u001b[36m0:00:00\u001b[0m\n",
            "\u001b[?25h  Preparing metadata (setup.py) ... \u001b[?25l\u001b[?25hdone\n",
            "  Building wheel for wikipedia (setup.py) ... \u001b[?25l\u001b[?25hdone\n"
          ]
        }
      ],
      "source": [
        "%pip install -q -U \"google-genai>=1.0.0\"\n",
        "%pip install -q wikipedia"
      ]
    },
    {
      "cell_type": "markdown",
      "metadata": {
        "id": "739f0bb73f05"
      },
      "source": [
        "Note: The [`wikipedia` package](https://pypi.org/project/wikipedia/) notes that it was \"designed for ease of use and simplicity, not for advanced use\", and that production or heavy use should instead \"use [Pywikipediabot](http://www.mediawiki.org/wiki/Manual:Pywikipediabot) or one of the other more advanced [Python MediaWiki API wrappers](http://en.wikipedia.org/wiki/Wikipedia:Creating_a_bot#Python)\"."
      ]
    },
    {
      "cell_type": "code",
      "execution_count": 3,
      "metadata": {
        "id": "D0qOtLI3FVid"
      },
      "outputs": [],
      "source": [
        "import textwrap\n",
        "from IPython.display import Markdown\n",
        "\n",
        "def to_markdown(text):\n",
        "  text = text.replace('•', '  *')\n",
        "  return Markdown(textwrap.indent(text, '> ', predicate=lambda _: True))"
      ]
    },
    {
      "cell_type": "markdown",
      "metadata": {
        "id": "aeo_9J9iDtCx"
      },
      "source": [
        "To run the following cell, your API key must be stored it in a Colab Secret named `GOOGLE_API_KEY`. If you don't already have an API key, or you're not sure how to create a Colab Secret, see the [Authentication](https://github.com/google-gemini/cookbook/blob/main/quickstarts/Authentication.ipynb) quickstart for an example."
      ]
    },
    {
      "cell_type": "code",
      "execution_count": 4,
      "metadata": {
        "id": "yxzEH0GqLshI"
      },
      "outputs": [],
      "source": [
        "from google.colab import userdata\n",
        "from google import genai\n",
        "API_KEY = userdata.get('GOOGLE_API_KEY')\n",
        "client = genai.Client(api_key=API_KEY)"
      ]
    },
    {
      "cell_type": "code",
      "execution_count": 5,
      "metadata": {
        "cellView": "code",
        "id": "O7JW3OsF8Ojo"
      },
      "outputs": [],
      "source": [
        "# Define the model to be used in this notebook\n",
        "\n",
        "MODEL_ID=\"gemini-2.0-flash\" # @param [\"gemini-2.0-flash-lite\",\"gemini-2.0-flash\",\"gemini-2.5-pro-exp-03-25\"] {\"allow-input\":true, isTemplate: true}\n",
        "model=f\"models/{MODEL_ID}\""
      ]
    },
    {
      "cell_type": "markdown",
      "metadata": {
        "id": "0hkJSFIWI7G1"
      },
      "source": [
        "## Function Calling with the Gemini API"
      ]
    },
    {
      "cell_type": "markdown",
      "metadata": {
        "id": "7HjN6hsAJkOq"
      },
      "source": [
        "As stated earlier, this tutorial uses Gemini's function calling support to access the Wikipedia API. Please refer to the [docs](https://ai.google.dev/docs/function_calling) to learn more about function calling."
      ]
    },
    {
      "cell_type": "markdown",
      "metadata": {
        "id": "fpFkazXUenkK"
      },
      "source": [
        "### Step 1: Define the Search Function"
      ]
    },
    {
      "cell_type": "markdown",
      "metadata": {
        "id": "2fp-m-5Ke0XY"
      },
      "source": [
        "To cater to the search engine needs, you will design this function in the following way:\n",
        "\n",
        "\n",
        "*   For each search query, the search engine will use the `wikipedia.search` method to get relevant topics.\n",
        "*   From the relevant topics, the engine will choose `n_topics(int)` top candidates and will use `gemini-2.0-flash` to extract relevant information from the page.\n",
        "*   The engine will avoid duplicate entries by maintaining a search history.\n"
      ]
    },
    {
      "cell_type": "code",
      "execution_count": 6,
      "metadata": {
        "cellView": "code",
        "id": "2U27tdP8OBys"
      },
      "outputs": [],
      "source": [
        "from typing import List\n",
        "\n",
        "import wikipedia\n",
        "from wikipedia.exceptions import DisambiguationError, PageError\n",
        "\n",
        "# This is the actual function that would be called based on the model's suggestion\n",
        "# Define the function with type hints and docstring\n",
        "def wikipedia_search(search_queries: List[str]) -> List[str]:\n",
        "  \"\"\"Search wikipedia for each query and summarize relevant docs.\n",
        "    Args:\n",
        "        search_queries: The user query to search wikipedia.\n",
        "\n",
        "    Returns:\n",
        "        A list of relevant information from wikipedia based on the query.\n",
        "  \"\"\"\n",
        "  n_topics=3\n",
        "  search_history = set() # tracking search history\n",
        "  search_urls = []\n",
        "\n",
        "  # Note: newer models have more limited quota for API calls\n",
        "  summary_results = []\n",
        "\n",
        "  for query in search_queries:\n",
        "    print(f'Searching for \"{query}\"')\n",
        "    search_terms = wikipedia.search(query)\n",
        "\n",
        "    print(f\"Related search terms: {search_terms[:n_topics]}\")\n",
        "    for search_term in search_terms[:n_topics]: # select first `n_topics` candidates\n",
        "      if search_term in search_history: # check if the topic is already covered\n",
        "        continue\n",
        "\n",
        "      print(f'Fetching page: \"{search_term}\"')\n",
        "      search_history.add(search_term) # add to search history\n",
        "\n",
        "      try:\n",
        "        # extract the relevant data by using `gemini-2.0-flash` model\n",
        "        page = wikipedia.page(search_term, auto_suggest=False)\n",
        "        url = page.url\n",
        "        print(f\"Information Source: {url}\")\n",
        "        search_urls.append(url)\n",
        "        page = page.content\n",
        "        response = client.models.generate_content(model=model,\n",
        "                                                  contents=textwrap.dedent(f\"\"\"\\\n",
        "                                                        Extract relevant information\n",
        "                                                        about user's query: {query}\n",
        "                                                        From this source:\n",
        "\n",
        "                                                        {page}\n",
        "\n",
        "                                                        Note: Do not summarize. Only Extract and return the relevant information\n",
        "                                                        \"\"\"),)\n",
        "        urls = [url]\n",
        "\n",
        "        if response.candidates[0].citation_metadata:\n",
        "          extra_citations = response.candidates[0].citation_metadata.citation_sources\n",
        "          extra_urls = [source.url for source in extra_citations]\n",
        "          urls.extend(extra_urls)\n",
        "          search_urls.extend(extra_urls)\n",
        "          print(\"Additional citations:\", response.candidates[0].citation_metadata.citation_sources)\n",
        "        try:\n",
        "          text = response.text\n",
        "        except ValueError:\n",
        "          pass\n",
        "        else:\n",
        "          summary_results.append(text + \"\\n\\nBased on:\\n  \" + ',\\n  '.join(urls))\n",
        "\n",
        "      except DisambiguationError:\n",
        "        print(f\"\"\"Results when searching for \"{search_term}\" (originally for \"{query}\")\n",
        "        were ambiguous, hence skipping\"\"\")\n",
        "        continue\n",
        "\n",
        "      except PageError:\n",
        "        print(f'{search_term} did not match with any page id, hence skipping.')\n",
        "        continue\n",
        "\n",
        "      except:\n",
        "        print(f'{search_term} did not match with any page id, hence skipping.')\n",
        "        continue\n",
        "\n",
        "  print(f\"Information Sources:\")\n",
        "  for url in search_urls:\n",
        "    print('    ', url)\n",
        "\n",
        "  return summary_results\n"
      ]
    },
    {
      "cell_type": "code",
      "execution_count": 7,
      "metadata": {
        "id": "EWKkkKDXmzOX"
      },
      "outputs": [
        {
          "name": "stdout",
          "output_type": "stream",
          "text": [
            "Searching for \"What are LLMs?\"\n",
            "Related search terms: ['Large language model', 'Retrieval-augmented generation', 'Vibe coding']\n",
            "Fetching page: \"Large language model\"\n",
            "Information Source: https://en.wikipedia.org/wiki/Large_language_model\n",
            "Large language model did not match with any page id, hence skipping.\n",
            "Fetching page: \"Retrieval-augmented generation\"\n",
            "Information Source: https://en.wikipedia.org/wiki/Retrieval-augmented_generation\n",
            "Retrieval-augmented generation did not match with any page id, hence skipping.\n",
            "Fetching page: \"Vibe coding\"\n",
            "Information Source: https://en.wikipedia.org/wiki/Vibe_coding\n",
            "Information Sources:\n",
            "     https://en.wikipedia.org/wiki/Large_language_model\n",
            "     https://en.wikipedia.org/wiki/Retrieval-augmented_generation\n",
            "     https://en.wikipedia.org/wiki/Vibe_coding\n"
          ]
        }
      ],
      "source": [
        "example = wikipedia_search([\"What are LLMs?\"])"
      ]
    },
    {
      "cell_type": "markdown",
      "metadata": {
        "id": "8bPT114QEPgW"
      },
      "source": [
        "Here is what the search results look like:"
      ]
    },
    {
      "cell_type": "code",
      "execution_count": 8,
      "metadata": {
        "id": "8wy7YUFqEYTv"
      },
      "outputs": [
        {
          "data": {
            "text/markdown": "> Based on the provided text, here's the relevant information about Large Language Models (LLMs):\n> \n> *   Vibe coding is an AI-dependent programming technique where a person describes a problem in a few sentences as a prompt to a large language model (LLM) tuned for coding.\n> *   The LLM generates software, shifting the programmer's role from manual coding to guiding, testing, and refining the AI-generated source code.\n> *   The concept of vibe coding relies on LLMs, allowing programmers to generate working code by providing natural language descriptions rather than manually writing it.\n> *   Karpathy's claim from 2023 that \"the hottest new programming language is English\", meaning that the capabilities of LLMs were such that humans would no longer need to learn specific programming languages to command computers.\n> *   AI researcher Simon Willison said: \"If an LLM wrote every line of your code, but you've reviewed, tested, and understood it all, that's not vibe coding in my book—that's using an LLM as a typing assistant.\"\n> \n> Based on:\n>   https://en.wikipedia.org/wiki/Vibe_coding",
            "text/plain": [
              "<IPython.core.display.Markdown object>"
            ]
          },
          "metadata": {},
          "output_type": "display_data"
        }
      ],
      "source": [
        "from IPython.display import display\n",
        "\n",
        "for e in example:\n",
        "  display(to_markdown(e))"
      ]
    },
    {
      "cell_type": "markdown",
      "metadata": {
        "id": "SKcH1LICeg5Z"
      },
      "source": [
        "### Step 2: Automatic Function Calling (Python Only)"
      ]
    },
    {
      "cell_type": "markdown",
      "metadata": {
        "id": "qQcxR7cjLjGM"
      },
      "source": [
        "When using the Python SDK, you can provide Python functions directly as tools. The SDK automatically converts the Python function to declarations, handles the function call execution and response cycle for you. The Python SDK then automatically:\n",
        "\n",
        "- Detects function call responses from the model.\n",
        "- Call the corresponding Python function in your code.\n",
        "- Sends the function response back to the model.\n",
        "- Returns the model's final text response.\n",
        "\n",
        "To use this, define your function with type hints and a docstring, and then pass the function itself (not a JSON declaration) as a tool:\n",
        "\n",
        "Note: This approach only handles annotations of `AllowedType = (int | float | bool | str | list['AllowedType'] | dict[str, AllowedType])`"
      ]
    },
    {
      "cell_type": "code",
      "execution_count": 9,
      "metadata": {
        "id": "39kqTnBRLDeQ"
      },
      "outputs": [],
      "source": [
        "from google.genai import types\n",
        "\n",
        "config = types.GenerateContentConfig(\n",
        "    tools=[wikipedia_search]\n",
        ") # Pass the function itself"
      ]
    },
    {
      "cell_type": "markdown",
      "metadata": {
        "id": "VedPbpzlh6jX"
      },
      "source": [
        "## Generate supporting search queries"
      ]
    },
    {
      "cell_type": "markdown",
      "metadata": {
        "id": "5sLKZik7isBW"
      },
      "source": [
        "In order to have multiple supporting search queries to the user's original query, you will ask the model to generate more such queries. This would help the engine to cover the asked question on comprehensive levels."
      ]
    },
    {
      "cell_type": "code",
      "execution_count": 10,
      "metadata": {
        "id": "Z-Ym3H9KIosY"
      },
      "outputs": [],
      "source": [
        "instructions = \"\"\"You have access to the Wikipedia API which you will be using\n",
        "to answer a user's query. Your job is to generate a list of search queries which\n",
        "might answer a user's question. Be creative by using various key-phrases from\n",
        "the user's query. To generate variety of queries, ask questions which are\n",
        "related to the user's query that might help to find the answer. The more\n",
        "queries you generate the better are the odds of you finding the correct answer.\n",
        "Here is an example:\n",
        "\n",
        "user: Tell me about Cricket World cup 2023 winners.\n",
        "\n",
        "function_call: wikipedia_search(['What is the name of the team that\n",
        "won the Cricket World Cup 2023?', 'Who was the captain of the Cricket World Cup\n",
        "2023 winning team?', 'Which country hosted the Cricket World Cup 2023?', 'What\n",
        "was the venue of the Cricket World Cup 2023 final match?', 'Cricket World cup 2023',\n",
        "'Who lifted the Cricket World Cup 2023 trophy?'])\n",
        "\n",
        "The search function will return a list of article summaries, use these to\n",
        "answer the  user's question.\n",
        "\n",
        "Here is the user's query: {query}\n",
        "\"\"\""
      ]
    },
    {
      "cell_type": "markdown",
      "metadata": {
        "id": "3Wyn3lV-d5S_"
      },
      "source": [
        "In order to yield creative and a more random variety of questions, you will set the model's temperature parameter to a value higher. Values can range from [0.0,1.0], inclusive. A value closer to 1.0 will produce responses that are more varied and creative, while a value closer to 0.0 will typically result in more straightforward responses from the model."
      ]
    },
    {
      "cell_type": "markdown",
      "metadata": {
        "id": "TD1vU6FXhYO5"
      },
      "source": [
        "### Step 3: Enable Automatic Function Calling and Call the API"
      ]
    },
    {
      "cell_type": "markdown",
      "metadata": {
        "id": "qyUSnXJ5hg6x"
      },
      "source": [
        "Now start a new chat with default value of `automatic_function_calling`. Using the default `disable=False`, the `genai.ChatSession` will handle the back and forth required to call the function, and return the final response:"
      ]
    },
    {
      "cell_type": "code",
      "execution_count": 12,
      "metadata": {
        "cellView": "code",
        "id": "ZNJqA60yKNpT"
      },
      "outputs": [
        {
          "name": "stdout",
          "output_type": "stream",
          "text": [
            "Searching for \"deep sea life adaptations\"\n",
            "Related search terms: ['Deep sea', 'Deep-sea fish', 'Deep-sea gigantism']\n",
            "Fetching page: \"Deep sea\"\n",
            "Information Source: https://en.wikipedia.org/wiki/Deep_sea\n",
            "Deep sea did not match with any page id, hence skipping.\n",
            "Fetching page: \"Deep-sea fish\"\n",
            "Information Source: https://en.wikipedia.org/wiki/Deep-sea_fish\n",
            "Deep-sea fish did not match with any page id, hence skipping.\n",
            "Fetching page: \"Deep-sea gigantism\"\n",
            "Information Source: https://en.wikipedia.org/wiki/Deep-sea_gigantism\n",
            "Deep-sea gigantism did not match with any page id, hence skipping.\n",
            "Searching for \"deep sea food sources\"\n",
            "Related search terms: ['Deep-sea fish', 'Deep sea', 'Deep-sea community']\n",
            "Fetching page: \"Deep-sea community\"\n",
            "Information Source: https://en.wikipedia.org/wiki/Deep-sea_community\n",
            "Searching for \"hydrothermal vent ecosystems\"\n",
            "Related search terms: ['Hydrothermal vent', 'Scaly-foot gastropod', \"Loki's Castle\"]\n",
            "Fetching page: \"Hydrothermal vent\"\n",
            "Information Source: https://en.wikipedia.org/wiki/Hydrothermal_vent\n",
            "Hydrothermal vent did not match with any page id, hence skipping.\n",
            "Fetching page: \"Scaly-foot gastropod\"\n",
            "Information Source: https://en.wikipedia.org/wiki/Scaly-foot_gastropod\n",
            "Scaly-foot gastropod did not match with any page id, hence skipping.\n",
            "Fetching page: \"Loki's Castle\"\n",
            "Information Source: https://en.wikipedia.org/wiki/Loki%27s_Castle\n",
            "Searching for \"deep sea pressure effects on life\"\n",
            "Related search terms: ['Deep sea', 'Deep-sea gigantism', 'Deep-sea community']\n",
            "Searching for \"deep sea bioluminescence\"\n",
            "Related search terms: ['Bioluminescence', 'Deep sea', 'Deep-sea fish']\n",
            "Fetching page: \"Bioluminescence\"\n",
            "Information Source: https://en.wikipedia.org/wiki/Bioluminescence\n",
            "Bioluminescence did not match with any page id, hence skipping.\n",
            "Searching for \"deep sea chemosynthesis\"\n",
            "Related search terms: ['Deep sea', 'Deep-sea community', 'Chemosynthesis']\n",
            "Fetching page: \"Chemosynthesis\"\n",
            "Information Source: https://en.wikipedia.org/wiki/Chemosynthesis\n",
            "Chemosynthesis did not match with any page id, hence skipping.\n",
            "Searching for \"challenges of deep sea life\"\n",
            "Related search terms: ['Deepsea Challenger', 'Deep-sea community', 'Deep sea']\n",
            "Fetching page: \"Deepsea Challenger\"\n",
            "Information Source: https://en.wikipedia.org/wiki/Deepsea_Challenger\n",
            "Searching for \"deep sea organisms\"\n",
            "Related search terms: ['Deep-sea fish', 'Deep sea', 'Hydrothermal vent']\n",
            "Searching for \"how do animals survive in the deep sea?\"\n",
            "Related search terms: ['Deep-sea community', 'Deep sea', 'Deep-sea fish']\n",
            "Searching for \"deep sea ecosystems\"\n",
            "Related search terms: ['Deep-sea community', 'Deep sea mining', 'Deep sea']\n",
            "Fetching page: \"Deep sea mining\"\n",
            "Information Source: https://en.wikipedia.org/wiki/Deep_sea_mining\n",
            "Deep sea mining did not match with any page id, hence skipping.\n",
            "Information Sources:\n",
            "     https://en.wikipedia.org/wiki/Deep_sea\n",
            "     https://en.wikipedia.org/wiki/Deep-sea_fish\n",
            "     https://en.wikipedia.org/wiki/Deep-sea_gigantism\n",
            "     https://en.wikipedia.org/wiki/Deep-sea_community\n",
            "     https://en.wikipedia.org/wiki/Hydrothermal_vent\n",
            "     https://en.wikipedia.org/wiki/Scaly-foot_gastropod\n",
            "     https://en.wikipedia.org/wiki/Loki%27s_Castle\n",
            "     https://en.wikipedia.org/wiki/Bioluminescence\n",
            "     https://en.wikipedia.org/wiki/Chemosynthesis\n",
            "     https://en.wikipedia.org/wiki/Deepsea_Challenger\n",
            "     https://en.wikipedia.org/wiki/Deep_sea_mining\n"
          ]
        }
      ],
      "source": [
        "chat = client.chats.create(model=model, config=config, history=[])\n",
        "\n",
        "query = \"Explain how deep-sea life survives.\"\n",
        "\n",
        "response = chat.send_message(instructions.format(query=query))"
      ]
    },
    {
      "cell_type": "code",
      "execution_count": 13,
      "metadata": {
        "id": "1l8KWb13M_lJ"
      },
      "outputs": [
        {
          "data": {
            "text/markdown": "> Deep-sea life survives through a few key adaptations and energy sources. Since sunlight doesn't penetrate these depths, the primary sources of energy are marine snow (organic matter falling from upper layers), whale falls, and chemosynthesis at hydrothermal vents and cold seeps. Organisms have adapted to the extreme pressure, lack of sunlight, and scarcity of food through unique biological and physiological mechanisms. Hydrothermal vent ecosystems, like the one at Loki's Castle, support unique microbial communities that form the base of the food chain, utilizing chemicals like hydrogen sulfide, hydrogen, and methane.\n",
            "text/plain": [
              "<IPython.core.display.Markdown object>"
            ]
          },
          "execution_count": 13,
          "metadata": {},
          "output_type": "execute_result"
        }
      ],
      "source": [
        "to_markdown(response.text)"
      ]
    },
    {
      "cell_type": "markdown",
      "metadata": {
        "id": "ua7DPlj7HZyO"
      },
      "source": [
        "Check for additional citations:"
      ]
    },
    {
      "cell_type": "code",
      "execution_count": 14,
      "metadata": {
        "id": "ASotq7EcHAeo"
      },
      "outputs": [
        {
          "data": {
            "application/vnd.google.colaboratory.intrinsic+json": {
              "type": "string"
            },
            "text/plain": [
              "'No citations found'"
            ]
          },
          "execution_count": 14,
          "metadata": {},
          "output_type": "execute_result"
        }
      ],
      "source": [
        "response.candidates[0].citation_metadata or 'No citations found'"
      ]
    },
    {
      "cell_type": "markdown",
      "metadata": {
        "id": "lIC_Mpd0-3vj"
      },
      "source": [
        "### Step 4: Understand Chat History"
      ]
    },
    {
      "cell_type": "markdown",
      "metadata": {
        "id": "A0CfKMjYFSQm"
      },
      "source": [
        "That looks like it worked. You can go through the chat history to see the details of what was sent and received in the function calls:"
      ]
    },
    {
      "cell_type": "code",
      "execution_count": 15,
      "metadata": {
        "id": "_9h2b8saNnxh"
      },
      "outputs": [
        {
          "data": {
            "text/markdown": "###user:",
            "text/plain": [
              "<IPython.core.display.Markdown object>"
            ]
          },
          "metadata": {},
          "output_type": "display_data"
        },
        {
          "data": {
            "text/markdown": "You have access to the Wikipedia API which you will be using\nto answer a user's query. Your job is to generate a list of search queries which\nmight answer a user's question. Be creative by using various key-phrases from\nthe user's query. To generate variety of queries, ask questions which are\nrelated to the user's query that might help to find the answer. The more\nqueries you generate the better are the odds of you finding the correct answer.\nHere is an example:\n\nuser: Tell me about Cricket World cup 2023 winners.\n\nfunction_call: wikipedia_search(['What is the name of the team that\nwon the Cricket World Cup 2023?', 'Who was the captain of the Cricket World Cup\n2023 winning team?', 'Which country hosted the Cricket World Cup 2023?', 'What\nwas the venue of the Cricket World Cup 2023 final match?', 'Cricket World cup 2023',\n'Who lifted the Cricket World Cup 2023 trophy?'])\n\nThe search function will return a list of article summaries, use these to\nanswer the  user's question.\n\nHere is the user's query: Explain how deep-sea life survives.\n",
            "text/plain": [
              "<IPython.core.display.Markdown object>"
            ]
          },
          "metadata": {},
          "output_type": "display_data"
        },
        {
          "name": "stdout",
          "output_type": "stream",
          "text": [
            "--------------------------------------------------------------------------------\n"
          ]
        },
        {
          "data": {
            "text/markdown": "###model:",
            "text/plain": [
              "<IPython.core.display.Markdown object>"
            ]
          },
          "metadata": {},
          "output_type": "display_data"
        },
        {
          "name": "stdout",
          "output_type": "stream",
          "text": [
            "Function call: { id=None args={'search_queries': ['deep sea life adaptations', 'deep sea food sources', 'hydrothermal vent ecosystems', 'deep sea pressure effects on life', 'deep sea bioluminescence', 'deep sea chemosynthesis', 'challenges of deep sea life', 'deep sea organisms', 'how do animals survive in the deep sea?', 'deep sea ecosystems']} name='wikipedia_search' }\n",
            "--------------------------------------------------------------------------------\n"
          ]
        },
        {
          "data": {
            "text/markdown": "###user:",
            "text/plain": [
              "<IPython.core.display.Markdown object>"
            ]
          },
          "metadata": {},
          "output_type": "display_data"
        },
        {
          "name": "stdout",
          "output_type": "stream",
          "text": [
            "Function response: { id=None name='wikipedia_search' response={'result': ['The three main sources of energy and nutrients for deep sea communities are:\\n\\n*   Marine snow\\n*   Whale falls\\n*   Chemosynthesis at hydrothermal vents and cold seeps\\n\\nBased on:\\n  https://en.wikipedia.org/wiki/Deep-sea_community', \"*   **Location:** Mid-Atlantic Ridge, 73 degrees north, between Iceland and Svalbard. Depth of 2,352 metres (7,717 ft).\\n\\n*   **Discovery:** Discovered in 2008, were the most northerly black smoker vents known at the time.\\n\\n*   **Geology:** Located on the Gakkel Ridge. Sediment-influenced basalt-hosted hydrothermal field. Vent fluid recharge from oceanic sediments. 21 types of minerals identified. Oldest hydrothermal material estimated to be over 9,100 years old.\\n\\n*   **Mounds and Chimneys:** Two sulfide mounds (20–30 metres high, 150–200 metres across) joined into a single composite mound. Five active chimneys venting water up to 320 °C (608 °F). Chimneys are predominantly sphalerite, pyrite, and pyrrhotite. Small barite chimneys also present.\\n\\n*   **Fluid Chemistry:** Fluids rich in hydrogen sulfide, hydrogen, and methane. High concentrations of hydrocarbons and ammonium. Depleted in dissolved iron and manganese. Fluid pH is acidic (5.5 - 6.1).\\n\\n*   **Ecology:**\\n    *   Bristleworm *Nicomache lokii* is a key species.\\n    *   *Sclerolinum contortum* tube worms are present.\\n    *   Melitidae amphipods are common in chimney crevices.\\n    *   Dense mats of bacteria around vents (Epsilonproteobacteria, Gammaproteobacteria, Thaumarchaeota, Sulfurovum).\\n    *   Diversity of Chlamydiae.\\n    *   Unique microorganisms, unlike other marine hydrothermal vent ecosystems.\\n    *   Discovery of Lokiarchaeota, an archaeal phylum.\\n    *   Loki's Castle Viruses (LCVs), primarily giant viruses of the Megaviricetes class in the phylum Nucleocytoviricota (NCLDV)\\n\\n\\nBased on:\\n  https://en.wikipedia.org/wiki/Loki%27s_Castle\", 'The provided document primarily focuses on the Deepsea Challenger submersible and its journey to the Challenger Deep. It does not explicitly detail the general challenges of deep-sea life. Therefore, there is no relevant information to extract about the challenges of deep-sea life from this particular source.\\n\\n\\nBased on:\\n  https://en.wikipedia.org/wiki/Deepsea_Challenger']} }\n",
            "--------------------------------------------------------------------------------\n"
          ]
        },
        {
          "data": {
            "text/markdown": "###model:",
            "text/plain": [
              "<IPython.core.display.Markdown object>"
            ]
          },
          "metadata": {},
          "output_type": "display_data"
        },
        {
          "data": {
            "text/markdown": "Deep-sea life survives through a few key adaptations and energy sources. Since sunlight doesn't penetrate these depths, the primary sources of energy are marine snow (organic matter falling from upper layers), whale falls, and chemosynthesis at hydrothermal vents and cold seeps. Organisms have adapted to the extreme pressure, lack of sunlight, and scarcity of food through unique biological and physiological mechanisms. Hydrothermal vent ecosystems, like the one at Loki's Castle, support unique microbial communities that form the base of the food chain, utilizing chemicals like hydrogen sulfide, hydrogen, and methane.\n",
            "text/plain": [
              "<IPython.core.display.Markdown object>"
            ]
          },
          "metadata": {},
          "output_type": "display_data"
        },
        {
          "name": "stdout",
          "output_type": "stream",
          "text": [
            "--------------------------------------------------------------------------------\n"
          ]
        }
      ],
      "source": [
        "for content in chat.get_history():\n",
        "    display(Markdown(\"###\" + content.role + \":\"))\n",
        "    for part in content.parts:\n",
        "        if part.text:\n",
        "            display(Markdown(part.text))\n",
        "        if part.function_call:\n",
        "            print(\"Function call: {\", part.function_call, \"}\")\n",
        "        if part.function_response:\n",
        "            print(\"Function response: {\", part.function_response, \"}\")\n",
        "    print(\"-\" * 80)"
      ]
    },
    {
      "cell_type": "markdown",
      "metadata": {
        "id": "WDWc9Fj9Ig6A"
      },
      "source": [
        "In the chat history you can see all 4 steps:\n",
        "\n",
        "1. User: Asks the question about the total number of mittens.\n",
        "2. Model: Determines that the `wikipedia_search` is helpful and sends a FunctionCall request to the user.\n",
        "3. User: The Chat session automatically executes the function (due to `_automatic_function_calling` is enabled by default) and sends back a FunctionResponse with the calculated result.\n",
        "4. Model: Uses the function's output to formulate the final answer and presents it as a text response."
      ]
    },
    {
      "cell_type": "markdown",
      "metadata": {
        "id": "PJP1EAgfnPUA"
      },
      "source": [
        "## [Optional] Manually Execute the Function Call"
      ]
    },
    {
      "cell_type": "markdown",
      "metadata": {
        "id": "Sa5ke2ssKl7M"
      },
      "source": [
        "If you want to understand what happened behind the scenes, this section executes the `FunctionCall` manually to demonstrate."
      ]
    },
    {
      "cell_type": "code",
      "execution_count": 16,
      "metadata": {
        "id": "wavbHrL3K5vo"
      },
      "outputs": [],
      "source": [
        "config  = {\n",
        "        \"tools\": [wikipedia_search],\n",
        "        \"automatic_function_calling\": {\"disable\": True}, # for manual execution\n",
        "    }\n",
        "\n",
        "chat    = client.chats.create(model=model, config=config, history=[])\n",
        "response  = chat.send_message(instructions.format(query=query))"
      ]
    },
    {
      "cell_type": "markdown",
      "metadata": {
        "id": "__JN3YuHe7fR"
      },
      "source": [
        "Initially the model returns a `FunctionCall`:"
      ]
    },
    {
      "cell_type": "code",
      "execution_count": 17,
      "metadata": {
        "id": "Lgngdvcdi06F"
      },
      "outputs": [
        {
          "name": "stdout",
          "output_type": "stream",
          "text": [
            "id=None args={'search_queries': ['deep sea life adaptations', 'deep sea ecosystem', 'hydrothermal vents life', 'deep sea food sources', 'pressure adaptation deep sea', 'bioluminescence deep sea', 'deep sea creatures survival', 'challenges of deep sea life', 'how animals survive in deep sea', 'deep sea chemosynthesis']} name='wikipedia_search'\n",
            "FunctionCall's name is wikipedia_search\n"
          ]
        }
      ],
      "source": [
        "fc = response.candidates[0].content.parts[0].function_call\n",
        "print(fc)\n",
        "print(f\"FunctionCall's name is {fc.name}\")"
      ]
    },
    {
      "cell_type": "markdown",
      "metadata": {
        "id": "xpD3axtDmfZb"
      },
      "source": [
        "Call the function with generated arguments to get the results."
      ]
    },
    {
      "cell_type": "code",
      "execution_count": 18,
      "metadata": {
        "id": "Ek4g-CTAPSou"
      },
      "outputs": [
        {
          "name": "stdout",
          "output_type": "stream",
          "text": [
            "Searching for \"deep sea life adaptations\"\n",
            "Related search terms: ['Deep sea', 'Deep-sea fish', 'Deep-sea gigantism']\n",
            "Fetching page: \"Deep sea\"\n",
            "Information Source: https://en.wikipedia.org/wiki/Deep_sea\n",
            "Deep sea did not match with any page id, hence skipping.\n",
            "Fetching page: \"Deep-sea fish\"\n",
            "Information Source: https://en.wikipedia.org/wiki/Deep-sea_fish\n",
            "Deep-sea fish did not match with any page id, hence skipping.\n",
            "Fetching page: \"Deep-sea gigantism\"\n",
            "Information Source: https://en.wikipedia.org/wiki/Deep-sea_gigantism\n",
            "Searching for \"deep sea ecosystem\"\n",
            "Related search terms: ['Deep-sea community', 'Deep sea', 'Deep sea mining']\n",
            "Fetching page: \"Deep-sea community\"\n",
            "Information Source: https://en.wikipedia.org/wiki/Deep-sea_community\n",
            "Fetching page: \"Deep sea mining\"\n",
            "Information Source: https://en.wikipedia.org/wiki/Deep_sea_mining\n",
            "Deep sea mining did not match with any page id, hence skipping.\n",
            "Searching for \"hydrothermal vents life\"\n",
            "Related search terms: ['Hydrothermal vent', 'Lost City Hydrothermal Field', 'Endeavour Hydrothermal Vents']\n",
            "Fetching page: \"Hydrothermal vent\"\n",
            "Information Source: https://en.wikipedia.org/wiki/Hydrothermal_vent\n",
            "Hydrothermal vent did not match with any page id, hence skipping.\n",
            "Fetching page: \"Lost City Hydrothermal Field\"\n",
            "Information Source: https://en.wikipedia.org/wiki/Lost_City_Hydrothermal_Field\n",
            "Lost City Hydrothermal Field did not match with any page id, hence skipping.\n",
            "Fetching page: \"Endeavour Hydrothermal Vents\"\n",
            "Information Source: https://en.wikipedia.org/wiki/Endeavour_Hydrothermal_Vents\n",
            "Searching for \"deep sea food sources\"\n",
            "Related search terms: ['Deep-sea fish', 'Deep sea', 'Deep-sea community']\n",
            "Searching for \"pressure adaptation deep sea\"\n",
            "Related search terms: ['Deep-sea gigantism', 'Deep sea', 'Deep-sea fish']\n",
            "Searching for \"bioluminescence deep sea\"\n",
            "Related search terms: ['Bioluminescence', 'Deep sea', 'Deep-sea fish']\n",
            "Fetching page: \"Bioluminescence\"\n",
            "Information Source: https://en.wikipedia.org/wiki/Bioluminescence\n",
            "Bioluminescence did not match with any page id, hence skipping.\n",
            "Searching for \"deep sea creatures survival\"\n",
            "Related search terms: ['Deep-sea community', 'Sea monster', 'Deep Rising']\n",
            "Fetching page: \"Sea monster\"\n",
            "Information Source: https://en.wikipedia.org/wiki/Sea_monster\n",
            "Fetching page: \"Deep Rising\"\n",
            "Information Source: https://en.wikipedia.org/wiki/Deep_Rising\n",
            "Searching for \"challenges of deep sea life\"\n",
            "Related search terms: ['Deepsea Challenger', 'Deep-sea community', 'Deep sea']\n",
            "Fetching page: \"Deepsea Challenger\"\n",
            "Information Source: https://en.wikipedia.org/wiki/Deepsea_Challenger\n",
            "Searching for \"how animals survive in deep sea\"\n",
            "Related search terms: ['Deep sea', 'Deep-sea community', 'Deep-sea fish']\n",
            "Searching for \"deep sea chemosynthesis\"\n",
            "Related search terms: ['Deep sea', 'Deep-sea community', 'Chemosynthesis']\n",
            "Fetching page: \"Chemosynthesis\"\n",
            "Information Source: https://en.wikipedia.org/wiki/Chemosynthesis\n",
            "Chemosynthesis did not match with any page id, hence skipping.\n",
            "Information Sources:\n",
            "     https://en.wikipedia.org/wiki/Deep_sea\n",
            "     https://en.wikipedia.org/wiki/Deep-sea_fish\n",
            "     https://en.wikipedia.org/wiki/Deep-sea_gigantism\n",
            "     https://en.wikipedia.org/wiki/Deep-sea_community\n",
            "     https://en.wikipedia.org/wiki/Deep_sea_mining\n",
            "     https://en.wikipedia.org/wiki/Hydrothermal_vent\n",
            "     https://en.wikipedia.org/wiki/Lost_City_Hydrothermal_Field\n",
            "     https://en.wikipedia.org/wiki/Endeavour_Hydrothermal_Vents\n",
            "     https://en.wikipedia.org/wiki/Bioluminescence\n",
            "     https://en.wikipedia.org/wiki/Sea_monster\n",
            "     https://en.wikipedia.org/wiki/Deep_Rising\n",
            "     https://en.wikipedia.org/wiki/Deepsea_Challenger\n",
            "     https://en.wikipedia.org/wiki/Chemosynthesis\n",
            "Function execution result: [\"Here's the extracted information about deep-sea life adaptations from the provided text:\\n\\n**Deep-Sea Gigantism & Proposed Explanations:**\\n\\n*   Deep-sea gigantism (abyssal gigantism) is the tendency for deep-sea animals to be larger than shallower-water relatives.\\n*   **Proposed explanations for gigantism:**\\n    *   Adaptation to colder temperature.\\n    *   Food scarcity.\\n    *   Reduced predation pressure.\\n    *   Increased dissolved oxygen concentrations in the deep sea.\\n\\n**Examples of Organisms Exhibiting Deep-Sea Gigantism:**\\n\\n*   Marine crustaceans: mysids, euphausiids, decapods, isopods, ostracods, and amphipods.\\n*   Non-arthropods: cephalopods, cnidarians, and eels (Anguilliformes).\\n*   Specific examples: big red jellyfish, *Stygiomedusa* jellyfish, giant isopod, giant ostracod, giant sea spider, giant amphipod, Japanese spider crab, giant oarfish, deepwater stingray, seven-arm octopus, colossal squid, giant squid, *Megalocranchia fisheri*, robust clubhook squid, Dana octopus squid, cockatoo squid, giant warty squid, bigfin squids (*Magnapinna*).\\n*   Deep-sea gigantism is not observed in meiofauna; they show the reverse trend.\\n\\n**Explanation Details:**\\n\\n*   **Lower Temperature:**\\n    *   Similar to Bergmann's rule (increasing size with latitude).\\n    *   Decreasing temperature leads to increased cell size and lifespan, delayed sexual maturity, and increased maximum body size (continued growth).\\n    *   Reduced vertical temperature gradients lead to a reduced trend towards increased body size with depth.\\n    *   Temperature may not influence giant tube worms in the same way. *Riftia pachyptila* and *Lamellibrachia luymesi* achieve similar sizes despite different growth rates and lifespans.\\n*   **Food Scarcity:**\\n    *   Larger body size improves foraging ability.\\n    *   Larger offspring have greater food reserves for drifting.\\n    *   Giant isopods gorge on food when available and can survive long periods without it.\\n    *   Kleiber's law suggests larger animals have more efficient metabolism under limited food supply.\\n*   **Reduced Predation Pressure:**\\n    *   Predation is less frequent at greater depths.\\n*   **Increased Dissolved Oxygen:**\\n    *   Maximum organism size correlates with increased dissolved oxygen levels.\\n    *   Deep-sea gigantism could be an adaptive trait to combat asphyxiation in frigid, dense ocean waters.\\n    *   Larger organisms can intake more dissolved oxygen.\\n    *   Increased absorption of oxygen runs the risk of toxicity poisoning.\\n\\n\\nBased on:\\n  https://en.wikipedia.org/wiki/Deep-sea_gigantism\", 'Here\\'s the extracted information about deep-sea ecosystems from the provided text:\\n\\n*   **Definition:** A deep-sea community is any community of organisms associated by a shared habitat in the deep sea.\\n*   **Exploration Status:** Deep-sea communities remain largely unexplored due to technological, logistical challenges, and expense.\\n*   **Historical Beliefs:** It was long believed that little life existed in the deep sea due to the extreme conditions (high pressure, temperature extremes, absence of light). Research since the 19th century has demonstrated significant biodiversity.\\n*   **Energy and Nutrient Sources:** The three main sources of energy and nutrients for deep sea communities are:\\n    *   Marine snow\\n    *   Whale falls\\n    *   Chemosynthesis at hydrothermal vents and cold seeps\\n*   **Environment:**\\n    *   **Darkness:** The aphotic zone, a region of perpetual darkness, extends from the bottom of the photic zone (where sunlight penetrates) down to the seabed.\\n    *   **Hyperbaricity:** Pressure increases by about one atmosphere every ten meters. Deep-sea organisms have evolved adaptations to survive extreme pressure. The range of pressure is from 20 to 1,000 atm.\\n    *   **Temperature:** Below the thermocline, the water mass of the deep ocean is cold and far more homogeneous. At any given depth, the temperature is practically unvarying over long periods of time. Hydrothermal vents are the direct contrast with constant temperature.\\n    *   **Salinity:** Salinity is constant throughout the depths of the deep sea with two notable exceptions: the Mediterranean Sea and Brine pools.\\n*   **Zones (Depth-based):**\\n    *   **Mesopelagic:** 200 to 1,000 meters; the \"twilight zone\" with limited light.\\n    *   **Bathyal:** 1,000 to 4,000 meters; \"the midnight zone\" with no light.\\n    *   **Abyssal:** 4,000 to 6,000 meters; perpetual darkness and immense pressure.\\n    *   **Hadal:** Below 6,000 meters; the deepest trenches, like the Mariana Trench.\\n*   **Energy Sources (Detailed):**\\n    *   **Marine Snow:** Particulate organic matter sinking from the upper layers.\\n    *   **Occasional Surface Blooms:** Sudden influx of nutrients from plankton/algal blooms.\\n    *   **Whale Falls:** Carcasses providing a large amount of organic matter, supporting a succession of communities (scavengers, opportunistic colonizers, sulfophilic bacteria).\\n    *   **Chemosynthesis:**\\n        *   **Hydrothermal Vents:** Located at plate boundaries; bacteria use chemicals from vents for energy, forming the base of the food web.\\n        *   **Cold Seeps:** Areas of fluid seepage (hydrogen sulfide, methane); often form brine pools.\\n*   **Ecology:**\\n    *   Deep sea food webs are complex, and aspects of the system are poorly understood. Predator-prey interactions are studied through direct observation, stomach content analysis, and biochemical analysis.\\n    *   Deep sea mining has severe consequences for ocean ecosystems. The destruction of habitats, disturbance of sediment layers, and noise pollution threaten marine species.\\n*   **Deep Sea Research:**\\n    *   Less than 4% of the ocean floor has been explored.\\n    *   Submarines like DSV Alvin are used for exploration.\\n    *   Pressurized fish traps and capture devices (PERISCOP) are being developed to study deep-sea creatures alive at the surface.\\n\\n\\nBased on:\\n  https://en.wikipedia.org/wiki/Deep-sea_community', \"*   **Location:** Northeastern Pacific Ocean, 260 km southwest of Vancouver Island, British Columbia, Canada.\\n*   **Depth:** 2,250 meters (7,380 ft) below sea level.\\n*   **Discovery:** Active vent field confirmed in 1984. Dredged sulfide samples with tube worms were recovered in 1982.\\n*   **Temperature variation:** Temperatures differ at various depths, affecting microorganisms and invertebrates. Vent temperatures reported up to 402°C (756°F). Temperature ranges from 300°C to 2°C within a few meters.\\n*   **Microorganisms:** Dominated by proteobacteria and archaea. Many microbes have sulfur oxidizing or sulfur reducing metabolism, potentially leading to sulfur cycling. High flow areas are dominated by sulfur and hydrogen oxidizing bacteria, while low flow areas are dominated by heterotrophic bacteria. One sulfide-hosted microbe can live in environments up to 121 °C, the record for the upper limit for life.\\n*   **Invertebrates:** The tubeworm (Ridgeia piscesae) is a main invertebrate. Other invertebrates include spider crabs (Macroregonia macrochira), sulphide worms (Paralvinella sulfincola), limpets (Lepetodrilus), polynoid scaleworms, and palm worms (Paralvinellae palmiformis). Symbiotic vent bacteria provide nutrients to animals through chemosynthesis.\\n*   **Endemic species:** 12 endemic species identified, including the sea spider (Sericosura venticola).\\n*   **Marine mammals:** Dall's porpoise, sperm whales, Pacific white-sided dolphin, leatherback sea turtle, and northern elephant seal have been spotted in the area.\\n*   **Chemical Ecology:** Diverse chemical compositions, enriched in metal sulfides.\\n*   **Thermal Biology:** High-temperature venting and diffuse, low-temperature venting. Extreme conditions include elevated acidity, carbon dioxide (CO2), sulfide, anoxia, and metal ions.\\n*   **Biodiversity:** High biodiversity and productivity, providing habitats for unique species.\\n*   **Stability:** Vents are stable for most of the year, except for temperature spikes in April. Animals have adapted to rapid temperature changes.\\n\\nBased on:\\n  https://en.wikipedia.org/wiki/Endeavour_Hydrothermal_Vents\", 'The provided text focuses on sea monsters from folklore and alleged sightings, not on the survival of deep-sea creatures. Therefore, there is no relevant information in this source that addresses the user\\'s query about \"deep sea creatures survival.\"\\n\\n\\nBased on:\\n  https://en.wikipedia.org/wiki/Sea_monster', 'The provided text describes the plot of the movie \"Deep Rising,\" which features monstrous creatures in the deep sea that attack and kill the passengers and crew of a luxury cruise ship called the Argonautica. The creatures are later revealed to be tentacles of a vast deep-sea monster called the Octalus. The creatures drain their victims of their bodily fluids and then eject the bloody carcasses. Canton theorizes that the creatures are an evolution of the Ottoia.\\n\\n\\nBased on:\\n  https://en.wikipedia.org/wiki/Deep_Rising', 'The provided text focuses on the design, construction, and dives of the Deepsea Challenger submersible. It does not directly address the \"challenges of deep sea life.\" Therefore, I cannot extract relevant information about that topic from this source.\\n\\n\\nBased on:\\n  https://en.wikipedia.org/wiki/Deepsea_Challenger']\n"
          ]
        }
      ],
      "source": [
        "if fc.name == \"wikipedia_search\":\n",
        "    summaries = wikipedia_search(**fc.args)\n",
        "    print(f\"Function execution result: {summaries}\")"
      ]
    },
    {
      "cell_type": "markdown",
      "metadata": {
        "id": "kv4WGnG_gT3F"
      },
      "source": [
        "Now send the `summaries` to the model."
      ]
    },
    {
      "cell_type": "code",
      "execution_count": 19,
      "metadata": {
        "id": "bcLuieHqj9PW"
      },
      "outputs": [
        {
          "data": {
            "text/markdown": "> Deep-sea life survives in extreme conditions through a variety of adaptations. Here's a breakdown:\n> \n> 1.  **Environmental Challenges:** The deep sea presents several challenges, including perpetual darkness, immense pressure (20 to 1,000 atm), and cold temperatures.\n> \n> 2.  **Energy and Nutrient Sources:** The primary sources of energy are marine snow (particulate organic matter sinking from upper layers), occasional surface blooms, whale falls, and chemosynthesis at hydrothermal vents and cold seeps.\n> \n> 3.  **Adaptations to Pressure:** Deep-sea organisms have evolved to survive extreme pressure.\n> \n> 4.  **Deep-Sea Gigantism:** Some deep-sea animals exhibit gigantism, potentially due to colder temperatures, food scarcity, reduced predation, and increased dissolved oxygen. Examples include giant isopods and squids.\n> \n> 5.  **Hydrothermal Vents:** At hydrothermal vents, bacteria use chemicals for energy through chemosynthesis, forming the base of the food web. These vents can have extreme temperature variations.\n> \n> In summary, deep-sea life survives by adapting to the immense pressure, utilizing alternative food sources like chemosynthesis, and developing unique characteristics like gigantism.\n",
            "text/plain": [
              "<IPython.core.display.Markdown object>"
            ]
          },
          "execution_count": 19,
          "metadata": {},
          "output_type": "execute_result"
        }
      ],
      "source": [
        "# Create a function response part\n",
        "function_response_part = types.Part.from_function_response(\n",
        "    name=fc.name,\n",
        "    response={\"result\": summaries},\n",
        ")\n",
        "\n",
        "response = chat.send_message(function_response_part)\n",
        "\n",
        "to_markdown(response.text)"
      ]
    },
    {
      "cell_type": "markdown",
      "metadata": {
        "id": "L2Vfv8xpmuV1"
      },
      "source": [
        "## Re-ranking the search results"
      ]
    },
    {
      "cell_type": "markdown",
      "metadata": {
        "id": "cQ3JUJLeGGzA"
      },
      "source": [
        "Helper function to embed the content:"
      ]
    },
    {
      "cell_type": "code",
      "execution_count": 52,
      "metadata": {
        "cellView": "code",
        "id": "mSkE7EynJBwF"
      },
      "outputs": [],
      "source": [
        "from tqdm.auto import tqdm\n",
        "from google.genai import types\n",
        "\n",
        "tqdm.pandas()\n",
        "\n",
        "from google.api_core import retry\n",
        "import numpy as np\n",
        "\n",
        "def make_embed_text_fn(model):\n",
        "\n",
        "    @retry.Retry(timeout=300.0)\n",
        "    def embed_fn(texts: list[str]) -> list[list[float]]:\n",
        "        # Set the task_type to SEMANTIC_SIMILARITY and embed the batch of texts\n",
        "        embeddings = client.models.embed_content(\n",
        "            model=model,\n",
        "            contents=texts,\n",
        "            config=types.EmbedContentConfig(task_type=\"SEMANTIC_SIMILARITY\"),\n",
        "        ).embeddings\n",
        "        return np.array([embedding.values for embedding in embeddings])\n",
        "\n",
        "    return embed_fn\n",
        "\n",
        "\n",
        "def create_embeddings(content: list[str]) -> np.ndarray:\n",
        "    MODEL_ID = \"embedding-001\" # @param [\"embedding-001\", \"text-embedding-004\",\"gemini-embedding-exp-03-07\"] {\"allow-input\":true, isTemplate: true}\n",
        "    model = f\"models/{MODEL_ID}\"\n",
        "    embed_fn = make_embed_text_fn(model)\n",
        "\n",
        "    batch_size = 100  # at most 100 requests can be in one batch\n",
        "    all_embeddings = []\n",
        "\n",
        "    # Loop over the texts in chunks of batch_size\n",
        "    for i in tqdm(range(0, len(content), batch_size)):\n",
        "        batch = content[i:i + batch_size]\n",
        "        embeddings = embed_fn(batch)\n",
        "        all_embeddings.extend(embeddings)\n",
        "\n",
        "    return np.array(all_embeddings).reshape(len(all_embeddings), -1)"
      ]
    },
    {
      "cell_type": "markdown",
      "metadata": {
        "id": "tip8ArqJf_ep"
      },
      "source": [
        "Please refer to the [embeddings guide](https://ai.google.dev/docs/embeddings_guide) for more information on embeddings."
      ]
    },
    {
      "cell_type": "markdown",
      "metadata": {
        "id": "nSPyycFuFj-_"
      },
      "source": [
        "Your next step is to define functions that you can use to calculate similarity scores between two embedding vectors. These scores will help you decide which embedding vector is the most relevant vector to the user's query.\n"
      ]
    },
    {
      "cell_type": "markdown",
      "metadata": {
        "id": "ltbB0vDsKQtI"
      },
      "source": [
        "You will now implement cosine similarity as your metric. Here returned embedding vectors will be of unit length and so their L1 norm (`np.linalg.norm()`) will be ~1. Hence, calculating cosine similarity is esentially same as calculating their dot product score."
      ]
    },
    {
      "cell_type": "code",
      "execution_count": 53,
      "metadata": {
        "id": "9iDFdzq_JWJW"
      },
      "outputs": [],
      "source": [
        "def dot_product(a: np.ndarray, b: np.ndarray):\n",
        "  return (a @ b.T)"
      ]
    },
    {
      "cell_type": "markdown",
      "metadata": {
        "id": "MrF_1c_M_Hw3"
      },
      "source": [
        "### Similarity with user's query\n",
        "\n",
        "Now it's time to find the most relevant search result returned by the Wikipedia API.\n",
        "\n",
        "Use Gemini API to get embeddings for user's query and search results."
      ]
    },
    {
      "cell_type": "code",
      "execution_count": 62,
      "metadata": {
        "id": "gK9ryjftGDNe"
      },
      "outputs": [
        {
          "data": {
            "application/vnd.jupyter.widget-view+json": {
              "model_id": "186bb41225cb423d932ddedc59ade75d",
              "version_major": 2,
              "version_minor": 0
            },
            "text/plain": [
              "  0%|          | 0/1 [00:00<?, ?it/s]"
            ]
          },
          "metadata": {},
          "output_type": "display_data"
        },
        {
          "data": {
            "application/vnd.jupyter.widget-view+json": {
              "model_id": "1565bf6e73e9477abb60612213f71ec0",
              "version_major": 2,
              "version_minor": 0
            },
            "text/plain": [
              "  0%|          | 0/1 [00:00<?, ?it/s]"
            ]
          },
          "metadata": {},
          "output_type": "display_data"
        }
      ],
      "source": [
        "search_res = create_embeddings(summaries)\n",
        "embedded_query = create_embeddings([query])"
      ]
    },
    {
      "cell_type": "markdown",
      "metadata": {
        "id": "2wwWq30uGRG3"
      },
      "source": [
        "Calculate similarity score:"
      ]
    },
    {
      "cell_type": "code",
      "execution_count": 63,
      "metadata": {
        "id": "jWlFNYIsGV0X"
      },
      "outputs": [
        {
          "data": {
            "text/plain": [
              "array([[0.70439355],\n",
              "       [0.71418499],\n",
              "       [0.65326162],\n",
              "       [0.74787755],\n",
              "       [0.65874862],\n",
              "       [0.7342544 ]])"
            ]
          },
          "execution_count": 63,
          "metadata": {},
          "output_type": "execute_result"
        }
      ],
      "source": [
        "sim_value = dot_product(search_res, embedded_query)\n",
        "sim_value"
      ]
    },
    {
      "cell_type": "markdown",
      "metadata": {
        "id": "bJW1pQQXG2w2"
      },
      "source": [
        "using `np.argmax` best candidate is selected.\n",
        "\n",
        "**Users's Input:** Explain how deep-sea life survives.\n",
        "\n",
        "**Answer:**"
      ]
    },
    {
      "cell_type": "code",
      "execution_count": 64,
      "metadata": {
        "id": "8vDMDnCsG8Wn"
      },
      "outputs": [
        {
          "data": {
            "text/markdown": "> The provided text focuses on sea monsters from folklore and alleged sightings, not on the survival of deep-sea creatures. Therefore, there is no relevant information in this source that addresses the user's query about \"deep sea creatures survival.\"\n> \n> \n> Based on:\n>   https://en.wikipedia.org/wiki/Sea_monster",
            "text/plain": [
              "<IPython.core.display.Markdown object>"
            ]
          },
          "execution_count": 64,
          "metadata": {},
          "output_type": "execute_result"
        }
      ],
      "source": [
        "to_markdown(summaries[np.argmax(sim_value)])"
      ]
    },
    {
      "cell_type": "markdown",
      "metadata": {
        "id": "Ozn6mIFvoyJU"
      },
      "source": [
        "### Similarity with Hypothetical Document Embeddings (HyDE)\n",
        "\n",
        "Drawing inspiration from [Gao et al](https://arxiv.org/abs/2212.10496) the objective here is to generate a template answer to the user's query using `gemini-2.0-flash`'s internal knowledge. This hypothetical answer will serve as a baseline to calculate relevance of all the search results."
      ]
    },
    {
      "cell_type": "code",
      "execution_count": 57,
      "metadata": {
        "id": "J7m5KAkMREBH"
      },
      "outputs": [
        {
          "data": {
            "text/markdown": "> Okay, so imagine the deep sea, right? It's this crushing darkness, colder than a penguin's backside, and food is scarcer than hen's teeth. So how does *anything* survive down there? Well, it's a masterclass in adaptation, that's how.\n> \n> Firstly, think about the *pressure*. We're talking unimaginable weight pushing down on everything. Deep-sea creatures haven't just \"gotten used to it,\" they've actually evolved to *need* it. Their bodies are built differently. Instead of rigid bones that would shatter, many have flexible skeletons made of cartilage, like sharks. Others, like certain jellyfish, are almost entirely water, so they can equalize the pressure inside and out. Their cells also have special adaptations, like [Placeholder Specific Protein Name], that prevents them from collapsing under the immense force.\n> \n> Then there's the *lack of sunlight*. Photosynthesis? Forget about it. So, where does the energy come from? Well, much of the deep-sea ecosystem relies on what we call \"marine snow\" - this constant shower of dead organisms and waste falling from the sunlit surface layers. Imagine it like a slow, continuous buffet of [Placeholder Organic Compound]. Creatures have developed ingenious ways to filter this stuff out, with specialized [Placeholder Anatomical Feature] that act like tiny nets.\n> \n> But the *really* interesting stuff happens around hydrothermal vents. These are like underwater volcanoes, spewing out superheated water and chemicals from the Earth's core. Instead of sunlight, these vents support entire ecosystems based on chemosynthesis. Certain bacteria, like [Placeholder Bacterial Species Name], can convert chemicals like hydrogen sulfide into energy. These bacteria then become the food source for other creatures, like giant tube worms that have symbiotic relationships where they house the bacteria in special organs called [Placeholder Organ Name]. It's like a completely separate, self-sustaining world powered by the Earth's heat.\n> \n> Finally, you need to consider *reproduction* in such a sparse environment. Finding a mate is tough! So many deep-sea creatures have evolved bizarre adaptations. Some, like the anglerfish, use bioluminescence – light produced by chemical reactions – to lure prey and potential partners. The male anglerfish is often tiny compared to the female and permanently attaches itself to her, becoming essentially a parasitic sperm bank. It's a truly [Placeholder Adjective describing the mating practice] strategy.\n> \n> In short, survival in the deep sea is all about adapting to the extremes. It's a world of pressure, darkness, and scarce resources, but life finds a way, often in the most extraordinary and unexpected forms. The deep sea is truly a testament to the power of evolution, and there are probably countless other adaptations we haven't even discovered yet. I suspect there are even [Placeholder Hypothetical Lifeform] down there somewhere!\n",
            "text/plain": [
              "<IPython.core.display.Markdown object>"
            ]
          },
          "execution_count": 57,
          "metadata": {},
          "output_type": "execute_result"
        }
      ],
      "source": [
        "res = client.models.generate_content(model=model,\n",
        "                                contents=f\"\"\"Generate a hypothetical answer\n",
        "to the user's query by using your own knowledge. Assume that you know everything\n",
        "about the said topic. Do not use factual information, instead use placeholders\n",
        "to complete your answer. Your answer should feel like it has been written by a human.\n",
        "\n",
        "query: {query}\"\"\",)\n",
        "\n",
        "to_markdown(res.text)"
      ]
    },
    {
      "cell_type": "markdown",
      "metadata": {
        "id": "85f4MpLgrYbW"
      },
      "source": [
        "Use Gemini API to get embeddings for the baseline answer and compare them with search results"
      ]
    },
    {
      "cell_type": "code",
      "execution_count": 58,
      "metadata": {
        "id": "fSI6-5eYI3me"
      },
      "outputs": [
        {
          "data": {
            "application/vnd.jupyter.widget-view+json": {
              "model_id": "ff77a3ff948548a1a5569dd21c70656e",
              "version_major": 2,
              "version_minor": 0
            },
            "text/plain": [
              "  0%|          | 0/1 [00:00<?, ?it/s]"
            ]
          },
          "metadata": {},
          "output_type": "display_data"
        }
      ],
      "source": [
        "hypothetical_ans = create_embeddings([res.text])"
      ]
    },
    {
      "cell_type": "markdown",
      "metadata": {
        "id": "WxYGEWbqrh44"
      },
      "source": [
        "Calculate similarity scores to rank the search results"
      ]
    },
    {
      "cell_type": "code",
      "execution_count": 59,
      "metadata": {
        "id": "99sjvMtlJfL_"
      },
      "outputs": [
        {
          "data": {
            "text/plain": [
              "array([[0.75814509],\n",
              "       [0.81477369],\n",
              "       [0.71075259],\n",
              "       [0.71510846],\n",
              "       [0.71162398],\n",
              "       [0.72665937]])"
            ]
          },
          "execution_count": 59,
          "metadata": {},
          "output_type": "execute_result"
        }
      ],
      "source": [
        "sim_value = dot_product(search_res, hypothetical_ans)\n",
        "sim_value"
      ]
    },
    {
      "cell_type": "markdown",
      "metadata": {
        "id": "wJ7pklxursSk"
      },
      "source": [
        "using `np.argmax` best candidate is selected.\n",
        "\n",
        "**Users's Input:** Explain how deep-sea life survives.\n",
        "\n",
        "**Answer:**"
      ]
    },
    {
      "cell_type": "code",
      "execution_count": 60,
      "metadata": {
        "id": "MzTfyU_mJ8-M"
      },
      "outputs": [
        {
          "data": {
            "text/markdown": "> Here's the extracted information about deep-sea ecosystems from the provided text:\n> \n> *   **Definition:** A deep-sea community is any community of organisms associated by a shared habitat in the deep sea.\n> *   **Exploration Status:** Deep-sea communities remain largely unexplored due to technological, logistical challenges, and expense.\n> *   **Historical Beliefs:** It was long believed that little life existed in the deep sea due to the extreme conditions (high pressure, temperature extremes, absence of light). Research since the 19th century has demonstrated significant biodiversity.\n> *   **Energy and Nutrient Sources:** The three main sources of energy and nutrients for deep sea communities are:\n>     *   Marine snow\n>     *   Whale falls\n>     *   Chemosynthesis at hydrothermal vents and cold seeps\n> *   **Environment:**\n>     *   **Darkness:** The aphotic zone, a region of perpetual darkness, extends from the bottom of the photic zone (where sunlight penetrates) down to the seabed.\n>     *   **Hyperbaricity:** Pressure increases by about one atmosphere every ten meters. Deep-sea organisms have evolved adaptations to survive extreme pressure. The range of pressure is from 20 to 1,000 atm.\n>     *   **Temperature:** Below the thermocline, the water mass of the deep ocean is cold and far more homogeneous. At any given depth, the temperature is practically unvarying over long periods of time. Hydrothermal vents are the direct contrast with constant temperature.\n>     *   **Salinity:** Salinity is constant throughout the depths of the deep sea with two notable exceptions: the Mediterranean Sea and Brine pools.\n> *   **Zones (Depth-based):**\n>     *   **Mesopelagic:** 200 to 1,000 meters; the \"twilight zone\" with limited light.\n>     *   **Bathyal:** 1,000 to 4,000 meters; \"the midnight zone\" with no light.\n>     *   **Abyssal:** 4,000 to 6,000 meters; perpetual darkness and immense pressure.\n>     *   **Hadal:** Below 6,000 meters; the deepest trenches, like the Mariana Trench.\n> *   **Energy Sources (Detailed):**\n>     *   **Marine Snow:** Particulate organic matter sinking from the upper layers.\n>     *   **Occasional Surface Blooms:** Sudden influx of nutrients from plankton/algal blooms.\n>     *   **Whale Falls:** Carcasses providing a large amount of organic matter, supporting a succession of communities (scavengers, opportunistic colonizers, sulfophilic bacteria).\n>     *   **Chemosynthesis:**\n>         *   **Hydrothermal Vents:** Located at plate boundaries; bacteria use chemicals from vents for energy, forming the base of the food web.\n>         *   **Cold Seeps:** Areas of fluid seepage (hydrogen sulfide, methane); often form brine pools.\n> *   **Ecology:**\n>     *   Deep sea food webs are complex, and aspects of the system are poorly understood. Predator-prey interactions are studied through direct observation, stomach content analysis, and biochemical analysis.\n>     *   Deep sea mining has severe consequences for ocean ecosystems. The destruction of habitats, disturbance of sediment layers, and noise pollution threaten marine species.\n> *   **Deep Sea Research:**\n>     *   Less than 4% of the ocean floor has been explored.\n>     *   Submarines like DSV Alvin are used for exploration.\n>     *   Pressurized fish traps and capture devices (PERISCOP) are being developed to study deep-sea creatures alive at the surface.\n> \n> \n> Based on:\n>   https://en.wikipedia.org/wiki/Deep-sea_community",
            "text/plain": [
              "<IPython.core.display.Markdown object>"
            ]
          },
          "execution_count": 60,
          "metadata": {},
          "output_type": "execute_result"
        }
      ],
      "source": [
        "to_markdown(summaries[np.argmax(sim_value)])"
      ]
    },
    {
      "cell_type": "markdown",
      "metadata": {
        "id": "UjDN2OUpsL6M"
      },
      "source": [
        "You have now created a search re-ranking engine using embeddings!"
      ]
    },
    {
      "cell_type": "markdown",
      "metadata": {
        "id": "AKH2vs2Lc1R1"
      },
      "source": [
        "## Next steps\n",
        "\n",
        "I hope you found this example helpful! Check out more examples in the [Gemini Guide](https://github.com/google-gemini/gemini-guide/) to learn more."
      ]
    }
  ],
  "metadata": {
    "colab": {
      "name": "Search_reranking_using_embeddings.ipynb",
      "toc_visible": true
    },
    "kernelspec": {
      "display_name": "Python 3",
      "name": "python3"
    }
  },
  "nbformat": 4,
  "nbformat_minor": 0
}
