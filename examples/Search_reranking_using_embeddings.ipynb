{
  "cells": [
    {
      "cell_type": "markdown",
      "metadata": {
        "id": "Tce3stUlHN0L"
      },
      "source": [
        "##### Copyright 2025 Google LLC."
      ]
    },
    {
      "cell_type": "code",
      "execution_count": 24,
      "metadata": {
        "cellView": "form",
        "id": "tuOe1ymfHZPu"
      },
      "outputs": [],
      "source": [
        "# @title Licensed under the Apache License, Version 2.0 (the \"License\");\n",
        "# you may not use this file except in compliance with the License.\n",
        "# You may obtain a copy of the License at\n",
        "#\n",
        "# https://www.apache.org/licenses/LICENSE-2.0\n",
        "#\n",
        "# Unless required by applicable law or agreed to in writing, software\n",
        "# distributed under the License is distributed on an \"AS IS\" BASIS,\n",
        "# WITHOUT WARRANTIES OR CONDITIONS OF ANY KIND, either express or implied.\n",
        "# See the License for the specific language governing permissions and\n",
        "# limitations under the License."
      ]
    },
    {
      "cell_type": "markdown",
      "metadata": {
        "id": "oJt4OFKPgO8C"
      },
      "source": [
        "# Search re-ranking using Gemini embeddings"
      ]
    },
    {
      "cell_type": "markdown",
      "metadata": {
        "id": "k5n0sCc_fKcB"
      },
      "source": [
        "<a target=\"_blank\" href=\"https://colab.research.google.com/github/google-gemini/cookbook/blob/main/examples/Search_reranking_using_embeddings.ipynb\"><img src=\"https://colab.research.google.com/assets/colab-badge.svg\" height=30/>"
      ]
    },
    {
      "cell_type": "markdown",
      "metadata": {
        "id": "0UO0Cgq0mRlG"
      },
      "source": [
        "This notebook demonstrates the use of embeddings to re-rank search results. This walkthrough will focus on the following objectives:\n",
        "\n",
        "\n",
        "\n",
        "1.   Setting up your development environment and API access to use Gemini.\n",
        "2.   Using Gemini's function calling support to access the Wikipedia API.\n",
        "3.   Embedding content via Gemini API.\n",
        "4.   Re-ranking the search results.\n"
      ]
    },
    {
      "cell_type": "markdown",
      "metadata": {
        "id": "-e5Aje-DTQOq"
      },
      "source": [
        "This is how you will implement search re-ranking:\n",
        "\n",
        "\n",
        "1.   The user will make a search query.\n",
        "2.   You will use Wikipedia API to return the relevant search results.\n",
        "3.   The search results will be embedded and their relevance will be evaluated by calculating distance metrics like cosine similarity.\n",
        "4.   The most relevant search result will be returned as the final answer."
      ]
    },
    {
      "cell_type": "markdown",
      "metadata": {
        "id": "rpVL_QrF5-oF"
      },
      "source": [
        "> The non-source code materials in this notebook are licensed under Creative Commons - Attribution-ShareAlike CC-BY-SA 4.0, https://creativecommons.org/licenses/by-sa/4.0/legalcode."
      ]
    },
    {
      "cell_type": "markdown",
      "metadata": {
        "id": "pwImlRg9DUp7"
      },
      "source": [
        "## Setup\n"
      ]
    },
    {
      "cell_type": "code",
      "execution_count": 25,
      "metadata": {
        "id": "Nv_6f_qNHe_2"
      },
      "outputs": [],
      "source": [
        "%pip install -q -U \"google-genai>=1.0.0\""
      ]
    },
    {
      "cell_type": "code",
      "execution_count": 26,
      "metadata": {
        "id": "5999faf240a4"
      },
      "outputs": [],
      "source": [
        "%pip install -q wikipedia"
      ]
    },
    {
      "cell_type": "markdown",
      "metadata": {
        "id": "739f0bb73f05"
      },
      "source": [
        "Note: The [`wikipedia` package](https://pypi.org/project/wikipedia/) notes that it was \"designed for ease of use and simplicity, not for advanced use\", and that production or heavy use should instead \"use [Pywikipediabot](http://www.mediawiki.org/wiki/Manual:Pywikipediabot) or one of the other more advanced [Python MediaWiki API wrappers](http://en.wikipedia.org/wiki/Wikipedia:Creating_a_bot#Python)\"."
      ]
    },
    {
      "cell_type": "code",
      "execution_count": 27,
      "metadata": {
        "id": "D0qOtLI3FVid"
      },
      "outputs": [],
      "source": [
        "import json\n",
        "import textwrap\n",
        "\n",
        "import wikipedia\n",
        "from wikipedia.exceptions import DisambiguationError, PageError\n",
        "\n",
        "import numpy as np\n",
        "\n",
        "from IPython.display import Markdown\n",
        "\n",
        "def to_markdown(text):\n",
        "  text = text.replace('•', '  *')\n",
        "  return Markdown(textwrap.indent(text, '> ', predicate=lambda _: True))"
      ]
    },
    {
      "cell_type": "markdown",
      "metadata": {
        "id": "aeo_9J9iDtCx"
      },
      "source": [
        "To run the following cell, your API key must be stored it in a Colab Secret named `GOOGLE_API_KEY`. If you don't already have an API key, or you're not sure how to create a Colab Secret, see the [Authentication](https://github.com/google-gemini/cookbook/blob/main/quickstarts/Authentication.ipynb) quickstart for an example."
      ]
    },
    {
      "cell_type": "code",
      "execution_count": 28,
      "metadata": {
        "id": "yxzEH0GqLshI"
      },
      "outputs": [],
      "source": [
        "from google.colab import userdata\n",
        "from google import genai\n",
        "API_KEY = userdata.get('GOOGLE_API_KEY')\n",
        "client = genai.Client(api_key=API_KEY)"
      ]
    },
    {
      "cell_type": "markdown",
      "metadata": {
        "id": "0hkJSFIWI7G1"
      },
      "source": [
        "## Define tools"
      ]
    },
    {
      "cell_type": "markdown",
      "metadata": {
        "id": "7HjN6hsAJkOq"
      },
      "source": [
        "As stated earlier, this tutorial uses Gemini's function calling support to access the Wikipedia API. Please refer to the [docs](https://ai.google.dev/docs/function_calling) to learn more about function calling."
      ]
    },
    {
      "cell_type": "markdown",
      "metadata": {
        "id": "fpFkazXUenkK"
      },
      "source": [
        "### Step 1: Define the search function"
      ]
    },
    {
      "cell_type": "markdown",
      "metadata": {
        "id": "2fp-m-5Ke0XY"
      },
      "source": [
        "To cater to the search engine needs, you will design this function in the following way:\n",
        "\n",
        "\n",
        "*   For each search query, the search engine will use the `wikipedia.search` method to get relevant topics.\n",
        "*   From the relevant topics, the engine will choose `n_topics(int)` top candidates and will use `gemini-2.0-flash` to extract relevant information from the page.\n",
        "*   The engine will avoid duplicate entries by maintaining a search history.\n"
      ]
    },
    {
      "cell_type": "code",
      "execution_count": 34,
      "metadata": {
        "id": "2U27tdP8OBys",
        "cellView": "code"
      },
      "outputs": [],
      "source": [
        "from google.genai import types\n",
        "from typing import List\n",
        "\n",
        "# This is the actual function that would be called based on the model's suggestion\n",
        "# Define the function with type hints and docstring\n",
        "def wikipedia_search(search_queries: List[str]) -> List[str]:\n",
        "  \"\"\"Search wikipedia for each query and summarize relevant docs.\n",
        "    Args:\n",
        "        search_queries: The user query to search wikipedia.\n",
        "\n",
        "    Returns:\n",
        "        A list of relevant information from wikipedia based on the query.\n",
        "  \"\"\"\n",
        "  n_topics=3\n",
        "  search_history = set() # tracking search history\n",
        "  search_urls = []\n",
        "\n",
        "  # Note: newer models have more limited quota for API calls\n",
        "  MODEL_ID=\"gemini-2.0-flash\" # @param [\"gemini-2.0-flash-lite\",\"gemini-2.0-flash\",\"gemini-2.5-pro-exp-03-25\"] {\"allow-input\":true, isTemplate: true}\n",
        "  model=f\"models/{MODEL_ID}\"\n",
        "  summary_results = []\n",
        "\n",
        "  for query in search_queries:\n",
        "    print(f'Searching for \"{query}\"')\n",
        "    search_terms = wikipedia.search(query)\n",
        "\n",
        "    print(f\"Related search terms: {search_terms[:n_topics]}\")\n",
        "    for search_term in search_terms[:n_topics]: # select first `n_topics` candidates\n",
        "      if search_term in search_history: # check if the topic is already covered\n",
        "        continue\n",
        "\n",
        "      print(f'Fetching page: \"{search_term}\"')\n",
        "      search_history.add(search_term) # add to search history\n",
        "\n",
        "      try:\n",
        "        # extract the relevant data by using `gemini-2.0-flash` model\n",
        "        page = wikipedia.page(search_term, auto_suggest=False)\n",
        "        url = page.url\n",
        "        print(f\"Information Source: {url}\")\n",
        "        search_urls.append(url)\n",
        "        page = page.content\n",
        "        response = client.models.generate_content(model=model,\n",
        "                                                  contents=textwrap.dedent(f\"\"\"\\\n",
        "                                                        Extract relevant information\n",
        "                                                        about user's query: {query}\n",
        "                                                        From this source:\n",
        "\n",
        "                                                        {page}\n",
        "\n",
        "                                                        Note: Do not summarize. Only Extract and return the relevant information\n",
        "                                                        \"\"\"),)\n",
        "        urls = [url]\n",
        "        if response.candidates[0].citation_metadata:\n",
        "          extra_citations = response.candidates[0].citation_metadata.citation_sources\n",
        "          extra_urls = [source.url for source in extra_citations]\n",
        "          urls.extend(extra_urls)\n",
        "          search_urls.extend(extra_urls)\n",
        "          print(\"Additional citations:\", response.candidates[0].citation_metadata.citation_sources)\n",
        "        try:\n",
        "          text = response.text\n",
        "        except ValueError:\n",
        "          pass\n",
        "        else:\n",
        "          summary_results.append(text + \"\\n\\nBased on:\\n  \" + ',\\n  '.join(urls))\n",
        "\n",
        "      except DisambiguationError:\n",
        "        print(f\"\"\"Results when searching for \"{search_term}\" (originally for \"{query}\")\n",
        "        were ambiguous, hence skipping\"\"\")\n",
        "        continue\n",
        "\n",
        "      except PageError:\n",
        "        print(f'{search_term} did not match with any page id, hence skipping.')\n",
        "        continue\n",
        "\n",
        "      except:\n",
        "        print(f'{search_term} did not match with any page id, hence skipping.')\n",
        "        continue\n",
        "\n",
        "  print(f\"Information Sources:\")\n",
        "  for url in search_urls:\n",
        "    print('    ', url)\n",
        "\n",
        "  return summary_results\n"
      ]
    },
    {
      "cell_type": "code",
      "execution_count": 30,
      "metadata": {
        "id": "EWKkkKDXmzOX",
        "outputId": "59587ed1-abcc-4e29-9531-3295fada84b7",
        "colab": {
          "base_uri": "https://localhost:8080/"
        }
      },
      "outputs": [
        {
          "output_type": "stream",
          "name": "stdout",
          "text": [
            "Searching for \"What are LLMs?\"\n",
            "Related search terms: ['Large language model', 'Retrieval-augmented generation', 'Vibe coding']\n",
            "Fetching page: \"Large language model\"\n",
            "Information Source: https://en.wikipedia.org/wiki/Large_language_model\n",
            "Large language model did not match with any page id, hence skipping.\n",
            "Fetching page: \"Retrieval-augmented generation\"\n",
            "Information Source: https://en.wikipedia.org/wiki/Retrieval-augmented_generation\n",
            "Retrieval-augmented generation did not match with any page id, hence skipping.\n",
            "Fetching page: \"Vibe coding\"\n",
            "Information Source: https://en.wikipedia.org/wiki/Vibe_coding\n",
            "Information Sources:\n",
            "     https://en.wikipedia.org/wiki/Large_language_model\n",
            "     https://en.wikipedia.org/wiki/Retrieval-augmented_generation\n",
            "     https://en.wikipedia.org/wiki/Vibe_coding\n"
          ]
        }
      ],
      "source": [
        "example = wikipedia_search([\"What are LLMs?\"])"
      ]
    },
    {
      "cell_type": "markdown",
      "metadata": {
        "id": "8bPT114QEPgW"
      },
      "source": [
        "Here is what the search results look like:"
      ]
    },
    {
      "cell_type": "code",
      "execution_count": 31,
      "metadata": {
        "id": "8wy7YUFqEYTv",
        "outputId": "d0ee3241-e097-4c5c-87ea-279324382e38",
        "colab": {
          "base_uri": "https://localhost:8080/",
          "height": 138
        }
      },
      "outputs": [
        {
          "output_type": "display_data",
          "data": {
            "text/plain": [
              "<IPython.core.display.Markdown object>"
            ],
            "text/markdown": "> *   LLMs are large language models tuned for coding, used in vibe coding to generate software from natural language prompts.\n> *   Vibe coding relies on LLMs, allowing programmers to generate working code by providing natural language descriptions rather than manually writing it.\n> *   The capabilities of LLMs were such that humans would no longer need to learn specific programming languages to command computers.\n> \n> \n> Based on:\n>   https://en.wikipedia.org/wiki/Vibe_coding"
          },
          "metadata": {}
        }
      ],
      "source": [
        "from IPython.display import display\n",
        "\n",
        "for e in example:\n",
        "  display(to_markdown(e))"
      ]
    },
    {
      "cell_type": "markdown",
      "metadata": {
        "id": "SKcH1LICeg5Z"
      },
      "source": [
        "### Step 2: Automatic Function Calling (Python Only)"
      ]
    },
    {
      "cell_type": "markdown",
      "metadata": {
        "id": "qQcxR7cjLjGM"
      },
      "source": [
        "When using the Python SDK, you can provide Python functions directly as tools. The SDK automatically converts the Python function to declarations, handles the function call execution and response cycle for you. The Python SDK then automatically:\n",
        "\n",
        "- Detects function call responses from the model.\n",
        "- Call the corresponding Python function in your code.\n",
        "- Sends the function response back to the model.\n",
        "- Returns the model's final text response.\n",
        "\n",
        "To use this, define your function with type hints and a docstring, and then pass the function itself (not a JSON declaration) as a tool:\n",
        "\n",
        "Note: This approach only handles annotations of `AllowedType = (int | float | bool | str | list['AllowedType'] | dict[str, AllowedType])`"
      ]
    },
    {
      "cell_type": "code",
      "execution_count": 35,
      "metadata": {
        "id": "39kqTnBRLDeQ"
      },
      "outputs": [],
      "source": [
        "config = types.GenerateContentConfig(\n",
        "    tools=[wikipedia_search]\n",
        ") # Pass the function itself"
      ]
    },
    {
      "cell_type": "markdown",
      "metadata": {
        "id": "VedPbpzlh6jX"
      },
      "source": [
        "## Generate supporting search queries"
      ]
    },
    {
      "cell_type": "markdown",
      "metadata": {
        "id": "5sLKZik7isBW"
      },
      "source": [
        "In order to have multiple supporting search queries to the user's original query, you will ask the model to generate more such queries. This would help the engine to cover the asked question on comprehensive levels."
      ]
    },
    {
      "cell_type": "code",
      "execution_count": 33,
      "metadata": {
        "id": "Z-Ym3H9KIosY"
      },
      "outputs": [],
      "source": [
        "instructions = \"\"\"You have access to the Wikipedia API which you will be using\n",
        "to answer a user's query. Your job is to generate a list of search queries which\n",
        "might answer a user's question. Be creative by using various key-phrases from\n",
        "the user's query. To generate variety of queries, ask questions which are\n",
        "related to the user's query that might help to find the answer. The more\n",
        "queries you generate the better are the odds of you finding the correct answer.\n",
        "Here is an example:\n",
        "\n",
        "user: Tell me about Cricket World cup 2023 winners.\n",
        "\n",
        "function_call: wikipedia_search(['What is the name of the team that\n",
        "won the Cricket World Cup 2023?', 'Who was the captain of the Cricket World Cup\n",
        "2023 winning team?', 'Which country hosted the Cricket World Cup 2023?', 'What\n",
        "was the venue of the Cricket World Cup 2023 final match?', 'Cricket World cup 2023',\n",
        "'Who lifted the Cricket World Cup 2023 trophy?'])\n",
        "\n",
        "The search function will return a list of article summaries, use these to\n",
        "answer the  user's question.\n",
        "\n",
        "Here is the user's query: {query}\n",
        "\"\"\""
      ]
    },
    {
      "cell_type": "markdown",
      "metadata": {
        "id": "3Wyn3lV-d5S_"
      },
      "source": [
        "In order to yield creative and a more random variety of questions, you will set the model's temperature parameter to a value higher. Values can range from [0.0,1.0], inclusive. A value closer to 1.0 will produce responses that are more varied and creative, while a value closer to 0.0 will typically result in more straightforward responses from the model."
      ]
    },
    {
      "cell_type": "markdown",
      "metadata": {
        "id": "TD1vU6FXhYO5"
      },
      "source": [
        "## Enable automatic function calling and call the API"
      ]
    },
    {
      "cell_type": "markdown",
      "metadata": {
        "id": "qyUSnXJ5hg6x"
      },
      "source": [
        "Now start a new chat with `enable_automatic_function_calling=True`. With it enabled, the `genai.ChatSession` will handle the back and forth required to call the function, and return the final response:"
      ]
    },
    {
      "cell_type": "code",
      "execution_count": 36,
      "metadata": {
        "id": "ZNJqA60yKNpT",
        "cellView": "code",
        "outputId": "5ff5d389-e856-4f2d-9def-3b2ebc84a29e",
        "colab": {
          "base_uri": "https://localhost:8080/"
        }
      },
      "outputs": [
        {
          "output_type": "stream",
          "name": "stdout",
          "text": [
            "Searching for \"deep-sea life adaptations\"\n",
            "Related search terms: ['Deep sea', 'Deep-sea fish', 'Deep-sea gigantism']\n",
            "Fetching page: \"Deep sea\"\n",
            "Information Source: https://en.wikipedia.org/wiki/Deep_sea\n",
            "Deep sea did not match with any page id, hence skipping.\n",
            "Fetching page: \"Deep-sea fish\"\n",
            "Information Source: https://en.wikipedia.org/wiki/Deep-sea_fish\n",
            "Deep-sea fish did not match with any page id, hence skipping.\n",
            "Fetching page: \"Deep-sea gigantism\"\n",
            "Information Source: https://en.wikipedia.org/wiki/Deep-sea_gigantism\n",
            "Deep-sea gigantism did not match with any page id, hence skipping.\n",
            "Searching for \"deep-sea ecosystems\"\n",
            "Related search terms: ['Deep-sea community', 'Deep sea mining', 'Deep sea']\n",
            "Fetching page: \"Deep-sea community\"\n",
            "Information Source: https://en.wikipedia.org/wiki/Deep-sea_community\n",
            "Fetching page: \"Deep sea mining\"\n",
            "Information Source: https://en.wikipedia.org/wiki/Deep_sea_mining\n",
            "Deep sea mining did not match with any page id, hence skipping.\n",
            "Searching for \"hydrothermal vent life\"\n",
            "Related search terms: ['Hydrothermal vent', 'Endeavour Hydrothermal Vents', 'Hydrothermal vent microbial communities']\n",
            "Fetching page: \"Hydrothermal vent\"\n",
            "Information Source: https://en.wikipedia.org/wiki/Hydrothermal_vent\n",
            "Hydrothermal vent did not match with any page id, hence skipping.\n",
            "Fetching page: \"Endeavour Hydrothermal Vents\"\n",
            "Information Source: https://en.wikipedia.org/wiki/Endeavour_Hydrothermal_Vents\n",
            "Endeavour Hydrothermal Vents did not match with any page id, hence skipping.\n",
            "Fetching page: \"Hydrothermal vent microbial communities\"\n",
            "Information Source: https://en.wikipedia.org/wiki/Hydrothermal_vent_microbial_communities\n",
            "Hydrothermal vent microbial communities did not match with any page id, hence skipping.\n",
            "Searching for \"deep-sea food sources\"\n",
            "Related search terms: ['Deep-sea fish', 'Deep sea', 'Deep-sea community']\n",
            "Searching for \"pressure effects on deep-sea life\"\n",
            "Related search terms: ['Deep sea', 'Deep-sea gigantism', 'Deep-sea community']\n",
            "Searching for \"deep-sea bioluminescence\"\n",
            "Related search terms: ['Bioluminescence', 'Deep sea', 'Deep-sea fish']\n",
            "Fetching page: \"Bioluminescence\"\n",
            "Information Source: https://en.wikipedia.org/wiki/Bioluminescence\n",
            "Bioluminescence did not match with any page id, hence skipping.\n",
            "Searching for \"challenges of deep-sea environment\"\n",
            "Related search terms: ['Deep-sea community', 'Deepsea Challenger', 'Deep sea']\n",
            "Fetching page: \"Deepsea Challenger\"\n",
            "Information Source: https://en.wikipedia.org/wiki/Deepsea_Challenger\n",
            "Searching for \"how do organisms survive in the deep sea?\"\n",
            "Related search terms: ['Deep sea', 'Deep-sea fish', 'Hydrothermal vent']\n",
            "Searching for \"deep sea chemosynthesis\"\n",
            "Related search terms: ['Deep-sea community', 'Deep sea', 'Chemosynthesis']\n",
            "Fetching page: \"Chemosynthesis\"\n",
            "Information Source: https://en.wikipedia.org/wiki/Chemosynthesis\n",
            "Chemosynthesis did not match with any page id, hence skipping.\n",
            "Information Sources:\n",
            "     https://en.wikipedia.org/wiki/Deep_sea\n",
            "     https://en.wikipedia.org/wiki/Deep-sea_fish\n",
            "     https://en.wikipedia.org/wiki/Deep-sea_gigantism\n",
            "     https://en.wikipedia.org/wiki/Deep-sea_community\n",
            "     https://en.wikipedia.org/wiki/Deep_sea_mining\n",
            "     https://en.wikipedia.org/wiki/Hydrothermal_vent\n",
            "     https://en.wikipedia.org/wiki/Endeavour_Hydrothermal_Vents\n",
            "     https://en.wikipedia.org/wiki/Hydrothermal_vent_microbial_communities\n",
            "     https://en.wikipedia.org/wiki/Bioluminescence\n",
            "     https://en.wikipedia.org/wiki/Deepsea_Challenger\n",
            "     https://en.wikipedia.org/wiki/Chemosynthesis\n"
          ]
        }
      ],
      "source": [
        "MODEL_ID=\"gemini-2.0-flash\" # @param [\"gemini-2.0-flash-lite\",\"gemini-2.0-flash\",\"gemini-2.5-pro-exp-03-25\"] {\"allow-input\":true, isTemplate: true}\n",
        "model=f\"models/{MODEL_ID}\"\n",
        "\n",
        "chat = client.chats.create(model=model, config=config, history=[])\n",
        "\n",
        "query = \"Explain how deep-sea life survives.\"\n",
        "\n",
        "response = chat.send_message(instructions.format(query=query))"
      ]
    },
    {
      "cell_type": "code",
      "execution_count": 37,
      "metadata": {
        "id": "1l8KWb13M_lJ",
        "outputId": "e3798378-827d-41eb-cca0-cc398eb70b71",
        "colab": {
          "base_uri": "https://localhost:8080/",
          "height": 294
        }
      },
      "outputs": [
        {
          "output_type": "execute_result",
          "data": {
            "text/plain": [
              "<IPython.core.display.Markdown object>"
            ],
            "text/markdown": "> Deep-sea life survives in a challenging environment characterized by perpetual darkness, immense pressure, cold temperatures, and limited food sources. Here's a breakdown of the key adaptations and strategies:\n> \n> *   **Energy Sources:** Deep-sea communities rely on three primary energy sources: marine snow (particulate organic matter sinking from the photic zone), whale falls (carcasses providing a large input of organic matter), and chemosynthesis at hydrothermal vents and cold seeps. Chemosynthesis is a process where bacteria use chemicals like hydrogen sulfide and methane to produce energy, forming the base of the food web in these unique environments.\n> *   **Adaptations to Pressure:** Organisms have developed several adaptations to cope with extreme pressure, including small size, gelatinous flesh, minimal skeletal structure, and the elimination of excess cavities.\n> *   **Zones:** The deep sea is divided into zones: mesopelagic, bathyal, abyssal, and hadal, each with distinct characteristics and inhabitants adapted to specific conditions.\n> *   **Chemosynthesis:** At hydrothermal vents and cold seeps, chemosynthetic bacteria provide energy for the ecosystem.\n> *   **Food webs:** Deep-sea food webs are complex and still being studied. Predator-prey interactions, the role of gelatinous zooplankton, and the impact of deep-sea mining are important areas of research.\n> *   **Darkness:** Adaptations include reliance on material sinking from above or chemosynthesis.\n"
          },
          "metadata": {},
          "execution_count": 37
        }
      ],
      "source": [
        "to_markdown(response.text)"
      ]
    },
    {
      "cell_type": "markdown",
      "metadata": {
        "id": "ua7DPlj7HZyO"
      },
      "source": [
        "Check for additional citations:"
      ]
    },
    {
      "cell_type": "code",
      "execution_count": 39,
      "metadata": {
        "id": "ASotq7EcHAeo",
        "outputId": "0e719647-e2a5-484f-d564-7af1f74c946f",
        "colab": {
          "base_uri": "https://localhost:8080/",
          "height": 35
        }
      },
      "outputs": [
        {
          "output_type": "execute_result",
          "data": {
            "text/plain": [
              "'No citations found'"
            ],
            "application/vnd.google.colaboratory.intrinsic+json": {
              "type": "string"
            }
          },
          "metadata": {},
          "execution_count": 39
        }
      ],
      "source": [
        "response.candidates[0].citation_metadata or 'No citations found'"
      ]
    },
    {
      "cell_type": "markdown",
      "metadata": {
        "id": "A0CfKMjYFSQm"
      },
      "source": [
        "That looks like it worked. You can go through the chat history to see the details of what was sent and received in the function calls:"
      ]
    },
    {
      "cell_type": "code",
      "execution_count": 43,
      "metadata": {
        "id": "_9h2b8saNnxh",
        "outputId": "a4502584-2879-4954-fc77-f824f997e2c3",
        "colab": {
          "base_uri": "https://localhost:8080/",
          "height": 735
        }
      },
      "outputs": [
        {
          "output_type": "display_data",
          "data": {
            "text/plain": [
              "<IPython.core.display.Markdown object>"
            ],
            "text/markdown": "###user:"
          },
          "metadata": {}
        },
        {
          "output_type": "display_data",
          "data": {
            "text/plain": [
              "<IPython.core.display.Markdown object>"
            ],
            "text/markdown": "You have access to the Wikipedia API which you will be using\nto answer a user's query. Your job is to generate a list of search queries which\nmight answer a user's question. Be creative by using various key-phrases from\nthe user's query. To generate variety of queries, ask questions which are\nrelated to the user's query that might help to find the answer. The more\nqueries you generate the better are the odds of you finding the correct answer.\nHere is an example:\n\nuser: Tell me about Cricket World cup 2023 winners.\n\nfunction_call: wikipedia_search(['What is the name of the team that\nwon the Cricket World Cup 2023?', 'Who was the captain of the Cricket World Cup\n2023 winning team?', 'Which country hosted the Cricket World Cup 2023?', 'What\nwas the venue of the Cricket World Cup 2023 final match?', 'Cricket World cup 2023',\n'Who lifted the Cricket World Cup 2023 trophy?'])\n\nThe search function will return a list of article summaries, use these to\nanswer the  user's question.\n\nHere is the user's query: Explain how deep-sea life survives.\n"
          },
          "metadata": {}
        },
        {
          "output_type": "stream",
          "name": "stdout",
          "text": [
            "--------------------------------------------------------------------------------\n"
          ]
        },
        {
          "output_type": "display_data",
          "data": {
            "text/plain": [
              "<IPython.core.display.Markdown object>"
            ],
            "text/markdown": "###model:"
          },
          "metadata": {}
        },
        {
          "output_type": "stream",
          "name": "stdout",
          "text": [
            "Function call: { id=None args={'search_queries': ['deep-sea life adaptations', 'deep-sea ecosystems', 'hydrothermal vent life', 'deep-sea food sources', 'pressure effects on deep-sea life', 'deep-sea bioluminescence', 'challenges of deep-sea environment', 'how do organisms survive in the deep sea?', 'deep sea chemosynthesis']} name='wikipedia_search' }\n",
            "--------------------------------------------------------------------------------\n"
          ]
        },
        {
          "output_type": "display_data",
          "data": {
            "text/plain": [
              "<IPython.core.display.Markdown object>"
            ],
            "text/markdown": "###user:"
          },
          "metadata": {}
        },
        {
          "output_type": "stream",
          "name": "stdout",
          "text": [
            "Function response: { id=None name='wikipedia_search' response={'result': ['*   **Definition:** A deep-sea community is any community of organisms associated by a shared habitat in the deep sea.\\n*   **Challenges:** Deep-sea communities are largely unexplored due to technological, logistical challenges, and expense.\\n*   **Historical Beliefs:** It was once believed that little life existed in the deep sea due to the harsh conditions.\\n*   **Biodiversity:** Research has demonstrated significant biodiversity in the deep sea.\\n*   **Energy Sources:** The three main sources of energy and nutrients for deep-sea communities are:\\n    *   Marine snow\\n    *   Whale falls\\n    *   Chemosynthesis at hydrothermal vents and cold seeps\\n*   **Discovery of Chemosynthesis:** The first deep-sea chemosynthetic community was discovered at hydrothermal vents in the eastern Pacific Ocean in 1977.\\n*   **Challenger Deep:** The deepest surveyed point in Earth\\'s oceans, located in the Mariana Trench.\\n*   **Darkness:**\\n    *   The aphotic zone is a region of perpetual darkness extending from the bottom of the photic zone down to the seabed.\\n    *   Life forms in the aphotic zone rely on material sinking from above or chemosynthesis.\\n*   **Hyperbaricity:**\\n    *   Pressure increases by about one atmosphere every ten meters.\\n    *   Adaptations to pressure include small size, gelatinous flesh, minimal skeletal structure, and elimination of excess cavities.\\n    *   Pressure plays a great role in the distribution of deep sea organisms.\\n*   **Temperature:**\\n    *   The thermocline is the transition zone between surface and deep waters with rapid temperature change.\\n    *   Below the thermocline, the water mass is cold and homogeneous.\\n    *   Hydrothermal vents have extreme temperature gradients.\\n*   **Salinity:**\\n    *   Salinity is generally constant throughout the deep sea, with exceptions in the Mediterranean Sea and brine pools.\\n    *   Brine pools have high salinity and can contain methane, supporting chemosynthetic extremophiles.\\n*   **Deep Sea Layer:** The deep sea is the lowest layer in the ocean, existing below the thermocline, at a depth of 1,800 m (1,000 fathoms) or more.\\n*   **Zones:**\\n    *   **Mesopelagic (200-1,000 meters):** \"Twilight zone\" with limited light, organisms have large eyes, many fish make daily vertical migrations.\\n    *   **Bathyal (1,000-4,000 meters):** \"Midnight zone\" with no light, less densely populated, fish have reduced organs and weak builds, mostly invertebrates.\\n    *   **Abyssal (4,000-6,000 meters):** Perpetual darkness, inhabited by chemotrophs and predators adapted to immense pressure.\\n    *   **Hadal (below 6,000 meters):** Deepest trenches, extreme pressure.\\n*   **Energy Sources (Detailed):**\\n    *   **Marine Snow:** Particulate organic matter sinking from the photic zone.\\n    *   **Occasional Surface Blooms:** Sudden influx of nutrients from plankton or algal blooms.\\n    *   **Whale Falls:** Carcasses provide a large input of organic matter, supporting a succession of scavenger, opportunistic, and sulfophilic communities.\\n    *   **Chemosynthesis:**\\n        *   **Hydrothermal Vents:** Located at plate boundaries, chemosynthetic bacteria provide energy for the ecosystem.\\n        *   **Cold Seeps:** Areas of fluid seepage rich in hydrogen sulfide, methane, and other hydrocarbons.\\n*   **Ecology:**\\n    *   Deep-sea food webs are complex and poorly understood.\\n    *   Predator-prey interactions are studied through direct observation, stomach content analysis, and biochemical analysis.\\n    *   Gelatinous zooplankton play a significant ecological role.\\n    *   Deep sea mining has severe consequences for ocean ecosystems.\\n*   **Deep Sea Research:**\\n    *   Only a small percentage of the ocean floor has been explored.\\n    *   Submarines like DSV Alvin are used for deep-sea exploration.\\n    *   Pressurized traps and capture devices (e.g., PERISCOP) are being developed to study deep-sea creatures alive at the surface.\\n\\n\\nBased on:\\n  https://en.wikipedia.org/wiki/Deep-sea_community', \"The provided text focuses on the design, construction, and dives of the Deepsea Challenger submersible. It doesn't explicitly detail the general challenges of the deep-sea environment, but it implicitly touches upon some of them through the technical solutions implemented in the vehicle. Here's what can be extracted, framed as responses to the implicit challenges:\\n\\n*   **Immense Pressure:** The Deepsea Challenger was built to withstand 114 megapascals (16,500 pounds per square inch) of pressure at the Challenger Deep. The submersible featured a specialized structural syntactic foam called Isofloat, capable of withstanding these huge compressive forces. The pilot sphere had steel walls 64 mm (2.5 in) thick.\\n\\n*   **Flotation and Buoyancy:** The submersible used Isofloat syntactic foam (70% of its volume) for flotation instead of gasoline-filled tanks used in older designs like the Trieste. It also carried 500 kg of ballast weight to control sinking and ascent, with a backup galvanic release mechanism to surface automatically in case of ballast system failure.\\n\\n*   **Navigation and Communication:** The submersible operated in a vertical attitude. It communicated with the surface ship via an underwater acoustic communication system, sending data every three minutes.\\n\\n*   **Power:** Lithium batteries housed within the foam powered the submersible's systems.\\n\\n*   **Lighting and Visibility:** LED lighting arrays were used to illuminate the deep-sea environment.\\n\\n*   **Scientific Observation and Sampling:** The Deepsea Challenger included high-definition 3-D cameras and scientific sampling equipment.\\n\\n*   **Thrusters and Maneuverability:** The submersible incorporated pressure-balanced oil-filled thrusters for movement.\\n\\n*   **Life Support:** The submersible includes life support systems.\\n\\n*   **Unexpected Currents:** Unforeseen currents presented unexpected challenges during the dives.\\n\\n\\nBased on:\\n  https://en.wikipedia.org/wiki/Deepsea_Challenger\"]} }\n",
            "--------------------------------------------------------------------------------\n"
          ]
        },
        {
          "output_type": "display_data",
          "data": {
            "text/plain": [
              "<IPython.core.display.Markdown object>"
            ],
            "text/markdown": "###model:"
          },
          "metadata": {}
        },
        {
          "output_type": "display_data",
          "data": {
            "text/plain": [
              "<IPython.core.display.Markdown object>"
            ],
            "text/markdown": "Deep-sea life survives in a challenging environment characterized by perpetual darkness, immense pressure, cold temperatures, and limited food sources. Here's a breakdown of the key adaptations and strategies:\n\n*   **Energy Sources:** Deep-sea communities rely on three primary energy sources: marine snow (particulate organic matter sinking from the photic zone), whale falls (carcasses providing a large input of organic matter), and chemosynthesis at hydrothermal vents and cold seeps. Chemosynthesis is a process where bacteria use chemicals like hydrogen sulfide and methane to produce energy, forming the base of the food web in these unique environments.\n*   **Adaptations to Pressure:** Organisms have developed several adaptations to cope with extreme pressure, including small size, gelatinous flesh, minimal skeletal structure, and the elimination of excess cavities.\n*   **Zones:** The deep sea is divided into zones: mesopelagic, bathyal, abyssal, and hadal, each with distinct characteristics and inhabitants adapted to specific conditions.\n*   **Chemosynthesis:** At hydrothermal vents and cold seeps, chemosynthetic bacteria provide energy for the ecosystem.\n*   **Food webs:** Deep-sea food webs are complex and still being studied. Predator-prey interactions, the role of gelatinous zooplankton, and the impact of deep-sea mining are important areas of research.\n*   **Darkness:** Adaptations include reliance on material sinking from above or chemosynthesis.\n"
          },
          "metadata": {}
        },
        {
          "output_type": "stream",
          "name": "stdout",
          "text": [
            "--------------------------------------------------------------------------------\n"
          ]
        }
      ],
      "source": [
        "for content in chat.get_history():\n",
        "    display(Markdown(\"###\" + content.role + \":\"))\n",
        "    for part in content.parts:\n",
        "        if part.text:\n",
        "            display(Markdown(part.text))\n",
        "        if part.function_call:\n",
        "            print(\"Function call: {\", part.function_call, \"}\")\n",
        "        if part.function_response:\n",
        "            print(\"Function response: {\", part.function_response, \"}\")\n",
        "    print(\"-\" * 80)\n"
      ]
    },
    {
      "cell_type": "markdown",
      "metadata": {
        "id": "WDWc9Fj9Ig6A"
      },
      "source": [
        "In the chat history you can see all 4 steps:\n",
        "\n",
        "1. User: Asks the question about the total number of mittens.\n",
        "2. Model: Determines that the `wikipedia_search` is helpful and sends a FunctionCall request to the user.\n",
        "3. User: The Chat session automatically executes the function (due to `_automatic_function_calling` is enabled by default) and sends back a FunctionResponse with the calculated result.\n",
        "4. Model: Uses the function's output to formulate the final answer and presents it as a text response."
      ]
    },
    {
      "cell_type": "markdown",
      "metadata": {
        "id": "PJP1EAgfnPUA"
      },
      "source": [
        "## [Optional] Manually execute the function call"
      ]
    },
    {
      "cell_type": "markdown",
      "metadata": {
        "id": "Sa5ke2ssKl7M"
      },
      "source": [
        "If you want to understand what happened behind the scenes, this section executes the `genai.types.FunctionCall` manually to demonstrate."
      ]
    },
    {
      "cell_type": "code",
      "execution_count": 98,
      "metadata": {
        "id": "wavbHrL3K5vo"
      },
      "outputs": [],
      "source": [
        "config  = {\n",
        "        \"tools\": [wikipedia_search],\n",
        "        \"automatic_function_calling\": {\"disable\": True},\n",
        "    }\n",
        "\n",
        "chat    = client.chats.create(model=model, config=config, history=[])\n",
        "response  = chat.send_message(instructions.format(query=query))"
      ]
    },
    {
      "cell_type": "markdown",
      "metadata": {
        "id": "__JN3YuHe7fR"
      },
      "source": [
        "Initially the model returns a FunctionCall:"
      ]
    },
    {
      "cell_type": "code",
      "execution_count": 99,
      "metadata": {
        "id": "Lgngdvcdi06F",
        "outputId": "68b47a4c-38fd-4379-ab34-97be4c333d91",
        "colab": {
          "base_uri": "https://localhost:8080/"
        }
      },
      "outputs": [
        {
          "output_type": "stream",
          "name": "stdout",
          "text": [
            "id=None args={'search_queries': ['Deep-sea life adaptations', 'Deep-sea ecosystems', 'How do deep-sea organisms get energy?', 'Deep-sea food web', 'What are hydrothermal vents?', 'What is chemosynthesis?', 'Deep-sea pressure adaptations', 'Deep-sea temperature adaptations', 'Deep-sea animal adaptations', 'Bioluminescence in deep-sea creatures', 'Deep-sea survival strategies']} name='wikipedia_search'\n",
            "FunctionCall's name is wikipedia_search\n"
          ]
        }
      ],
      "source": [
        "fc = response.candidates[0].content.parts[0].function_call\n",
        "print(fc)\n",
        "print(f\"FunctionCall's name is {fc.name}\")"
      ]
    },
    {
      "cell_type": "markdown",
      "metadata": {
        "id": "xpD3axtDmfZb"
      },
      "source": [
        "Call the function with generated arguments to get the results."
      ]
    },
    {
      "cell_type": "code",
      "execution_count": 100,
      "metadata": {
        "id": "Ek4g-CTAPSou",
        "outputId": "3f47f51d-01ce-4b3e-e835-7b3d477a2543",
        "colab": {
          "base_uri": "https://localhost:8080/"
        }
      },
      "outputs": [
        {
          "output_type": "stream",
          "name": "stdout",
          "text": [
            "Searching for \"Deep-sea life adaptations\"\n",
            "Related search terms: ['Deep sea', 'Deep-sea fish', 'Deep-sea gigantism']\n",
            "Fetching page: \"Deep sea\"\n",
            "Information Source: https://en.wikipedia.org/wiki/Deep_sea\n",
            "Fetching page: \"Deep-sea fish\"\n",
            "Information Source: https://en.wikipedia.org/wiki/Deep-sea_fish\n",
            "Fetching page: \"Deep-sea gigantism\"\n",
            "Information Source: https://en.wikipedia.org/wiki/Deep-sea_gigantism\n",
            "Searching for \"Deep-sea ecosystems\"\n",
            "Related search terms: ['Deep-sea community', 'Deep sea mining', 'Deep sea']\n",
            "Fetching page: \"Deep-sea community\"\n",
            "Information Source: https://en.wikipedia.org/wiki/Deep-sea_community\n",
            "Fetching page: \"Deep sea mining\"\n",
            "Information Source: https://en.wikipedia.org/wiki/Deep_sea_mining\n",
            "Searching for \"How do deep-sea organisms get energy?\"\n",
            "Related search terms: ['Deep sea mining', 'Hydrothermal vent', 'Sea']\n",
            "Fetching page: \"Hydrothermal vent\"\n",
            "Information Source: https://en.wikipedia.org/wiki/Hydrothermal_vent\n",
            "Hydrothermal vent did not match with any page id, hence skipping.\n",
            "Fetching page: \"Sea\"\n",
            "Information Source: https://en.wikipedia.org/wiki/Sea\n",
            "Sea did not match with any page id, hence skipping.\n",
            "Searching for \"Deep-sea food web\"\n",
            "Related search terms: ['Deep-sea community', 'Deep sea mining', 'Chondrocladia concrescens']\n",
            "Fetching page: \"Chondrocladia concrescens\"\n",
            "Information Source: https://en.wikipedia.org/wiki/Chondrocladia_concrescens\n",
            "Chondrocladia concrescens did not match with any page id, hence skipping.\n",
            "Searching for \"What are hydrothermal vents?\"\n",
            "Related search terms: ['Hydrothermal vent', 'Endeavour Hydrothermal Vents', 'Beebe Hydrothermal Vent Field']\n",
            "Fetching page: \"Endeavour Hydrothermal Vents\"\n",
            "Information Source: https://en.wikipedia.org/wiki/Endeavour_Hydrothermal_Vents\n",
            "Endeavour Hydrothermal Vents did not match with any page id, hence skipping.\n",
            "Fetching page: \"Beebe Hydrothermal Vent Field\"\n",
            "Information Source: https://en.wikipedia.org/wiki/Beebe_Hydrothermal_Vent_Field\n",
            "Searching for \"What is chemosynthesis?\"\n",
            "Related search terms: ['Chemosynthesis', 'Deep sea', 'Chemotroph']\n",
            "Fetching page: \"Chemosynthesis\"\n",
            "Information Source: https://en.wikipedia.org/wiki/Chemosynthesis\n",
            "Chemosynthesis did not match with any page id, hence skipping.\n",
            "Fetching page: \"Chemotroph\"\n",
            "Information Source: https://en.wikipedia.org/wiki/Chemotroph\n",
            "Chemotroph did not match with any page id, hence skipping.\n",
            "Searching for \"Deep-sea pressure adaptations\"\n",
            "Related search terms: ['Deep-sea gigantism', 'Deep sea', 'Deep-sea fish']\n",
            "Searching for \"Deep-sea temperature adaptations\"\n",
            "Related search terms: ['Deep-sea gigantism', 'Deep sea', 'Deep-sea fish']\n",
            "Searching for \"Deep-sea animal adaptations\"\n",
            "Related search terms: ['Deep-sea gigantism', 'Deep sea', 'Deep-sea fish']\n",
            "Searching for \"Bioluminescence in deep-sea creatures\"\n",
            "Related search terms: ['Deep-sea community', 'Deep-sea fish', 'Deep sea']\n",
            "Searching for \"Deep-sea survival strategies\"\n",
            "Related search terms: ['Thalassophobia', 'Brine pool', 'Sea lion']\n",
            "Fetching page: \"Thalassophobia\"\n",
            "Information Source: https://en.wikipedia.org/wiki/Thalassophobia\n",
            "Fetching page: \"Brine pool\"\n",
            "Information Source: https://en.wikipedia.org/wiki/Brine_pool\n",
            "Brine pool did not match with any page id, hence skipping.\n",
            "Fetching page: \"Sea lion\"\n",
            "Information Source: https://en.wikipedia.org/wiki/Sea_lion\n",
            "Information Sources:\n",
            "     https://en.wikipedia.org/wiki/Deep_sea\n",
            "     https://en.wikipedia.org/wiki/Deep-sea_fish\n",
            "     https://en.wikipedia.org/wiki/Deep-sea_gigantism\n",
            "     https://en.wikipedia.org/wiki/Deep-sea_community\n",
            "     https://en.wikipedia.org/wiki/Deep_sea_mining\n",
            "     https://en.wikipedia.org/wiki/Hydrothermal_vent\n",
            "     https://en.wikipedia.org/wiki/Sea\n",
            "     https://en.wikipedia.org/wiki/Chondrocladia_concrescens\n",
            "     https://en.wikipedia.org/wiki/Endeavour_Hydrothermal_Vents\n",
            "     https://en.wikipedia.org/wiki/Beebe_Hydrothermal_Vent_Field\n",
            "     https://en.wikipedia.org/wiki/Chemosynthesis\n",
            "     https://en.wikipedia.org/wiki/Chemotroph\n",
            "     https://en.wikipedia.org/wiki/Thalassophobia\n",
            "     https://en.wikipedia.org/wiki/Brine_pool\n",
            "     https://en.wikipedia.org/wiki/Sea_lion\n",
            "Function execution result: ['The deep sea is defined as the ocean depth where light begins to fade, approximately 200 m (660 ft). Conditions include low temperatures, darkness, and high pressure.\\n\\nOrganisms in the deep sea have various adaptations to survive, utilizing feeding methods like scavenging, predation, and filtration. Many feed on marine snow, which is organic material falling from upper waters.\\n\\n**Environmental characteristics:**\\n\\n*   **Light:** Natural light does not penetrate, except in the upper mesopelagic. No photosynthesis occurs, so life depends on energy from elsewhere, mainly marine snow (algal particulates, detritus, and biological waste).\\n*   **Pressure:** Pressure increases by about 1 atmosphere per 10 meters of depth, resulting in extreme pressure.\\n*   **Salinity:** Relatively constant at about 35 parts per thousand.\\n*   **Temperature:** Greatest temperature gradient at the thermocline and hydrothermal vents. Below the thermocline, the water is cold and homogeneous.\\n\\n**Biology:**\\n\\n*   Regions are divided into bathyal (200-3,000 m), abyssal (3-6 km), and hadal (6-11 km) zones. Food is scarce and consists of marine snow and carcasses.\\n*   Many species have jelly-like flesh for buoyancy instead of relying on gas.\\n*   Midwater fish are small with slow metabolisms, weak muscles, and often have extendable jaws. Hermaphroditism is common due to difficulty finding partners.\\n*   Fish often have large, tubular eyes with only rod cells for upward vision. Prey fish have adaptations like lateral compression and counter illumination (bioluminescence) to reduce silhouettes. Some fish have retroreflectors behind the retina.\\n*   Organisms rely on sinking organic matter, with only 1-3% of surface production reaching the seabed as marine snow. Larger food falls, like whale carcasses, also occur. Filter feeders consume organic particles.\\n*   Marine bacteriophages cycle nutrients in deep-sea sediments.\\n\\n**Chemosynthesis:**\\n\\n*   Some species at hydrothermal vents rely on chemosynthesis, like the symbiotic relationship between tube worms and chemosynthetic bacteria, not sunlight.\\n\\n**Adaptation to hydrostatic pressure:**\\n\\n*   Deep sea fish have adaptations in their proteins, anatomical structures, and metabolic systems to withstand great amount of hydrostatic pressure.\\n*   Hydrostatic pressure affects both protein folding and assembly and enzymatic activity\\n*   Some Deep-sea fish developed pressure tolerance through the change in mechanism of their α-actin.\\n*   Specific osmolytes like Trimethylamine N-oxide (TMAO) are abundant in deep sea fish and protect proteins from high hydrostatic pressure.\\n*   Mariana hadal snailfish have a modification in the Osteocalcin gene, leading to an open skull and cartilage-based bone formation.\\n\\n\\n\\nBased on:\\n  https://en.wikipedia.org/wiki/Deep_sea', '*   **Definition:** Deep-sea fish live in the darkness below the sunlit surface waters (below the epipelagic or photic zone).\\n*   **Examples:** Lanternfish, flashlight fish, cookiecutter shark, bristlemouths, anglerfish, viperfish, and some species of eelpout.\\n*   **Habitat:** Primarily bathypelagic (1–4 km deep) and abyssopelagic (4–6 km deep) zones. Bioluminescence can be seen in the mesopelagic zone (200–1,000 m deep).\\n*   **Environment:** Hostile, with temperatures rarely exceeding 3 °C (37 °F) and falling as low as −1.8 °C (29 °F), low oxygen levels, and pressures between 20 and 1000 atm.\\n*   **Adaptations:**\\n    *   **Sensory:** Blindness or large, sensitive eyes to detect bioluminescence. Some have multiple Rh1 genes for better vision in dim light.\\n    *   **Bioluminescence:** Common for attracting prey, finding mates, distracting predators, and counter-illumination (camouflage).\\n    *   **Buoyancy:** Lack of swim bladders (generally), jelly-like flesh, minimal bone structure, high fat content, and water accumulation.\\n    *   **Feeding:** Long feelers, adaptations for consuming large prey (great sharp teeth, hinged jaws, large mouths, expandable bodies).\\n    *   **Pressure:** Adaptations at cellular and physiological levels, including changes in protein structure and cell membrane composition.\\n*   **Mesopelagic Fish:** Often make daily vertical migrations. Visual predators with large eyes, sometimes tubular eyes. Use color for camouflage.\\n*   **Bathypelagic Fish:** Lie-in-wait predators with slow metabolisms and unspecialized diets. Elongated bodies with weak muscles. Large mouth with sharp teeth.\\n*   **Pressure Adaptation:** Increased hydrostatic pressure requires adaptations at cellular and physiological levels.\\n*   **Lanternfish:** Account for a large percentage of deep-sea fish biomass and play an important ecological role.\\n\\n\\nBased on:\\n  https://en.wikipedia.org/wiki/Deep-sea_fish', \"Here's the extracted information about deep-sea life adaptations from the provided source:\\n\\n*   **Deep-sea gigantism (abyssal gigantism):** The tendency for deep-sea dwelling animals to be larger than their shallower-water relatives.\\n*   **Proposed explanations for gigantism:**\\n    *   Adaptation to colder temperature\\n    *   Food scarcity\\n    *   Reduced predation pressure\\n    *   Increased dissolved oxygen concentrations\\n*   **Taxonomic groups exhibiting gigantism:**\\n    *   **Crustaceans:** mysids, euphausiids, decapods, isopods, ostracods, amphipods\\n    *   **Non-arthropods:** cephalopods, cnidarians, eels (Anguilliformes)\\n*   **Examples of organisms exhibiting deep-sea gigantism:** big red jellyfish, Stygiomedusa jellyfish, giant isopod, giant ostracod, giant sea spider, giant amphipod, Japanese spider crab, giant oarfish, deepwater stingray, seven-arm octopus, colossal squid, giant squid, Megalocranchia fisheri, robust clubhook squid, Dana octopus squid, cockatoo squid, giant warty squid, bigfin squids of the genus Magnapinna.\\n*   **Temperature Adaptation:**\\n    *   Similar to Bergmann's rule (increasing size with decreasing temperature/latitude).\\n    *   Decreasing temperature leads to increased cell size and lifespan, resulting in larger maximum body size.\\n    *   Reduced vertical temperature gradient leads to a reduced trend of body size increase with depth.\\n*   **Food Scarcity Adaptation:**\\n    *   Larger body size improves foraging ability.\\n    *   Larger offspring with greater food reserves can drift for greater distances.\\n    *   Giant isopods can gorge on food and survive long periods without it.\\n    *   Larger animals have more efficient metabolism according to Kleiber's law\\n*   **Reduced Predation Pressure Adaptation:**\\n    *   Predation is less frequent in deeper waters.\\n*   **Increased Dissolved Oxygen Adaptation:**\\n    *   Larger organisms can intake more dissolved oxygen.\\n    *   The increased oxygen absorption may lead to oxygen toxicity poisoning.\\n\\n\\nBased on:\\n  https://en.wikipedia.org/wiki/Deep-sea_gigantism\", '**Definition:**\\n\\n*   A deep-sea community is any community of organisms associated by a shared habitat in the deep sea.\\n\\n**Challenges & Exploration:**\\n\\n*   Deep sea communities remain largely unexplored due to technological, logistical challenges and expense.\\n*   Historically believed to have little life, research since the 19th century has shown significant biodiversity.\\n\\n**Energy & Nutrient Sources:**\\n\\n*   Marine snow\\n*   Whale falls\\n*   Chemosynthesis at hydrothermal vents and cold seeps\\n\\n**Historical Discoveries:**\\n\\n*   1870s: Challenger expedition discovered many deep-sea creatures.\\n*   1977: Discovery of deep-sea chemosynthetic communities at hydrothermal vents.\\n*   Challenger Deep: The deepest surveyed point in the ocean.\\n    *   First depth recordings made by HMS Challenger in 1875.\\n    *   Explored by Trieste (1960), Kaiko (1995), and Nereus (2009).\\n    *   Maximum depth recorded as 10,971 meters (2009).\\n\\n**Environment:**\\n\\n*   **Darkness:**\\n    *   Photic zone (sunlight penetration): Divided into euphotic (photosynthesis) and dysphotic zones.\\n    *   Aphotic zone: Perpetual darkness below the photic zone.\\n    *   Life in the aphotic zone relies on sinking material, or chemosynthesis.\\n*   **Hyperbaricity (Pressure):**\\n    *   Pressure increases by about one atmosphere every ten meters.\\n    *   Adaptations include small size, gelatinous flesh, minimal skeletal structure, and absence of excess cavities.\\n    *   Pressures range from 20 to 1,000 atm.\\n*   **Temperature:**\\n    *   Thermoclines: Zones of rapid temperature change between surface and deep waters.\\n    *   Below thermoclines, water is cold and homogeneous.\\n    *   Hydrothermal vents: Extreme temperature variations (up to 400 °C).\\n*   **Salinity:**\\n    *   Generally constant, with exceptions in the Mediterranean Sea and brine pools.\\n    *   Brine pools: Areas of high salinity (3-5x greater than surrounding ocean).\\n    *   Deep Sea: Below the thermocline at depths of 1,800 m or more.\\n\\n**Zones:**\\n\\n*   **Mesopelagic (200-1,000 meters):**\\n    *   \"Twilight zone\" with limited light.\\n    *   Daily vertical migrations of organisms.\\n*   **Bathyal (1,000-4,000 meters):**\\n    *   \"Midnight zone\" with no light.\\n    *   Low population density due to pressure, cold, low oxygen, and scarce nutrients.\\n    *   Mostly invertebrates.\\n*   **Abyssal (4,000-6,000 meters) & Hadal (below 6,000 meters):**\\n    *   Perpetual darkness and immense pressure.\\n    *   Inhabited by chemotrophs and adapted predators.\\n    *   Hadal zone includes the deepest trenches like the Marianas Trench.\\n\\n**Energy Sources:**\\n\\n*   **Marine Snow:** Particulate organic matter sinking from the photic zone.\\n*   **Occasional Surface Blooms:** Sudden influx of nutrients from surface blooms.\\n*   **Whale Falls:** Carcasses providing large amounts of organic matter.\\n    *   Stages: Mobile scavenger, opportunistic, and sulfophilic.\\n*   **Chemosynthesis:**\\n    *   Hydrothermal vents: Bacteria transform chemicals into energy.\\n    *   Cold seeps: Seepage of hydrogen sulfide, methane, and hydrocarbons.\\n\\n**Ecology:**\\n\\n*   Deep sea food webs are complex and poorly understood.\\n*   Predator-prey interactions are studied through observation, stomach content analysis, and biochemical analysis.\\n*   Deep sea mining has severe consequences for ocean ecosystems.\\n\\n**Deep Sea Research:**\\n\\n*   Less than 4% of the ocean floor has been explored.\\n*   Submarines like DSV Alvin are used for exploration.\\n*   Challenges: Maintaining creature survival at the surface due to pressure differences.\\n*   Pressurized fish traps and capture devices (like PERISCOP) are being developed to study creatures in their natural state.\\n\\n\\nBased on:\\n  https://en.wikipedia.org/wiki/Deep-sea_community', \"Here's the extracted information about deep-sea ecosystems from the provided text:\\n\\n*   **Environmental Impact:** Deep sea mining has the potential to damage deep sea ecosystems and spread pollution from heavy metal-laden plumes.\\n*   **Ecosystem Concerns:** Researchers and governments have raised significant concerns about the potential impacts on unique and fragile deep-sea ecosystems, which are essential for ocean and carbon cycling and are vulnerable to climate change.\\n*   **Sediment Plumes:** Sediment plumes generated by mining can smother benthic organisms and reduce oxygen availability.\\n*   **Benthic Disturbance:** Removing parts of the sea floor disturbs the habitat of benthic organisms, with preliminary studies indicating that the seabed requires decades to recover from even minor disturbances. Some ecosystems fail to return to pre-disturbance levels after 26 years.\\n*   **Benthic Communities:** Nodule fields provide hard substrate on the bottom, attracting macrofauna. A study in the CCZ found a diverse abyssal plain megafaunal community, including glass sponges, anemones, eyeless fish, sea stars, psychropotes, amphipods, and isopods. Macrofauna were reported to have high species diversity.\\n*   **Habitat Dependence:** Over 50% of species in potential seabed mining areas are dependent on polymetallic nodules for survival.\\n*   **Trace Metals:** Mining releases trace metals such as copper (Cu), lead (Pb), mercury (Hg), and zinc (Zn), which can bioaccumulate in marine organisms and pose toxicological risks to deep-sea food webs.\\n*   **Mitigation Efforts:** Mitigation efforts such as biodiversity offsetting are unlikely to compensate for habitat loss due to the slow recovery rates and high ecological sensitivity of deep-sea benthic communities. A precautionary approach is advocated.\\n*   **Noise and Light Pollution:** Deep sea mining generates noise and light pollution in normally quiet and dark pelagic environments, affecting deep sea fish species and marine mammals.\\n*   **Ecosystem Effects:** Polymetallic nodule fields are hotspots of abundance and diversity for abyssal fauna. Sediment can clog filter-feeding organisms. Plumes can block sunlight, inhibiting growth of photosynthesizing organisms, including coral and phytoplankton, which are at the bottom of the food chain. Metals carried by plumes can accumulate in tissues of shellfish, impacting predators, including humans.\\n*   **Nodule Importance:** The nodules are also important for oxygen production in the absence of light and photosynthesis. Nodules the size of potatoes have shown to be able to produce an electric current strong enough to perform electrolysis, which splits water molecules into hydrogen and oxygen.\\n*   **Carbon Storage:** Disruption of the ocean floor can lead to reduced carbon sequestration and the release of methane, exacerbating the climate crisis.\\n\\n\\n\\nBased on:\\n  https://en.wikipedia.org/wiki/Deep_sea_mining\", \"This document focuses on the Beebe Hydrothermal Vent Field. Therefore, a general definition of hydrothermal vents is not explicitly stated. However, the document provides information that implicitly defines what hydrothermal vents are, through descriptions of their characteristics and processes. Here's the relevant extracted information that helps define them:\\n\\n*   They are sites of hydrothermal activity, indicated by anomalies in the water column.\\n*   They are located in the abyssopelagic zone at depths of nearly 5,000 meters (16,000 ft) below sea level.\\n*   They consist of sulfide mounds, both active and inactive.\\n*   They emit fluids, with temperatures up to 403 °C (757 °F).\\n*   They form chimneys composed of metal sulfides like pyrite and pyrrhotite.\\n*   They release chemicals like carbon dioxide and hydrogen sulfide.\\n*   They host unique biology, including shrimp, anemones, gastropods, and diverse microbial communities.\\n*   The venting fluids can surpass the supercritical threshold of seawater.\\n*   They are rich in metal sulfides, which can include precious metals.\\n\\nBased on:\\n  https://en.wikipedia.org/wiki/Beebe_Hydrothermal_Vent_Field\", 'This document is about Thalassophobia, the persistent and intense fear of deep bodies of water. It does not contain information about deep-sea survival strategies.\\n\\n\\nBased on:\\n  https://en.wikipedia.org/wiki/Thalassophobia', '*   **Diving adaptations:** Sea lions have physiological adaptations to dive to great depths, including controlling heart rate, gas exchange, digestion rate, and blood flow. They limit gas exchange by allowing alveoli to be compressed, reducing the amount of compressed gases entering tissues. Bradycardia (reduced heart rate) conserves oxygen. They reduce digestion rate to decrease oxygen consumption. They also have a higher tolerance for carbon dioxide build-up in the blood.\\n\\n\\nBased on:\\n  https://en.wikipedia.org/wiki/Sea_lion']\n"
          ]
        }
      ],
      "source": [
        "if fc.name == \"wikipedia_search\":\n",
        "    summaries = wikipedia_search(**fc.args)\n",
        "    print(f\"Function execution result: {summaries}\")"
      ]
    },
    {
      "cell_type": "markdown",
      "metadata": {
        "id": "kv4WGnG_gT3F"
      },
      "source": [
        "Now send the `summaries` to the model."
      ]
    },
    {
      "cell_type": "code",
      "execution_count": 103,
      "metadata": {
        "id": "bcLuieHqj9PW",
        "outputId": "0bd0018a-ccc8-4c20-cff3-07033e953e99",
        "colab": {
          "base_uri": "https://localhost:8080/",
          "height": 329
        }
      },
      "outputs": [
        {
          "output_type": "execute_result",
          "data": {
            "text/plain": [
              "<IPython.core.display.Markdown object>"
            ],
            "text/markdown": "> Deep-sea life survives in a challenging environment characterized by darkness, high pressure, and low temperatures. Here's a breakdown of their survival strategies:\n> \n> *   **Energy Sources:** Since sunlight doesn't penetrate the deep sea, organisms rely on alternative energy sources like marine snow (organic matter sinking from upper waters), whale falls (carcasses), and chemosynthesis (energy from chemicals at hydrothermal vents and cold seeps).\n> *   **Adaptations to Pressure:** Deep-sea creatures have developed adaptations at the protein, anatomical, and metabolic levels to withstand immense hydrostatic pressure. Some have altered protein mechanisms and accumulate specific osmolytes like Trimethylamine N-oxide (TMAO) to protect proteins.\n> *   **Temperature Adaptations:**  Deep-sea gigantism, where animals grow larger than their shallow-water relatives, is linked to colder temperatures, food scarcity, and reduced predation.\n> *   **Sensory Adaptations:** Many deep-sea fish have large, sensitive eyes to detect bioluminescence or are blind.\n> *   **Bioluminescence:**  Many species use bioluminescence to attract prey, find mates, distract predators, and camouflage.\n> *   **Buoyancy:** Organisms often have jelly-like flesh, minimal bone structure, and high fat content to maintain buoyancy.\n> *   **Feeding Adaptations:**  Deep-sea fish possess adaptations for consuming large prey, such as sharp teeth, hinged jaws, large mouths, and expandable bodies.\n> *   **Hydrothermal Vents:** Some species near hydrothermal vents rely on chemosynthesis, where bacteria convert chemicals into energy. Symbiotic relationships, like those between tube worms and chemosynthetic bacteria, are common.\n"
          },
          "metadata": {},
          "execution_count": 103
        }
      ],
      "source": [
        "# Create a function response part\n",
        "function_response_part = types.Part.from_function_response(\n",
        "    name=fc.name,\n",
        "    response={\"result\": summaries},\n",
        ")\n",
        "\n",
        "response = chat.send_message(function_response_part)\n",
        "\n",
        "to_markdown(response.text)"
      ]
    },
    {
      "cell_type": "markdown",
      "metadata": {
        "id": "L2Vfv8xpmuV1"
      },
      "source": [
        "## Re-ranking the search results"
      ]
    },
    {
      "cell_type": "markdown",
      "metadata": {
        "id": "cQ3JUJLeGGzA"
      },
      "source": [
        "Helper function to embed the content:"
      ]
    },
    {
      "cell_type": "code",
      "execution_count": 104,
      "metadata": {
        "id": "mSkE7EynJBwF",
        "cellView": "code"
      },
      "outputs": [],
      "source": [
        "# def get_embeddings(content: list[str]) -> np.ndarray:\n",
        "#   embeddings = genai.embed_content('models/embedding-001', content, 'SEMANTIC_SIMILARITY')\n",
        "#   embds = embeddings.get('embedding', None)\n",
        "#   embds = np.array(embds).reshape(len(embds), -1)\n",
        "#   return embds\n",
        "from tqdm.auto import tqdm\n",
        "from google.genai import types\n",
        "\n",
        "tqdm.pandas()\n",
        "\n",
        "from google.api_core import retry\n",
        "import numpy as np\n",
        "\n",
        "def make_embed_text_fn(model):\n",
        "\n",
        "    @retry.Retry(timeout=300.0)\n",
        "    def embed_fn(texts: list[str]) -> list[list[float]]:\n",
        "        # Set the task_type to CLASSIFICATION and embed the batch of texts\n",
        "        embeddings = client.models.embed_content(\n",
        "            model=model,\n",
        "            contents=texts,\n",
        "            config=types.EmbedContentConfig(task_type=\"CLASSIFICATION\"),\n",
        "        ).embeddings\n",
        "        return np.array([embedding.values for embedding in embeddings])\n",
        "\n",
        "    return embed_fn\n",
        "\n",
        "\n",
        "def create_embeddings(content: list[str]) -> np.ndarray:\n",
        "    MODEL_ID = \"text-embedding-004\" # @param [\"embedding-001\", \"text-embedding-004\",\"gemini-embedding-exp-03-07\"] {\"allow-input\":true, isTemplate: true}\n",
        "    model = f\"models/{MODEL_ID}\"\n",
        "    embed_fn = make_embed_text_fn(model)\n",
        "\n",
        "    batch_size = 100  # at most 100 requests can be in one batch\n",
        "    all_embeddings = []\n",
        "\n",
        "    # Loop over the texts in chunks of batch_size\n",
        "    for i in tqdm(range(0, len(content), batch_size)):\n",
        "        batch = content[i:i + batch_size]\n",
        "        embeddings = embed_fn(batch)\n",
        "        all_embeddings.extend(embeddings)\n",
        "\n",
        "    return np.array(all_embeddings).reshape(len(all_embeddings), -1)"
      ]
    },
    {
      "cell_type": "markdown",
      "metadata": {
        "id": "tip8ArqJf_ep"
      },
      "source": [
        "Please refer to the [embeddings guide](https://ai.google.dev/docs/embeddings_guide) for more information on embeddings."
      ]
    },
    {
      "cell_type": "markdown",
      "metadata": {
        "id": "nSPyycFuFj-_"
      },
      "source": [
        "Your next step is to define functions that you can use to calculate similarity scores between two embedding vectors. These scores will help you decide which embedding vector is the most relevant vector to the user's query.\n"
      ]
    },
    {
      "cell_type": "markdown",
      "metadata": {
        "id": "ltbB0vDsKQtI"
      },
      "source": [
        "You will now implement cosine similarity as your metric. Here returned embedding vectors will be of unit length and hence their L1 norm (`np.linalg.norm()`) will be ~1. Hence, calculating cosine similarity is esentially same as calculating their dot product score."
      ]
    },
    {
      "cell_type": "code",
      "execution_count": 105,
      "metadata": {
        "id": "9iDFdzq_JWJW"
      },
      "outputs": [],
      "source": [
        "def dot_product(a: np.ndarray, b: np.ndarray):\n",
        "  return (a @ b.T)"
      ]
    },
    {
      "cell_type": "markdown",
      "metadata": {
        "id": "MrF_1c_M_Hw3"
      },
      "source": [
        "### Similarity with user's query\n",
        "\n",
        "Now it's time to find the most relevant search result returned by the Wikipedia API.\n",
        "\n",
        "Use Gemini API to get embeddings for user's query and search results."
      ]
    },
    {
      "cell_type": "code",
      "execution_count": 106,
      "metadata": {
        "id": "gK9ryjftGDNe",
        "outputId": "29bf6e57-7ea9-4496-f8e0-6085bb9cbe7c",
        "colab": {
          "base_uri": "https://localhost:8080/",
          "height": 81,
          "referenced_widgets": [
            "4d1c1785af77446380f0e8cab2b68c60",
            "1e7bc60ad270413484487bb79ee5a5b6",
            "e2e82d2f75b4420db47ce20e795f34d3",
            "a09cbee16b9f4d30831d2d3608a3c8a8",
            "038a7ce75b9e43d49fa5f09a8148e0d8",
            "96fd121f59d94bfc904b563fc7b6dc53",
            "69c52eb5c2fd47f993ff5f30f1ec121d",
            "749aefbcc97540ba839e6c8c308e7b47",
            "ac2b43274664488aa3e7b835673f970a",
            "ed69f035ee154cbbaebd92ecf3164fa3",
            "f07ff629e8914023b21764e579224ddd",
            "2a83d5bdaa0043d1836fdf013ada2261",
            "ed3f58d92a544b7b8f7508b98c6ca33f",
            "cd7fbf3f10bd468fb125f0361715bba5",
            "ad0f531209854f5f9a043a4e4171131d",
            "a0cea2bc8de14620982bde0831a9b232",
            "7fddf87871e84646b56a6e387f7f5657",
            "1f0caf008d154989b504f8491a1d1243",
            "c099620505f74b5cb28545ed4e78edd2",
            "18a88be33c854c73ac08f3b1319cd004",
            "d8e822b7edb34787ab28b428ed252b65",
            "bbb6a240a4ca4a548a6aafeec7550491"
          ]
        }
      },
      "outputs": [
        {
          "output_type": "display_data",
          "data": {
            "text/plain": [
              "  0%|          | 0/1 [00:00<?, ?it/s]"
            ],
            "application/vnd.jupyter.widget-view+json": {
              "version_major": 2,
              "version_minor": 0,
              "model_id": "4d1c1785af77446380f0e8cab2b68c60"
            }
          },
          "metadata": {}
        },
        {
          "output_type": "display_data",
          "data": {
            "text/plain": [
              "  0%|          | 0/1 [00:00<?, ?it/s]"
            ],
            "application/vnd.jupyter.widget-view+json": {
              "version_major": 2,
              "version_minor": 0,
              "model_id": "2a83d5bdaa0043d1836fdf013ada2261"
            }
          },
          "metadata": {}
        }
      ],
      "source": [
        "search_res = create_embeddings(summaries)\n",
        "embedded_query = create_embeddings([query])"
      ]
    },
    {
      "cell_type": "markdown",
      "metadata": {
        "id": "2wwWq30uGRG3"
      },
      "source": [
        "Calculate similarity score:"
      ]
    },
    {
      "cell_type": "code",
      "execution_count": 107,
      "metadata": {
        "id": "jWlFNYIsGV0X"
      },
      "outputs": [],
      "source": [
        "sim_value = dot_product(search_res, embedded_query)"
      ]
    },
    {
      "cell_type": "markdown",
      "metadata": {
        "id": "bJW1pQQXG2w2"
      },
      "source": [
        "using `np.argmax` best candidate is selected.\n",
        "\n",
        "**Users's Input:** Explain how deep-sea life survives.\n",
        "\n",
        "**Answer:**"
      ]
    },
    {
      "cell_type": "code",
      "execution_count": 109,
      "metadata": {
        "id": "8vDMDnCsG8Wn",
        "outputId": "9b7f41ed-68dd-40ce-b913-51c93bcde766",
        "colab": {
          "base_uri": "https://localhost:8080/",
          "height": 678
        }
      },
      "outputs": [
        {
          "output_type": "execute_result",
          "data": {
            "text/plain": [
              "<IPython.core.display.Markdown object>"
            ],
            "text/markdown": "> The deep sea is defined as the ocean depth where light begins to fade, approximately 200 m (660 ft). Conditions include low temperatures, darkness, and high pressure.\n> \n> Organisms in the deep sea have various adaptations to survive, utilizing feeding methods like scavenging, predation, and filtration. Many feed on marine snow, which is organic material falling from upper waters.\n> \n> **Environmental characteristics:**\n> \n> *   **Light:** Natural light does not penetrate, except in the upper mesopelagic. No photosynthesis occurs, so life depends on energy from elsewhere, mainly marine snow (algal particulates, detritus, and biological waste).\n> *   **Pressure:** Pressure increases by about 1 atmosphere per 10 meters of depth, resulting in extreme pressure.\n> *   **Salinity:** Relatively constant at about 35 parts per thousand.\n> *   **Temperature:** Greatest temperature gradient at the thermocline and hydrothermal vents. Below the thermocline, the water is cold and homogeneous.\n> \n> **Biology:**\n> \n> *   Regions are divided into bathyal (200-3,000 m), abyssal (3-6 km), and hadal (6-11 km) zones. Food is scarce and consists of marine snow and carcasses.\n> *   Many species have jelly-like flesh for buoyancy instead of relying on gas.\n> *   Midwater fish are small with slow metabolisms, weak muscles, and often have extendable jaws. Hermaphroditism is common due to difficulty finding partners.\n> *   Fish often have large, tubular eyes with only rod cells for upward vision. Prey fish have adaptations like lateral compression and counter illumination (bioluminescence) to reduce silhouettes. Some fish have retroreflectors behind the retina.\n> *   Organisms rely on sinking organic matter, with only 1-3% of surface production reaching the seabed as marine snow. Larger food falls, like whale carcasses, also occur. Filter feeders consume organic particles.\n> *   Marine bacteriophages cycle nutrients in deep-sea sediments.\n> \n> **Chemosynthesis:**\n> \n> *   Some species at hydrothermal vents rely on chemosynthesis, like the symbiotic relationship between tube worms and chemosynthetic bacteria, not sunlight.\n> \n> **Adaptation to hydrostatic pressure:**\n> \n> *   Deep sea fish have adaptations in their proteins, anatomical structures, and metabolic systems to withstand great amount of hydrostatic pressure.\n> *   Hydrostatic pressure affects both protein folding and assembly and enzymatic activity\n> *   Some Deep-sea fish developed pressure tolerance through the change in mechanism of their α-actin.\n> *   Specific osmolytes like Trimethylamine N-oxide (TMAO) are abundant in deep sea fish and protect proteins from high hydrostatic pressure.\n> *   Mariana hadal snailfish have a modification in the Osteocalcin gene, leading to an open skull and cartilage-based bone formation.\n> \n> \n> \n> Based on:\n>   https://en.wikipedia.org/wiki/Deep_sea"
          },
          "metadata": {},
          "execution_count": 109
        }
      ],
      "source": [
        "to_markdown(summaries[np.argmax(sim_value)])"
      ]
    },
    {
      "cell_type": "markdown",
      "metadata": {
        "id": "Ozn6mIFvoyJU"
      },
      "source": [
        "### Similarity with Hypothetical Document Embeddings (HyDE)\n",
        "\n",
        "Drawing inspiration from [Gao et al](https://arxiv.org/abs/2212.10496) the objective here is to generate a template answer to the user's query using `gemini-2.0-flash`'s internal knowledge. This hypothetical answer will serve as a baseline to calculate relevance of all the search results."
      ]
    },
    {
      "cell_type": "code",
      "execution_count": 111,
      "metadata": {
        "id": "J7m5KAkMREBH",
        "outputId": "f708755e-913f-488b-810c-44859bbf8b0f",
        "colab": {
          "base_uri": "https://localhost:8080/",
          "height": 480
        }
      },
      "outputs": [
        {
          "output_type": "execute_result",
          "data": {
            "text/plain": [
              "<IPython.core.display.Markdown object>"
            ],
            "text/markdown": "> Okay, so imagine the deep sea, right? Forget everything you think you know about a nice, sunny beach. We're talking about a world of permanent night, crushing pressure, and... well, let's just say the menu isn't exactly five-star. So how does anything actually *live* down there? It's a pretty wild story, actually, relying on a combination of adaptations and opportunistic resourcefulness.\n> \n> First off, forget photosynthesis. No sunlight, no plants. So, everything boils down to what we call \"marine snow.\" Think of it like a ghostly blizzard of organic particles – dead plankton, fecal matter from creatures above, bits of decaying stuff in general – slowly sinking down from the sunlit zone. This is the primary food source for many deep-sea creatures. Some, like certain [Placeholder for Deep-Sea Worm Example], are specialized filter feeders, patiently waiting to catch the falling snow with their [Placeholder for Appendage Description].\n> \n> But that marine snow isn't enough for everyone. That's where the hunters come in. Many deep-sea creatures are predators, and they've evolved some truly remarkable (and often terrifying!) adaptations. Think about the [Placeholder for Anglerfish Example] with its bioluminescent lure. It's like a tiny, glowing dinner bell ringing in the eternal darkness, attracting unsuspecting prey. Or consider the [Placeholder for Viperfish Example] with its huge jaws and dagger-like teeth, perfectly adapted for snatching up anything that comes close.\n> \n> Speaking of bioluminescence, it's HUGE down there. It's not just for attracting prey. Creatures use it for all sorts of things: communication, camouflage, even defense. For example, the [Placeholder for Deep Sea Squid Example] might flash a dazzling light to startle a predator, giving it a chance to escape.\n> \n> And then there's the pressure. We're talking about immense forces, enough to crush a submarine. But deep-sea creatures have adapted to that too. Their bodies often lack air-filled cavities, which would collapse under pressure. Instead, they're filled with [Placeholder for Fluid or Tissue Type] that helps equalize the pressure inside and outside their bodies.\n> \n> Finally, you can't forget about hydrothermal vents. These are like underwater geysers, spewing out hot, chemical-rich water from deep within the Earth. They're the basis for entirely different ecosystems, where bacteria thrive on the chemicals and form the base of a food web that supports all sorts of specialized creatures like [Placeholder for Vent Worm Example] and [Placeholder for Vent Crab Example].\n> \n> So, surviving in the deep sea is all about adapting to extreme conditions, making the most of limited resources, and, let's be honest, being a little bit weird and wonderful. It's a challenging place to live, but life, as always, finds a way! And we're still discovering new and amazing deep-sea creatures all the time. Who knows what other secrets are hidden in the depths?\n"
          },
          "metadata": {},
          "execution_count": 111
        }
      ],
      "source": [
        "res = client.models.generate_content(model=model,\n",
        "                                contents=textwrap.dedent(f\"\"\"Generate a hypothetical answer\n",
        "to the user's query by using your own knowledge. Assume that you know everything\n",
        "about the said topic. Do not use factual information, instead use placeholders\n",
        "to complete your answer. Your answer should feel like it has been written by a human.\n",
        "\n",
        "query: {query}\"\"\"),)\n",
        "\n",
        "to_markdown(res.text)"
      ]
    },
    {
      "cell_type": "markdown",
      "metadata": {
        "id": "85f4MpLgrYbW"
      },
      "source": [
        "Use Gemini API to get embeddings for the baseline answer and compare them with search results"
      ]
    },
    {
      "cell_type": "code",
      "execution_count": 112,
      "metadata": {
        "id": "fSI6-5eYI3me",
        "outputId": "dfa17e1e-d547-47d5-894c-0254de72a6dd",
        "colab": {
          "base_uri": "https://localhost:8080/",
          "height": 49,
          "referenced_widgets": [
            "99b1eaa64a4e4c55917ae38793f83785",
            "935368fa68cb42bb89bacf8351cbc5f6",
            "1cd1bdc0cfb44520abafb3603dd46d67",
            "32e95aa30a0e4a2ebd94d3f7c4b0648a",
            "7ce8184478a74a1dbb5314827ae6af1e",
            "e2cded3b3a5a4519a4dd11681f6a0564",
            "39b5b67699f54799868fad03353a7be9",
            "1568d1027142485ca5ef91d0d53edec3",
            "bb620556b3b146c6b21706addf62aa45",
            "ad3ec3e89c2f4c78945843537abd56cd",
            "d7e704d2ed7d43aeba7b3279ced02e4a"
          ]
        }
      },
      "outputs": [
        {
          "output_type": "display_data",
          "data": {
            "text/plain": [
              "  0%|          | 0/1 [00:00<?, ?it/s]"
            ],
            "application/vnd.jupyter.widget-view+json": {
              "version_major": 2,
              "version_minor": 0,
              "model_id": "99b1eaa64a4e4c55917ae38793f83785"
            }
          },
          "metadata": {}
        }
      ],
      "source": [
        "hypothetical_ans = create_embeddings([res.text])"
      ]
    },
    {
      "cell_type": "markdown",
      "metadata": {
        "id": "WxYGEWbqrh44"
      },
      "source": [
        "Calculate similarity scores to rank the search results"
      ]
    },
    {
      "cell_type": "code",
      "execution_count": 113,
      "metadata": {
        "id": "99sjvMtlJfL_",
        "outputId": "1d572ffa-0f24-4da1-da67-4f0fb76ecbeb",
        "colab": {
          "base_uri": "https://localhost:8080/"
        }
      },
      "outputs": [
        {
          "output_type": "execute_result",
          "data": {
            "text/plain": [
              "array([[0.92962056],\n",
              "       [0.91904977],\n",
              "       [0.91857284],\n",
              "       [0.92877319],\n",
              "       [0.90089099],\n",
              "       [0.87556743],\n",
              "       [0.75732358],\n",
              "       [0.82864696]])"
            ]
          },
          "metadata": {},
          "execution_count": 113
        }
      ],
      "source": [
        "sim_value = dot_product(search_res, hypothetical_ans)\n",
        "sim_value"
      ]
    },
    {
      "cell_type": "markdown",
      "metadata": {
        "id": "wJ7pklxursSk"
      },
      "source": [
        "using `np.argmax` best candidate is selected.\n",
        "\n",
        "**Users's Input:** Explain how deep-sea life survives.\n",
        "\n",
        "**Answer:**"
      ]
    },
    {
      "cell_type": "code",
      "execution_count": 114,
      "metadata": {
        "id": "MzTfyU_mJ8-M",
        "outputId": "74373db3-0606-40e6-a3c4-4ebd5b92a322",
        "colab": {
          "base_uri": "https://localhost:8080/",
          "height": 662
        }
      },
      "outputs": [
        {
          "output_type": "execute_result",
          "data": {
            "text/plain": [
              "<IPython.core.display.Markdown object>"
            ],
            "text/markdown": "> The document contains information relevant to deep-sea adaptations for survival in the following ways:\n> \n> *   **Challenges of the Deep Sea:** High pressure, extreme temperatures, and absence of light pose significant challenges.\n> *   **Darkness (Lack of Light):**\n>     *   The absence of sunlight in the aphotic zone necessitates alternative energy sources or movement to the photic zone.\n>     *   Mesopelagic organisms have large eyes and use bioluminescence for camouflage, communication, and predation.\n>     *   Red or black coloration functions as camouflage in the absence of red wavelengths of light.\n> *   **Hyperbaricity (High Pressure):**\n>     *   Deep-sea animals have evolved to withstand extreme pressure, with adaptations such as:\n>         *   Small body size (usually not exceeding 25cm).\n>         *   Gelatinous flesh and minimal skeletal structure.\n>         *   Elimination of excess cavities like swim bladders.\n> *   **Temperature:**\n>     *   Deep-sea temperatures are generally cold and constant.\n>     *   Hydrothermal vents are an exception, with extreme temperature gradients.\n> *   **Energy Sources:**\n>     *   **Marine Snow:** Reliance on sinking organic matter from the photic zone.\n>     *   **Occasional Surface Blooms:** Utilization of plankton blooms.\n>     *   **Whale Falls:** Consumption of the organic matter in whale carcasses.\n>     *   **Chemosynthesis:**\n>         *   Chemosynthetic bacteria at hydrothermal vents and cold seeps provide energy for the food web.\n> *   **Adaptations in Different Zones:**\n>     *   **Mesopelagic:** Vertical migrations, large eyes, bioluminescence, coloration (red, black, silvery).\n>     *   **Bathyal:** Reduced organs (gills, kidneys, hearts, swimbladders), weak skeletal and muscular build, slimy skin.\n>     *   **Abyssal/Hadal:** Tolerance to immense pressure, chemotrophic lifestyles.\n> *   **Deep sea environment's parameters:**\n> \n>     *   Depth: below the thermocline, at a depth of 1,000 fathoms (1,800 m) or more.\n>     *   Pressure: between 200 and 600 atm, the range of pressure is from 20 to 1,000 atm.\n>     *   Temperature: water is cold and far more homogeneous, from 5 or 6 °C at 1,000 meters, and isothermal below 3,000 to 4,000 m.\n>     *   Salinity: constant throughout the depths.\n> \n> \n> Based on:\n>   https://en.wikipedia.org/wiki/Deep-sea_community"
          },
          "metadata": {},
          "execution_count": 114
        }
      ],
      "source": [
        "to_markdown(result[np.argmax(sim_value)])"
      ]
    },
    {
      "cell_type": "markdown",
      "metadata": {
        "id": "UjDN2OUpsL6M"
      },
      "source": [
        "You have now created a search re-ranking engine using embeddings!"
      ]
    },
    {
      "cell_type": "markdown",
      "metadata": {
        "id": "AKH2vs2Lc1R1"
      },
      "source": [
        "## Next steps\n",
        "\n",
        "I hope you found this example helpful! Check out more examples in the [Gemini Guide](https://github.com/google-gemini/gemini-guide/) to learn more."
      ]
    }
  ],
  "metadata": {
    "colab": {
      "name": "Search_reranking_using_embeddings.ipynb",
      "provenance": []
    },
    "kernelspec": {
      "display_name": "Python 3",
      "name": "python3"
    },
    "widgets": {
      "application/vnd.jupyter.widget-state+json": {
        "4d1c1785af77446380f0e8cab2b68c60": {
          "model_module": "@jupyter-widgets/controls",
          "model_name": "HBoxModel",
          "model_module_version": "1.5.0",
          "state": {
            "_dom_classes": [],
            "_model_module": "@jupyter-widgets/controls",
            "_model_module_version": "1.5.0",
            "_model_name": "HBoxModel",
            "_view_count": null,
            "_view_module": "@jupyter-widgets/controls",
            "_view_module_version": "1.5.0",
            "_view_name": "HBoxView",
            "box_style": "",
            "children": [
              "IPY_MODEL_1e7bc60ad270413484487bb79ee5a5b6",
              "IPY_MODEL_e2e82d2f75b4420db47ce20e795f34d3",
              "IPY_MODEL_a09cbee16b9f4d30831d2d3608a3c8a8"
            ],
            "layout": "IPY_MODEL_038a7ce75b9e43d49fa5f09a8148e0d8"
          }
        },
        "1e7bc60ad270413484487bb79ee5a5b6": {
          "model_module": "@jupyter-widgets/controls",
          "model_name": "HTMLModel",
          "model_module_version": "1.5.0",
          "state": {
            "_dom_classes": [],
            "_model_module": "@jupyter-widgets/controls",
            "_model_module_version": "1.5.0",
            "_model_name": "HTMLModel",
            "_view_count": null,
            "_view_module": "@jupyter-widgets/controls",
            "_view_module_version": "1.5.0",
            "_view_name": "HTMLView",
            "description": "",
            "description_tooltip": null,
            "layout": "IPY_MODEL_96fd121f59d94bfc904b563fc7b6dc53",
            "placeholder": "​",
            "style": "IPY_MODEL_69c52eb5c2fd47f993ff5f30f1ec121d",
            "value": "100%"
          }
        },
        "e2e82d2f75b4420db47ce20e795f34d3": {
          "model_module": "@jupyter-widgets/controls",
          "model_name": "FloatProgressModel",
          "model_module_version": "1.5.0",
          "state": {
            "_dom_classes": [],
            "_model_module": "@jupyter-widgets/controls",
            "_model_module_version": "1.5.0",
            "_model_name": "FloatProgressModel",
            "_view_count": null,
            "_view_module": "@jupyter-widgets/controls",
            "_view_module_version": "1.5.0",
            "_view_name": "ProgressView",
            "bar_style": "success",
            "description": "",
            "description_tooltip": null,
            "layout": "IPY_MODEL_749aefbcc97540ba839e6c8c308e7b47",
            "max": 1,
            "min": 0,
            "orientation": "horizontal",
            "style": "IPY_MODEL_ac2b43274664488aa3e7b835673f970a",
            "value": 1
          }
        },
        "a09cbee16b9f4d30831d2d3608a3c8a8": {
          "model_module": "@jupyter-widgets/controls",
          "model_name": "HTMLModel",
          "model_module_version": "1.5.0",
          "state": {
            "_dom_classes": [],
            "_model_module": "@jupyter-widgets/controls",
            "_model_module_version": "1.5.0",
            "_model_name": "HTMLModel",
            "_view_count": null,
            "_view_module": "@jupyter-widgets/controls",
            "_view_module_version": "1.5.0",
            "_view_name": "HTMLView",
            "description": "",
            "description_tooltip": null,
            "layout": "IPY_MODEL_ed69f035ee154cbbaebd92ecf3164fa3",
            "placeholder": "​",
            "style": "IPY_MODEL_f07ff629e8914023b21764e579224ddd",
            "value": " 1/1 [00:00&lt;00:00,  2.42it/s]"
          }
        },
        "038a7ce75b9e43d49fa5f09a8148e0d8": {
          "model_module": "@jupyter-widgets/base",
          "model_name": "LayoutModel",
          "model_module_version": "1.2.0",
          "state": {
            "_model_module": "@jupyter-widgets/base",
            "_model_module_version": "1.2.0",
            "_model_name": "LayoutModel",
            "_view_count": null,
            "_view_module": "@jupyter-widgets/base",
            "_view_module_version": "1.2.0",
            "_view_name": "LayoutView",
            "align_content": null,
            "align_items": null,
            "align_self": null,
            "border": null,
            "bottom": null,
            "display": null,
            "flex": null,
            "flex_flow": null,
            "grid_area": null,
            "grid_auto_columns": null,
            "grid_auto_flow": null,
            "grid_auto_rows": null,
            "grid_column": null,
            "grid_gap": null,
            "grid_row": null,
            "grid_template_areas": null,
            "grid_template_columns": null,
            "grid_template_rows": null,
            "height": null,
            "justify_content": null,
            "justify_items": null,
            "left": null,
            "margin": null,
            "max_height": null,
            "max_width": null,
            "min_height": null,
            "min_width": null,
            "object_fit": null,
            "object_position": null,
            "order": null,
            "overflow": null,
            "overflow_x": null,
            "overflow_y": null,
            "padding": null,
            "right": null,
            "top": null,
            "visibility": null,
            "width": null
          }
        },
        "96fd121f59d94bfc904b563fc7b6dc53": {
          "model_module": "@jupyter-widgets/base",
          "model_name": "LayoutModel",
          "model_module_version": "1.2.0",
          "state": {
            "_model_module": "@jupyter-widgets/base",
            "_model_module_version": "1.2.0",
            "_model_name": "LayoutModel",
            "_view_count": null,
            "_view_module": "@jupyter-widgets/base",
            "_view_module_version": "1.2.0",
            "_view_name": "LayoutView",
            "align_content": null,
            "align_items": null,
            "align_self": null,
            "border": null,
            "bottom": null,
            "display": null,
            "flex": null,
            "flex_flow": null,
            "grid_area": null,
            "grid_auto_columns": null,
            "grid_auto_flow": null,
            "grid_auto_rows": null,
            "grid_column": null,
            "grid_gap": null,
            "grid_row": null,
            "grid_template_areas": null,
            "grid_template_columns": null,
            "grid_template_rows": null,
            "height": null,
            "justify_content": null,
            "justify_items": null,
            "left": null,
            "margin": null,
            "max_height": null,
            "max_width": null,
            "min_height": null,
            "min_width": null,
            "object_fit": null,
            "object_position": null,
            "order": null,
            "overflow": null,
            "overflow_x": null,
            "overflow_y": null,
            "padding": null,
            "right": null,
            "top": null,
            "visibility": null,
            "width": null
          }
        },
        "69c52eb5c2fd47f993ff5f30f1ec121d": {
          "model_module": "@jupyter-widgets/controls",
          "model_name": "DescriptionStyleModel",
          "model_module_version": "1.5.0",
          "state": {
            "_model_module": "@jupyter-widgets/controls",
            "_model_module_version": "1.5.0",
            "_model_name": "DescriptionStyleModel",
            "_view_count": null,
            "_view_module": "@jupyter-widgets/base",
            "_view_module_version": "1.2.0",
            "_view_name": "StyleView",
            "description_width": ""
          }
        },
        "749aefbcc97540ba839e6c8c308e7b47": {
          "model_module": "@jupyter-widgets/base",
          "model_name": "LayoutModel",
          "model_module_version": "1.2.0",
          "state": {
            "_model_module": "@jupyter-widgets/base",
            "_model_module_version": "1.2.0",
            "_model_name": "LayoutModel",
            "_view_count": null,
            "_view_module": "@jupyter-widgets/base",
            "_view_module_version": "1.2.0",
            "_view_name": "LayoutView",
            "align_content": null,
            "align_items": null,
            "align_self": null,
            "border": null,
            "bottom": null,
            "display": null,
            "flex": null,
            "flex_flow": null,
            "grid_area": null,
            "grid_auto_columns": null,
            "grid_auto_flow": null,
            "grid_auto_rows": null,
            "grid_column": null,
            "grid_gap": null,
            "grid_row": null,
            "grid_template_areas": null,
            "grid_template_columns": null,
            "grid_template_rows": null,
            "height": null,
            "justify_content": null,
            "justify_items": null,
            "left": null,
            "margin": null,
            "max_height": null,
            "max_width": null,
            "min_height": null,
            "min_width": null,
            "object_fit": null,
            "object_position": null,
            "order": null,
            "overflow": null,
            "overflow_x": null,
            "overflow_y": null,
            "padding": null,
            "right": null,
            "top": null,
            "visibility": null,
            "width": null
          }
        },
        "ac2b43274664488aa3e7b835673f970a": {
          "model_module": "@jupyter-widgets/controls",
          "model_name": "ProgressStyleModel",
          "model_module_version": "1.5.0",
          "state": {
            "_model_module": "@jupyter-widgets/controls",
            "_model_module_version": "1.5.0",
            "_model_name": "ProgressStyleModel",
            "_view_count": null,
            "_view_module": "@jupyter-widgets/base",
            "_view_module_version": "1.2.0",
            "_view_name": "StyleView",
            "bar_color": null,
            "description_width": ""
          }
        },
        "ed69f035ee154cbbaebd92ecf3164fa3": {
          "model_module": "@jupyter-widgets/base",
          "model_name": "LayoutModel",
          "model_module_version": "1.2.0",
          "state": {
            "_model_module": "@jupyter-widgets/base",
            "_model_module_version": "1.2.0",
            "_model_name": "LayoutModel",
            "_view_count": null,
            "_view_module": "@jupyter-widgets/base",
            "_view_module_version": "1.2.0",
            "_view_name": "LayoutView",
            "align_content": null,
            "align_items": null,
            "align_self": null,
            "border": null,
            "bottom": null,
            "display": null,
            "flex": null,
            "flex_flow": null,
            "grid_area": null,
            "grid_auto_columns": null,
            "grid_auto_flow": null,
            "grid_auto_rows": null,
            "grid_column": null,
            "grid_gap": null,
            "grid_row": null,
            "grid_template_areas": null,
            "grid_template_columns": null,
            "grid_template_rows": null,
            "height": null,
            "justify_content": null,
            "justify_items": null,
            "left": null,
            "margin": null,
            "max_height": null,
            "max_width": null,
            "min_height": null,
            "min_width": null,
            "object_fit": null,
            "object_position": null,
            "order": null,
            "overflow": null,
            "overflow_x": null,
            "overflow_y": null,
            "padding": null,
            "right": null,
            "top": null,
            "visibility": null,
            "width": null
          }
        },
        "f07ff629e8914023b21764e579224ddd": {
          "model_module": "@jupyter-widgets/controls",
          "model_name": "DescriptionStyleModel",
          "model_module_version": "1.5.0",
          "state": {
            "_model_module": "@jupyter-widgets/controls",
            "_model_module_version": "1.5.0",
            "_model_name": "DescriptionStyleModel",
            "_view_count": null,
            "_view_module": "@jupyter-widgets/base",
            "_view_module_version": "1.2.0",
            "_view_name": "StyleView",
            "description_width": ""
          }
        },
        "2a83d5bdaa0043d1836fdf013ada2261": {
          "model_module": "@jupyter-widgets/controls",
          "model_name": "HBoxModel",
          "model_module_version": "1.5.0",
          "state": {
            "_dom_classes": [],
            "_model_module": "@jupyter-widgets/controls",
            "_model_module_version": "1.5.0",
            "_model_name": "HBoxModel",
            "_view_count": null,
            "_view_module": "@jupyter-widgets/controls",
            "_view_module_version": "1.5.0",
            "_view_name": "HBoxView",
            "box_style": "",
            "children": [
              "IPY_MODEL_ed3f58d92a544b7b8f7508b98c6ca33f",
              "IPY_MODEL_cd7fbf3f10bd468fb125f0361715bba5",
              "IPY_MODEL_ad0f531209854f5f9a043a4e4171131d"
            ],
            "layout": "IPY_MODEL_a0cea2bc8de14620982bde0831a9b232"
          }
        },
        "ed3f58d92a544b7b8f7508b98c6ca33f": {
          "model_module": "@jupyter-widgets/controls",
          "model_name": "HTMLModel",
          "model_module_version": "1.5.0",
          "state": {
            "_dom_classes": [],
            "_model_module": "@jupyter-widgets/controls",
            "_model_module_version": "1.5.0",
            "_model_name": "HTMLModel",
            "_view_count": null,
            "_view_module": "@jupyter-widgets/controls",
            "_view_module_version": "1.5.0",
            "_view_name": "HTMLView",
            "description": "",
            "description_tooltip": null,
            "layout": "IPY_MODEL_7fddf87871e84646b56a6e387f7f5657",
            "placeholder": "​",
            "style": "IPY_MODEL_1f0caf008d154989b504f8491a1d1243",
            "value": "100%"
          }
        },
        "cd7fbf3f10bd468fb125f0361715bba5": {
          "model_module": "@jupyter-widgets/controls",
          "model_name": "FloatProgressModel",
          "model_module_version": "1.5.0",
          "state": {
            "_dom_classes": [],
            "_model_module": "@jupyter-widgets/controls",
            "_model_module_version": "1.5.0",
            "_model_name": "FloatProgressModel",
            "_view_count": null,
            "_view_module": "@jupyter-widgets/controls",
            "_view_module_version": "1.5.0",
            "_view_name": "ProgressView",
            "bar_style": "success",
            "description": "",
            "description_tooltip": null,
            "layout": "IPY_MODEL_c099620505f74b5cb28545ed4e78edd2",
            "max": 1,
            "min": 0,
            "orientation": "horizontal",
            "style": "IPY_MODEL_18a88be33c854c73ac08f3b1319cd004",
            "value": 1
          }
        },
        "ad0f531209854f5f9a043a4e4171131d": {
          "model_module": "@jupyter-widgets/controls",
          "model_name": "HTMLModel",
          "model_module_version": "1.5.0",
          "state": {
            "_dom_classes": [],
            "_model_module": "@jupyter-widgets/controls",
            "_model_module_version": "1.5.0",
            "_model_name": "HTMLModel",
            "_view_count": null,
            "_view_module": "@jupyter-widgets/controls",
            "_view_module_version": "1.5.0",
            "_view_name": "HTMLView",
            "description": "",
            "description_tooltip": null,
            "layout": "IPY_MODEL_d8e822b7edb34787ab28b428ed252b65",
            "placeholder": "​",
            "style": "IPY_MODEL_bbb6a240a4ca4a548a6aafeec7550491",
            "value": " 1/1 [00:00&lt;00:00,  4.80it/s]"
          }
        },
        "a0cea2bc8de14620982bde0831a9b232": {
          "model_module": "@jupyter-widgets/base",
          "model_name": "LayoutModel",
          "model_module_version": "1.2.0",
          "state": {
            "_model_module": "@jupyter-widgets/base",
            "_model_module_version": "1.2.0",
            "_model_name": "LayoutModel",
            "_view_count": null,
            "_view_module": "@jupyter-widgets/base",
            "_view_module_version": "1.2.0",
            "_view_name": "LayoutView",
            "align_content": null,
            "align_items": null,
            "align_self": null,
            "border": null,
            "bottom": null,
            "display": null,
            "flex": null,
            "flex_flow": null,
            "grid_area": null,
            "grid_auto_columns": null,
            "grid_auto_flow": null,
            "grid_auto_rows": null,
            "grid_column": null,
            "grid_gap": null,
            "grid_row": null,
            "grid_template_areas": null,
            "grid_template_columns": null,
            "grid_template_rows": null,
            "height": null,
            "justify_content": null,
            "justify_items": null,
            "left": null,
            "margin": null,
            "max_height": null,
            "max_width": null,
            "min_height": null,
            "min_width": null,
            "object_fit": null,
            "object_position": null,
            "order": null,
            "overflow": null,
            "overflow_x": null,
            "overflow_y": null,
            "padding": null,
            "right": null,
            "top": null,
            "visibility": null,
            "width": null
          }
        },
        "7fddf87871e84646b56a6e387f7f5657": {
          "model_module": "@jupyter-widgets/base",
          "model_name": "LayoutModel",
          "model_module_version": "1.2.0",
          "state": {
            "_model_module": "@jupyter-widgets/base",
            "_model_module_version": "1.2.0",
            "_model_name": "LayoutModel",
            "_view_count": null,
            "_view_module": "@jupyter-widgets/base",
            "_view_module_version": "1.2.0",
            "_view_name": "LayoutView",
            "align_content": null,
            "align_items": null,
            "align_self": null,
            "border": null,
            "bottom": null,
            "display": null,
            "flex": null,
            "flex_flow": null,
            "grid_area": null,
            "grid_auto_columns": null,
            "grid_auto_flow": null,
            "grid_auto_rows": null,
            "grid_column": null,
            "grid_gap": null,
            "grid_row": null,
            "grid_template_areas": null,
            "grid_template_columns": null,
            "grid_template_rows": null,
            "height": null,
            "justify_content": null,
            "justify_items": null,
            "left": null,
            "margin": null,
            "max_height": null,
            "max_width": null,
            "min_height": null,
            "min_width": null,
            "object_fit": null,
            "object_position": null,
            "order": null,
            "overflow": null,
            "overflow_x": null,
            "overflow_y": null,
            "padding": null,
            "right": null,
            "top": null,
            "visibility": null,
            "width": null
          }
        },
        "1f0caf008d154989b504f8491a1d1243": {
          "model_module": "@jupyter-widgets/controls",
          "model_name": "DescriptionStyleModel",
          "model_module_version": "1.5.0",
          "state": {
            "_model_module": "@jupyter-widgets/controls",
            "_model_module_version": "1.5.0",
            "_model_name": "DescriptionStyleModel",
            "_view_count": null,
            "_view_module": "@jupyter-widgets/base",
            "_view_module_version": "1.2.0",
            "_view_name": "StyleView",
            "description_width": ""
          }
        },
        "c099620505f74b5cb28545ed4e78edd2": {
          "model_module": "@jupyter-widgets/base",
          "model_name": "LayoutModel",
          "model_module_version": "1.2.0",
          "state": {
            "_model_module": "@jupyter-widgets/base",
            "_model_module_version": "1.2.0",
            "_model_name": "LayoutModel",
            "_view_count": null,
            "_view_module": "@jupyter-widgets/base",
            "_view_module_version": "1.2.0",
            "_view_name": "LayoutView",
            "align_content": null,
            "align_items": null,
            "align_self": null,
            "border": null,
            "bottom": null,
            "display": null,
            "flex": null,
            "flex_flow": null,
            "grid_area": null,
            "grid_auto_columns": null,
            "grid_auto_flow": null,
            "grid_auto_rows": null,
            "grid_column": null,
            "grid_gap": null,
            "grid_row": null,
            "grid_template_areas": null,
            "grid_template_columns": null,
            "grid_template_rows": null,
            "height": null,
            "justify_content": null,
            "justify_items": null,
            "left": null,
            "margin": null,
            "max_height": null,
            "max_width": null,
            "min_height": null,
            "min_width": null,
            "object_fit": null,
            "object_position": null,
            "order": null,
            "overflow": null,
            "overflow_x": null,
            "overflow_y": null,
            "padding": null,
            "right": null,
            "top": null,
            "visibility": null,
            "width": null
          }
        },
        "18a88be33c854c73ac08f3b1319cd004": {
          "model_module": "@jupyter-widgets/controls",
          "model_name": "ProgressStyleModel",
          "model_module_version": "1.5.0",
          "state": {
            "_model_module": "@jupyter-widgets/controls",
            "_model_module_version": "1.5.0",
            "_model_name": "ProgressStyleModel",
            "_view_count": null,
            "_view_module": "@jupyter-widgets/base",
            "_view_module_version": "1.2.0",
            "_view_name": "StyleView",
            "bar_color": null,
            "description_width": ""
          }
        },
        "d8e822b7edb34787ab28b428ed252b65": {
          "model_module": "@jupyter-widgets/base",
          "model_name": "LayoutModel",
          "model_module_version": "1.2.0",
          "state": {
            "_model_module": "@jupyter-widgets/base",
            "_model_module_version": "1.2.0",
            "_model_name": "LayoutModel",
            "_view_count": null,
            "_view_module": "@jupyter-widgets/base",
            "_view_module_version": "1.2.0",
            "_view_name": "LayoutView",
            "align_content": null,
            "align_items": null,
            "align_self": null,
            "border": null,
            "bottom": null,
            "display": null,
            "flex": null,
            "flex_flow": null,
            "grid_area": null,
            "grid_auto_columns": null,
            "grid_auto_flow": null,
            "grid_auto_rows": null,
            "grid_column": null,
            "grid_gap": null,
            "grid_row": null,
            "grid_template_areas": null,
            "grid_template_columns": null,
            "grid_template_rows": null,
            "height": null,
            "justify_content": null,
            "justify_items": null,
            "left": null,
            "margin": null,
            "max_height": null,
            "max_width": null,
            "min_height": null,
            "min_width": null,
            "object_fit": null,
            "object_position": null,
            "order": null,
            "overflow": null,
            "overflow_x": null,
            "overflow_y": null,
            "padding": null,
            "right": null,
            "top": null,
            "visibility": null,
            "width": null
          }
        },
        "bbb6a240a4ca4a548a6aafeec7550491": {
          "model_module": "@jupyter-widgets/controls",
          "model_name": "DescriptionStyleModel",
          "model_module_version": "1.5.0",
          "state": {
            "_model_module": "@jupyter-widgets/controls",
            "_model_module_version": "1.5.0",
            "_model_name": "DescriptionStyleModel",
            "_view_count": null,
            "_view_module": "@jupyter-widgets/base",
            "_view_module_version": "1.2.0",
            "_view_name": "StyleView",
            "description_width": ""
          }
        },
        "99b1eaa64a4e4c55917ae38793f83785": {
          "model_module": "@jupyter-widgets/controls",
          "model_name": "HBoxModel",
          "model_module_version": "1.5.0",
          "state": {
            "_dom_classes": [],
            "_model_module": "@jupyter-widgets/controls",
            "_model_module_version": "1.5.0",
            "_model_name": "HBoxModel",
            "_view_count": null,
            "_view_module": "@jupyter-widgets/controls",
            "_view_module_version": "1.5.0",
            "_view_name": "HBoxView",
            "box_style": "",
            "children": [
              "IPY_MODEL_935368fa68cb42bb89bacf8351cbc5f6",
              "IPY_MODEL_1cd1bdc0cfb44520abafb3603dd46d67",
              "IPY_MODEL_32e95aa30a0e4a2ebd94d3f7c4b0648a"
            ],
            "layout": "IPY_MODEL_7ce8184478a74a1dbb5314827ae6af1e"
          }
        },
        "935368fa68cb42bb89bacf8351cbc5f6": {
          "model_module": "@jupyter-widgets/controls",
          "model_name": "HTMLModel",
          "model_module_version": "1.5.0",
          "state": {
            "_dom_classes": [],
            "_model_module": "@jupyter-widgets/controls",
            "_model_module_version": "1.5.0",
            "_model_name": "HTMLModel",
            "_view_count": null,
            "_view_module": "@jupyter-widgets/controls",
            "_view_module_version": "1.5.0",
            "_view_name": "HTMLView",
            "description": "",
            "description_tooltip": null,
            "layout": "IPY_MODEL_e2cded3b3a5a4519a4dd11681f6a0564",
            "placeholder": "​",
            "style": "IPY_MODEL_39b5b67699f54799868fad03353a7be9",
            "value": "100%"
          }
        },
        "1cd1bdc0cfb44520abafb3603dd46d67": {
          "model_module": "@jupyter-widgets/controls",
          "model_name": "FloatProgressModel",
          "model_module_version": "1.5.0",
          "state": {
            "_dom_classes": [],
            "_model_module": "@jupyter-widgets/controls",
            "_model_module_version": "1.5.0",
            "_model_name": "FloatProgressModel",
            "_view_count": null,
            "_view_module": "@jupyter-widgets/controls",
            "_view_module_version": "1.5.0",
            "_view_name": "ProgressView",
            "bar_style": "success",
            "description": "",
            "description_tooltip": null,
            "layout": "IPY_MODEL_1568d1027142485ca5ef91d0d53edec3",
            "max": 1,
            "min": 0,
            "orientation": "horizontal",
            "style": "IPY_MODEL_bb620556b3b146c6b21706addf62aa45",
            "value": 1
          }
        },
        "32e95aa30a0e4a2ebd94d3f7c4b0648a": {
          "model_module": "@jupyter-widgets/controls",
          "model_name": "HTMLModel",
          "model_module_version": "1.5.0",
          "state": {
            "_dom_classes": [],
            "_model_module": "@jupyter-widgets/controls",
            "_model_module_version": "1.5.0",
            "_model_name": "HTMLModel",
            "_view_count": null,
            "_view_module": "@jupyter-widgets/controls",
            "_view_module_version": "1.5.0",
            "_view_name": "HTMLView",
            "description": "",
            "description_tooltip": null,
            "layout": "IPY_MODEL_ad3ec3e89c2f4c78945843537abd56cd",
            "placeholder": "​",
            "style": "IPY_MODEL_d7e704d2ed7d43aeba7b3279ced02e4a",
            "value": " 1/1 [00:00&lt;00:00,  5.27it/s]"
          }
        },
        "7ce8184478a74a1dbb5314827ae6af1e": {
          "model_module": "@jupyter-widgets/base",
          "model_name": "LayoutModel",
          "model_module_version": "1.2.0",
          "state": {
            "_model_module": "@jupyter-widgets/base",
            "_model_module_version": "1.2.0",
            "_model_name": "LayoutModel",
            "_view_count": null,
            "_view_module": "@jupyter-widgets/base",
            "_view_module_version": "1.2.0",
            "_view_name": "LayoutView",
            "align_content": null,
            "align_items": null,
            "align_self": null,
            "border": null,
            "bottom": null,
            "display": null,
            "flex": null,
            "flex_flow": null,
            "grid_area": null,
            "grid_auto_columns": null,
            "grid_auto_flow": null,
            "grid_auto_rows": null,
            "grid_column": null,
            "grid_gap": null,
            "grid_row": null,
            "grid_template_areas": null,
            "grid_template_columns": null,
            "grid_template_rows": null,
            "height": null,
            "justify_content": null,
            "justify_items": null,
            "left": null,
            "margin": null,
            "max_height": null,
            "max_width": null,
            "min_height": null,
            "min_width": null,
            "object_fit": null,
            "object_position": null,
            "order": null,
            "overflow": null,
            "overflow_x": null,
            "overflow_y": null,
            "padding": null,
            "right": null,
            "top": null,
            "visibility": null,
            "width": null
          }
        },
        "e2cded3b3a5a4519a4dd11681f6a0564": {
          "model_module": "@jupyter-widgets/base",
          "model_name": "LayoutModel",
          "model_module_version": "1.2.0",
          "state": {
            "_model_module": "@jupyter-widgets/base",
            "_model_module_version": "1.2.0",
            "_model_name": "LayoutModel",
            "_view_count": null,
            "_view_module": "@jupyter-widgets/base",
            "_view_module_version": "1.2.0",
            "_view_name": "LayoutView",
            "align_content": null,
            "align_items": null,
            "align_self": null,
            "border": null,
            "bottom": null,
            "display": null,
            "flex": null,
            "flex_flow": null,
            "grid_area": null,
            "grid_auto_columns": null,
            "grid_auto_flow": null,
            "grid_auto_rows": null,
            "grid_column": null,
            "grid_gap": null,
            "grid_row": null,
            "grid_template_areas": null,
            "grid_template_columns": null,
            "grid_template_rows": null,
            "height": null,
            "justify_content": null,
            "justify_items": null,
            "left": null,
            "margin": null,
            "max_height": null,
            "max_width": null,
            "min_height": null,
            "min_width": null,
            "object_fit": null,
            "object_position": null,
            "order": null,
            "overflow": null,
            "overflow_x": null,
            "overflow_y": null,
            "padding": null,
            "right": null,
            "top": null,
            "visibility": null,
            "width": null
          }
        },
        "39b5b67699f54799868fad03353a7be9": {
          "model_module": "@jupyter-widgets/controls",
          "model_name": "DescriptionStyleModel",
          "model_module_version": "1.5.0",
          "state": {
            "_model_module": "@jupyter-widgets/controls",
            "_model_module_version": "1.5.0",
            "_model_name": "DescriptionStyleModel",
            "_view_count": null,
            "_view_module": "@jupyter-widgets/base",
            "_view_module_version": "1.2.0",
            "_view_name": "StyleView",
            "description_width": ""
          }
        },
        "1568d1027142485ca5ef91d0d53edec3": {
          "model_module": "@jupyter-widgets/base",
          "model_name": "LayoutModel",
          "model_module_version": "1.2.0",
          "state": {
            "_model_module": "@jupyter-widgets/base",
            "_model_module_version": "1.2.0",
            "_model_name": "LayoutModel",
            "_view_count": null,
            "_view_module": "@jupyter-widgets/base",
            "_view_module_version": "1.2.0",
            "_view_name": "LayoutView",
            "align_content": null,
            "align_items": null,
            "align_self": null,
            "border": null,
            "bottom": null,
            "display": null,
            "flex": null,
            "flex_flow": null,
            "grid_area": null,
            "grid_auto_columns": null,
            "grid_auto_flow": null,
            "grid_auto_rows": null,
            "grid_column": null,
            "grid_gap": null,
            "grid_row": null,
            "grid_template_areas": null,
            "grid_template_columns": null,
            "grid_template_rows": null,
            "height": null,
            "justify_content": null,
            "justify_items": null,
            "left": null,
            "margin": null,
            "max_height": null,
            "max_width": null,
            "min_height": null,
            "min_width": null,
            "object_fit": null,
            "object_position": null,
            "order": null,
            "overflow": null,
            "overflow_x": null,
            "overflow_y": null,
            "padding": null,
            "right": null,
            "top": null,
            "visibility": null,
            "width": null
          }
        },
        "bb620556b3b146c6b21706addf62aa45": {
          "model_module": "@jupyter-widgets/controls",
          "model_name": "ProgressStyleModel",
          "model_module_version": "1.5.0",
          "state": {
            "_model_module": "@jupyter-widgets/controls",
            "_model_module_version": "1.5.0",
            "_model_name": "ProgressStyleModel",
            "_view_count": null,
            "_view_module": "@jupyter-widgets/base",
            "_view_module_version": "1.2.0",
            "_view_name": "StyleView",
            "bar_color": null,
            "description_width": ""
          }
        },
        "ad3ec3e89c2f4c78945843537abd56cd": {
          "model_module": "@jupyter-widgets/base",
          "model_name": "LayoutModel",
          "model_module_version": "1.2.0",
          "state": {
            "_model_module": "@jupyter-widgets/base",
            "_model_module_version": "1.2.0",
            "_model_name": "LayoutModel",
            "_view_count": null,
            "_view_module": "@jupyter-widgets/base",
            "_view_module_version": "1.2.0",
            "_view_name": "LayoutView",
            "align_content": null,
            "align_items": null,
            "align_self": null,
            "border": null,
            "bottom": null,
            "display": null,
            "flex": null,
            "flex_flow": null,
            "grid_area": null,
            "grid_auto_columns": null,
            "grid_auto_flow": null,
            "grid_auto_rows": null,
            "grid_column": null,
            "grid_gap": null,
            "grid_row": null,
            "grid_template_areas": null,
            "grid_template_columns": null,
            "grid_template_rows": null,
            "height": null,
            "justify_content": null,
            "justify_items": null,
            "left": null,
            "margin": null,
            "max_height": null,
            "max_width": null,
            "min_height": null,
            "min_width": null,
            "object_fit": null,
            "object_position": null,
            "order": null,
            "overflow": null,
            "overflow_x": null,
            "overflow_y": null,
            "padding": null,
            "right": null,
            "top": null,
            "visibility": null,
            "width": null
          }
        },
        "d7e704d2ed7d43aeba7b3279ced02e4a": {
          "model_module": "@jupyter-widgets/controls",
          "model_name": "DescriptionStyleModel",
          "model_module_version": "1.5.0",
          "state": {
            "_model_module": "@jupyter-widgets/controls",
            "_model_module_version": "1.5.0",
            "_model_name": "DescriptionStyleModel",
            "_view_count": null,
            "_view_module": "@jupyter-widgets/base",
            "_view_module_version": "1.2.0",
            "_view_name": "StyleView",
            "description_width": ""
          }
        }
      }
    }
  },
  "nbformat": 4,
  "nbformat_minor": 0
}