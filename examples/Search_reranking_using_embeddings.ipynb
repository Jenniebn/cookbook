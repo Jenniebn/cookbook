{
  "cells": [
    {
      "cell_type": "markdown",
      "metadata": {
        "id": "Tce3stUlHN0L"
      },
      "source": [
        "##### Copyright 2025 Google LLC."
      ]
    },
    {
      "cell_type": "code",
      "execution_count": 1,
      "metadata": {
        "cellView": "form",
        "id": "tuOe1ymfHZPu"
      },
      "outputs": [],
      "source": [
        "# @title Licensed under the Apache License, Version 2.0 (the \"License\");\n",
        "# you may not use this file except in compliance with the License.\n",
        "# You may obtain a copy of the License at\n",
        "#\n",
        "# https://www.apache.org/licenses/LICENSE-2.0\n",
        "#\n",
        "# Unless required by applicable law or agreed to in writing, software\n",
        "# distributed under the License is distributed on an \"AS IS\" BASIS,\n",
        "# WITHOUT WARRANTIES OR CONDITIONS OF ANY KIND, either express or implied.\n",
        "# See the License for the specific language governing permissions and\n",
        "# limitations under the License."
      ]
    },
    {
      "cell_type": "markdown",
      "metadata": {
        "id": "oJt4OFKPgO8C"
      },
      "source": [
        "# Search re-ranking using Gemini embeddings"
      ]
    },
    {
      "cell_type": "markdown",
      "metadata": {
        "id": "k5n0sCc_fKcB"
      },
      "source": [
        "<a target=\"_blank\" href=\"https://colab.research.google.com/github/google-gemini/cookbook/blob/main/examples/Search_reranking_using_embeddings.ipynb\"><img src=\"https://colab.research.google.com/assets/colab-badge.svg\" height=30/>"
      ]
    },
    {
      "cell_type": "markdown",
      "metadata": {
        "id": "0UO0Cgq0mRlG"
      },
      "source": [
        "This notebook demonstrates the use of embeddings to re-rank search results. This walkthrough will focus on the following objectives:\n",
        "\n",
        "\n",
        "\n",
        "1.   Setting up your development environment and API access to use Gemini.\n",
        "2.   Using Gemini's function calling support to access the Wikipedia API.\n",
        "3.   Embedding content via Gemini API.\n",
        "4.   Re-ranking the search results.\n"
      ]
    },
    {
      "cell_type": "markdown",
      "metadata": {
        "id": "-e5Aje-DTQOq"
      },
      "source": [
        "This is how you will implement search re-ranking:\n",
        "\n",
        "\n",
        "1.   The user will make a search query.\n",
        "2.   You will use Wikipedia API to return the relevant search results.\n",
        "3.   The search results will be embedded and their relevance will be evaluated by calculating distance metrics like cosine similarity.\n",
        "4.   The most relevant search result will be returned as the final answer."
      ]
    },
    {
      "cell_type": "markdown",
      "metadata": {
        "id": "rpVL_QrF5-oF"
      },
      "source": [
        "> The non-source code materials in this notebook are licensed under Creative Commons - Attribution-ShareAlike CC-BY-SA 4.0, https://creativecommons.org/licenses/by-sa/4.0/legalcode."
      ]
    },
    {
      "cell_type": "markdown",
      "metadata": {
        "id": "pwImlRg9DUp7"
      },
      "source": [
        "## Setup\n"
      ]
    },
    {
      "cell_type": "code",
      "execution_count": 2,
      "metadata": {
        "id": "Nv_6f_qNHe_2",
        "outputId": "e064da65-087c-4770-d577-2104fb6d0e7d",
        "colab": {
          "base_uri": "https://localhost:8080/"
        }
      },
      "outputs": [
        {
          "output_type": "stream",
          "name": "stdout",
          "text": [
            "  Preparing metadata (setup.py) ... \u001b[?25l\u001b[?25hdone\n",
            "  Building wheel for wikipedia (setup.py) ... \u001b[?25l\u001b[?25hdone\n"
          ]
        }
      ],
      "source": [
        "%pip install -q -U \"google-genai>=1.0.0\"\n",
        "%pip install -q wikipedia"
      ]
    },
    {
      "cell_type": "markdown",
      "metadata": {
        "id": "739f0bb73f05"
      },
      "source": [
        "Note: The [`wikipedia` package](https://pypi.org/project/wikipedia/) notes that it was \"designed for ease of use and simplicity, not for advanced use\", and that production or heavy use should instead \"use [Pywikipediabot](http://www.mediawiki.org/wiki/Manual:Pywikipediabot) or one of the other more advanced [Python MediaWiki API wrappers](http://en.wikipedia.org/wiki/Wikipedia:Creating_a_bot#Python)\"."
      ]
    },
    {
      "cell_type": "markdown",
      "metadata": {
        "id": "aeo_9J9iDtCx"
      },
      "source": [
        "To run the following cell, your API key must be stored it in a Colab Secret named `GOOGLE_API_KEY`. If you don't already have an API key, or you're not sure how to create a Colab Secret, see the [Authentication](https://github.com/google-gemini/cookbook/blob/main/quickstarts/Authentication.ipynb) quickstart for an example."
      ]
    },
    {
      "cell_type": "code",
      "execution_count": 3,
      "metadata": {
        "id": "yxzEH0GqLshI"
      },
      "outputs": [],
      "source": [
        "from google.colab import userdata\n",
        "from google import genai\n",
        "API_KEY = userdata.get('GOOGLE_API_KEY')\n",
        "client = genai.Client(api_key=API_KEY)"
      ]
    },
    {
      "cell_type": "code",
      "execution_count": 4,
      "metadata": {
        "cellView": "code",
        "id": "O7JW3OsF8Ojo"
      },
      "outputs": [],
      "source": [
        "# Define the model to be used in this notebook\n",
        "# Note: experimental models have more limited quota for API calls.\n",
        "\n",
        "MODEL_ID=\"gemini-2.0-flash\" # @param [\"gemini-2.0-flash-lite\",\"gemini-2.0-flash\",\"gemini-2.5-pro-exp-03-25\"] {\"allow-input\":true, isTemplate: true}\n",
        "model=f\"models/{MODEL_ID}\""
      ]
    },
    {
      "cell_type": "markdown",
      "metadata": {
        "id": "0hkJSFIWI7G1"
      },
      "source": [
        "## Function Calling with the Gemini API"
      ]
    },
    {
      "cell_type": "markdown",
      "metadata": {
        "id": "7HjN6hsAJkOq"
      },
      "source": [
        "As stated earlier, this tutorial uses Gemini's function calling support to access the Wikipedia API. Please refer to the [docs](https://ai.google.dev/docs/function_calling) to learn more about function calling."
      ]
    },
    {
      "cell_type": "markdown",
      "metadata": {
        "id": "fpFkazXUenkK"
      },
      "source": [
        "### Step 1: Define the Search Function"
      ]
    },
    {
      "cell_type": "markdown",
      "metadata": {
        "id": "2fp-m-5Ke0XY"
      },
      "source": [
        "To cater to the search engine needs, you will design this function in the following way:\n",
        "\n",
        "\n",
        "*   For each search query, the search engine will use the `wikipedia.search` method to get relevant topics.\n",
        "*   From the relevant topics, the engine will choose `n_topics(int)` top candidates and will use `gemini-2.0-flash` to extract relevant information from the page.\n",
        "*   The engine will avoid duplicate entries by maintaining a search history.\n"
      ]
    },
    {
      "cell_type": "code",
      "execution_count": 5,
      "metadata": {
        "cellView": "code",
        "id": "2U27tdP8OBys"
      },
      "outputs": [],
      "source": [
        "from typing import List\n",
        "import textwrap\n",
        "\n",
        "import wikipedia\n",
        "from wikipedia.exceptions import DisambiguationError, PageError\n",
        "\n",
        "# This is the actual function that would be called based on the model's suggestion\n",
        "# Define the function with type hints and docstring\n",
        "def wikipedia_search(search_queries: List[str]) -> List[str]:\n",
        "  \"\"\"Search wikipedia for each query and summarize relevant docs.\n",
        "    Args:\n",
        "        search_queries: The user query to search wikipedia.\n",
        "\n",
        "    Returns:\n",
        "        A list of relevant information from wikipedia based on the query.\n",
        "  \"\"\"\n",
        "  n_topics=3\n",
        "  search_history = set() # tracking search history\n",
        "  search_urls = []\n",
        "\n",
        "  summary_results = []\n",
        "\n",
        "  for query in search_queries:\n",
        "    print(f'Searching for \"{query}\"')\n",
        "    search_terms = wikipedia.search(query)\n",
        "\n",
        "    print(f\"Related search terms: {search_terms[:n_topics]}\")\n",
        "    for search_term in search_terms[:n_topics]: # select first `n_topics` candidates\n",
        "      if search_term in search_history: # check if the topic is already covered\n",
        "        continue\n",
        "\n",
        "      print(f'Fetching page: \"{search_term}\"')\n",
        "      search_history.add(search_term) # add to search history\n",
        "\n",
        "      try:\n",
        "        # extract the relevant data by using `gemini-2.0-flash` model\n",
        "        page = wikipedia.page(search_term, auto_suggest=False)\n",
        "        url = page.url\n",
        "        print(f\"Information Source: {url}\")\n",
        "        search_urls.append(url)\n",
        "        page = page.content\n",
        "\n",
        "        response = client.models.generate_content(\n",
        "            model=model,\n",
        "            contents=textwrap.dedent(\n",
        "                f\"\"\"\n",
        "                Extract relevant information\n",
        "                about user's query: {query}\n",
        "                From this source:\n",
        "\n",
        "                {page}\n",
        "\n",
        "                Note: Do not summarize. Only Extract and return the relevant information\n",
        "                \"\"\"\n",
        "            ),\n",
        "        )\n",
        "\n",
        "        urls = [url]\n",
        "\n",
        "        if response.candidates[0].citation_metadata:\n",
        "          extra_citations = response.candidates[0].citation_metadata.citation_sources\n",
        "          extra_urls = [source.url for source in extra_citations]\n",
        "          urls.extend(extra_urls)\n",
        "          search_urls.extend(extra_urls)\n",
        "          print(\"Additional citations:\", response.candidates[0].citation_metadata.citation_sources)\n",
        "        try:\n",
        "          text = response.text\n",
        "        except ValueError:\n",
        "          pass\n",
        "        else:\n",
        "          summary_results.append(text + \"\\n\\nBased on:\\n  \" + ',\\n  '.join(urls))\n",
        "\n",
        "      except DisambiguationError:\n",
        "        print(f\"\"\"Results when searching for \"{search_term}\" (originally for \"{query}\")\n",
        "        were ambiguous, hence skipping\"\"\")\n",
        "        continue\n",
        "\n",
        "      except PageError:\n",
        "        print(f'{search_term} did not match with any page id, hence skipping.')\n",
        "        continue\n",
        "\n",
        "      except:\n",
        "        print(f'{search_term} did not match with any page id, hence skipping.')\n",
        "        continue\n",
        "\n",
        "  print(f\"Information Sources:\")\n",
        "  for url in search_urls:\n",
        "    print('    ', url)\n",
        "\n",
        "  return summary_results"
      ]
    },
    {
      "cell_type": "code",
      "execution_count": 6,
      "metadata": {
        "id": "EWKkkKDXmzOX",
        "outputId": "0e92950a-28c8-4014-8c0d-4252bed3279c",
        "colab": {
          "base_uri": "https://localhost:8080/"
        }
      },
      "outputs": [
        {
          "output_type": "stream",
          "name": "stdout",
          "text": [
            "Searching for \"What are LLMs?\"\n",
            "Related search terms: ['Large language model', 'Vibe coding', 'DeepSeek']\n",
            "Fetching page: \"Large language model\"\n",
            "Information Source: https://en.wikipedia.org/wiki/Large_language_model\n",
            "Large language model did not match with any page id, hence skipping.\n",
            "Fetching page: \"Vibe coding\"\n",
            "Information Source: https://en.wikipedia.org/wiki/Vibe_coding\n",
            "Fetching page: \"DeepSeek\"\n",
            "Information Source: https://en.wikipedia.org/wiki/DeepSeek\n",
            "Information Sources:\n",
            "     https://en.wikipedia.org/wiki/Large_language_model\n",
            "     https://en.wikipedia.org/wiki/Vibe_coding\n",
            "     https://en.wikipedia.org/wiki/DeepSeek\n"
          ]
        }
      ],
      "source": [
        "example = wikipedia_search([\"What are LLMs?\"])"
      ]
    },
    {
      "cell_type": "markdown",
      "metadata": {
        "id": "8bPT114QEPgW"
      },
      "source": [
        "Here is what the search results look like:"
      ]
    },
    {
      "cell_type": "code",
      "execution_count": 7,
      "metadata": {
        "id": "8wy7YUFqEYTv",
        "outputId": "528cdb9e-6c35-4121-d2b7-f41433490dbc",
        "colab": {
          "base_uri": "https://localhost:8080/",
          "height": 261
        }
      },
      "outputs": [
        {
          "output_type": "display_data",
          "data": {
            "text/plain": [
              "<IPython.core.display.Markdown object>"
            ],
            "text/markdown": "Based on the provided source, here's the relevant information about what LLMs are:\n\n*   Vibe coding is an AI-dependent programming technique where a person describes a problem in a few sentences as a prompt to a large language model (LLM) tuned for coding.\n*   The concept refers to a coding approach that relies on LLMs, allowing programmers to generate working code by providing natural language descriptions rather than manually writing it.\n*   Karpathy described his approach as conversational, using voice commands while AI generates the actual code.\n*   the capabilities of LLMs were such that humans would no longer need to learn specific programming languages to command computers.\n\n\nBased on:\n  https://en.wikipedia.org/wiki/Vibe_coding"
          },
          "metadata": {}
        },
        {
          "output_type": "display_data",
          "data": {
            "text/plain": [
              "<IPython.core.display.Markdown object>"
            ],
            "text/markdown": "Large language models (LLMs) are developed by DeepSeek, a Chinese artificial intelligence company. DeepSeek-R1, one of their models, provides responses comparable to other LLMs like OpenAI's GPT-4 and o1. The training cost for DeepSeek's LLMs is reported to be significantly lower than others. DeepSeek's models are described as \"open weight.\"\n\n\nBased on:\n  https://en.wikipedia.org/wiki/DeepSeek"
          },
          "metadata": {}
        }
      ],
      "source": [
        "from IPython.display import display, Markdown\n",
        "\n",
        "for e in example:\n",
        "  display(Markdown(e))"
      ]
    },
    {
      "cell_type": "markdown",
      "metadata": {
        "id": "SKcH1LICeg5Z"
      },
      "source": [
        "### Step 2: Pass the System Instructions and Tools to the Model"
      ]
    },
    {
      "cell_type": "markdown",
      "metadata": {
        "id": "VedPbpzlh6jX"
      },
      "source": [
        "### Define the prompt"
      ]
    },
    {
      "cell_type": "markdown",
      "metadata": {
        "id": "5sLKZik7isBW"
      },
      "source": [
        "In order to have multiple supporting search queries to the user's original query, you will instruct the model to generate more such queries. This would help the engine to cover the asked question on comprehensive levels."
      ]
    },
    {
      "cell_type": "code",
      "execution_count": 8,
      "metadata": {
        "id": "Z-Ym3H9KIosY"
      },
      "outputs": [],
      "source": [
        "instructions = \"\"\"\n",
        "    You have access to the Wikipedia API which you will be using\n",
        "    to answer a user's query. Your job is to generate a list of search queries which\n",
        "    might answer a user's question. Be creative by using various key-phrases from\n",
        "    the user's query. To generate variety of queries, ask questions which are\n",
        "    related to the user's query that might help to find the answer. The more\n",
        "    queries you generate the better are the odds of you finding the correct answer.\n",
        "    Here is an example:\n",
        "\n",
        "    user: Tell me about Cricket World cup 2023 winners.\n",
        "\n",
        "    function_call: wikipedia_search([\n",
        "        'What is the name of the team that won the Cricket World Cup 2023?',\n",
        "        'Who was the captain of the Cricket World Cup 2023 winning team?',\n",
        "        'Which country hosted the Cricket World Cup 2023?',\n",
        "        'What was the venue of the Cricket World Cup 2023 final match?',\n",
        "        'Cricket World cup 2023',\n",
        "        'Who lifted the Cricket World Cup 2023 trophy?'\n",
        "    ])\n",
        "\n",
        "    The search function will return a list of article summaries, use these to\n",
        "    answer the  user's question.\n",
        "\"\"\""
      ]
    },
    {
      "cell_type": "markdown",
      "metadata": {
        "id": "qQcxR7cjLjGM"
      },
      "source": [
        "When using the Python SDK, you can provide Python functions directly as tools. The SDK automatically converts the Python function to declarations, handles the function call execution and response cycle for you. The Python SDK then automatically:\n",
        "\n",
        "- Detects function call responses from the model.\n",
        "- Call the corresponding Python function in your code.\n",
        "- Sends the function response back to the model.\n",
        "- Returns the model's final text response.\n",
        "\n",
        "To use this, define your function with type hints and a docstring as we did above, and then pass the function itself (not a JSON declaration) as a tool:\n",
        "\n",
        "Note: This approach only handles annotations of `AllowedType = (int | float | bool | str | list['AllowedType'] | dict[str, AllowedType])`"
      ]
    },
    {
      "cell_type": "markdown",
      "metadata": {
        "id": "3Wyn3lV-d5S_"
      },
      "source": [
        "In order to yield creative and a more random variety of questions, you could also utilize the model's temperature parameter. Values can range from [0.0,1.0], inclusive. A value closer to 1.0 will produce responses that are more varied and creative, while a value closer to 0.0 will typically result in more straightforward responses from the model."
      ]
    },
    {
      "cell_type": "code",
      "execution_count": 9,
      "metadata": {
        "id": "39kqTnBRLDeQ"
      },
      "outputs": [],
      "source": [
        "from google.genai import types\n",
        "\n",
        "config = types.GenerateContentConfig(\n",
        "    tools=[wikipedia_search],\n",
        "    system_instruction=instructions,\n",
        ") # Pass the function itself"
      ]
    },
    {
      "cell_type": "markdown",
      "metadata": {
        "id": "TD1vU6FXhYO5"
      },
      "source": [
        "### Step 3: Enable Automatic Function Calling and Call the API (Python SDK Only)"
      ]
    },
    {
      "cell_type": "markdown",
      "source": [],
      "metadata": {
        "id": "jDoDcydpA4Zq"
      }
    },
    {
      "cell_type": "markdown",
      "metadata": {
        "id": "qyUSnXJ5hg6x"
      },
      "source": [
        "Now start a new chat with default value of `automatic_function_calling`. Using the default `disable=None`, the `genai.ChatSession` will handle the back and forth required to call the function, and return the final response:"
      ]
    },
    {
      "cell_type": "code",
      "execution_count": 10,
      "metadata": {
        "cellView": "code",
        "id": "ZNJqA60yKNpT",
        "outputId": "0f9f50a0-2964-4286-9045-3d766a198f35",
        "colab": {
          "base_uri": "https://localhost:8080/"
        }
      },
      "outputs": [
        {
          "output_type": "stream",
          "name": "stdout",
          "text": [
            "Searching for \"deep sea life adaptations\"\n",
            "Related search terms: ['Deep sea', 'Deep-sea fish', 'Deep-sea gigantism']\n",
            "Fetching page: \"Deep sea\"\n",
            "Information Source: https://en.wikipedia.org/wiki/Deep_sea\n",
            "Fetching page: \"Deep-sea fish\"\n",
            "Information Source: https://en.wikipedia.org/wiki/Deep-sea_fish\n",
            "Deep-sea fish did not match with any page id, hence skipping.\n",
            "Fetching page: \"Deep-sea gigantism\"\n",
            "Information Source: https://en.wikipedia.org/wiki/Deep-sea_gigantism\n",
            "Searching for \"deep sea food sources\"\n",
            "Related search terms: ['Deep-sea fish', 'Deep sea', 'Deep-sea community']\n",
            "Fetching page: \"Deep-sea community\"\n",
            "Information Source: https://en.wikipedia.org/wiki/Deep-sea_community\n",
            "Searching for \"deep sea environment challenges\"\n",
            "Related search terms: ['Deep-sea community', 'Deepsea Challenger', 'Deep sea']\n",
            "Fetching page: \"Deepsea Challenger\"\n",
            "Information Source: https://en.wikipedia.org/wiki/Deepsea_Challenger\n",
            "Searching for \"deep sea organisms survival strategies\"\n",
            "Related search terms: ['List of longest-living organisms', 'Microorganism', 'Brine pool']\n",
            "Fetching page: \"List of longest-living organisms\"\n",
            "Information Source: https://en.wikipedia.org/wiki/List_of_longest-living_organisms\n",
            "List of longest-living organisms did not match with any page id, hence skipping.\n",
            "Fetching page: \"Microorganism\"\n",
            "Information Source: https://en.wikipedia.org/wiki/Microorganism\n",
            "Microorganism did not match with any page id, hence skipping.\n",
            "Fetching page: \"Brine pool\"\n",
            "Information Source: https://en.wikipedia.org/wiki/Brine_pool\n",
            "Searching for \"hydrothermal vent ecosystems\"\n",
            "Related search terms: ['Hydrothermal vent', 'Scaly-foot gastropod', 'Hydrothermal vent microbial communities']\n",
            "Fetching page: \"Hydrothermal vent\"\n",
            "Information Source: https://en.wikipedia.org/wiki/Hydrothermal_vent\n",
            "Hydrothermal vent did not match with any page id, hence skipping.\n",
            "Fetching page: \"Scaly-foot gastropod\"\n",
            "Information Source: https://en.wikipedia.org/wiki/Scaly-foot_gastropod\n",
            "Scaly-foot gastropod did not match with any page id, hence skipping.\n",
            "Fetching page: \"Hydrothermal vent microbial communities\"\n",
            "Information Source: https://en.wikipedia.org/wiki/Hydrothermal_vent_microbial_communities\n",
            "Hydrothermal vent microbial communities did not match with any page id, hence skipping.\n",
            "Searching for \"deep sea pressure adaptations\"\n",
            "Related search terms: ['Deep sea', 'Deep-sea gigantism', 'Deep-sea fish']\n",
            "Searching for \"deep sea bioluminescence\"\n",
            "Related search terms: ['Bioluminescence', 'Deep sea', 'Deep-sea fish']\n",
            "Fetching page: \"Bioluminescence\"\n",
            "Information Source: https://en.wikipedia.org/wiki/Bioluminescence\n",
            "Bioluminescence did not match with any page id, hence skipping.\n",
            "Searching for \"deep sea chemosynthesis\"\n",
            "Related search terms: ['Deep-sea community', 'Hydrothermal vent', 'Deep sea']\n",
            "Searching for \"How do deep-sea creatures get energy?\"\n",
            "Related search terms: ['Anglerfish', 'Subnautica', 'Ocean']\n",
            "Fetching page: \"Anglerfish\"\n",
            "Information Source: https://en.wikipedia.org/wiki/Anglerfish\n",
            "Fetching page: \"Subnautica\"\n",
            "Information Source: https://en.wikipedia.org/wiki/Subnautica\n",
            "Fetching page: \"Ocean\"\n",
            "Information Source: https://en.wikipedia.org/wiki/Ocean\n",
            "Ocean did not match with any page id, hence skipping.\n",
            "Searching for \"What are the challenges of living in the deep sea?\"\n",
            "Related search terms: ['Deep sea', 'Deep-sea community', 'Challenger Deep']\n",
            "Fetching page: \"Challenger Deep\"\n",
            "Information Source: https://en.wikipedia.org/wiki/Challenger_Deep\n",
            "Searching for \"What are the adaptations of deep-sea animals?\"\n",
            "Related search terms: ['Deep sea', 'Deep-sea community', 'Deep-sea fish']\n",
            "Information Sources:\n",
            "     https://en.wikipedia.org/wiki/Deep_sea\n",
            "     https://en.wikipedia.org/wiki/Deep-sea_fish\n",
            "     https://en.wikipedia.org/wiki/Deep-sea_gigantism\n",
            "     https://en.wikipedia.org/wiki/Deep-sea_community\n",
            "     https://en.wikipedia.org/wiki/Deepsea_Challenger\n",
            "     https://en.wikipedia.org/wiki/List_of_longest-living_organisms\n",
            "     https://en.wikipedia.org/wiki/Microorganism\n",
            "     https://en.wikipedia.org/wiki/Brine_pool\n",
            "     https://en.wikipedia.org/wiki/Hydrothermal_vent\n",
            "     https://en.wikipedia.org/wiki/Scaly-foot_gastropod\n",
            "     https://en.wikipedia.org/wiki/Hydrothermal_vent_microbial_communities\n",
            "     https://en.wikipedia.org/wiki/Bioluminescence\n",
            "     https://en.wikipedia.org/wiki/Anglerfish\n",
            "     https://en.wikipedia.org/wiki/Subnautica\n",
            "     https://en.wikipedia.org/wiki/Ocean\n",
            "     https://en.wikipedia.org/wiki/Challenger_Deep\n"
          ]
        }
      ],
      "source": [
        "chat = client.chats.create(model=model, config=config, history=[])\n",
        "\n",
        "query = \"Explain how deep-sea life survives.\"\n",
        "\n",
        "response = chat.send_message(query)"
      ]
    },
    {
      "cell_type": "code",
      "execution_count": 11,
      "metadata": {
        "id": "1l8KWb13M_lJ",
        "outputId": "90432924-7995-4280-e625-0056c7f8368f",
        "colab": {
          "base_uri": "https://localhost:8080/",
          "height": 250
        }
      },
      "outputs": [
        {
          "output_type": "display_data",
          "data": {
            "text/plain": [
              "<IPython.core.display.Markdown object>"
            ],
            "text/markdown": "Deep-sea life survives by adapting to the extreme conditions of low temperatures, darkness, and high pressure. Here's a breakdown:\n\n*   **Adaptations to the Environment:** Organisms have developed jelly-like flesh for buoyancy, large eyes with rod cells for low light, and specialized proteins and metabolic systems to withstand hydrostatic pressure. Some fish also have a retroreflector behind the retina for more sensitive vision in low light.\n\n*   **Food Sources:** Deep-sea creatures rely on marine snow (organic material falling from upper waters), scavenging, predation, and filtration. Some species at hydrothermal vents use chemosynthesis instead of dissolved organic matter, like the symbiotic relationship between tube worms and chemosynthetic bacteria.\n\n*   **Deep-Sea Gigantism:** Some deep-sea animals tend to be larger than their shallower-water relatives, potentially due to colder temperatures, food scarcity, reduced predation pressure, and increased dissolved oxygen concentrations.\n\n*   **Energy Conservation:** Some species conserve energy by retaining water in their gills for extended periods.\n\nIn extreme environments like brine pools, organisms have further adaptations to survive high salinity, lack of oxygen, and extreme temperatures, such as using alternative electron acceptors and forming symbiotic relationships with bacteria.\n"
          },
          "metadata": {}
        }
      ],
      "source": [
        "display(Markdown(response.text))"
      ]
    },
    {
      "cell_type": "markdown",
      "metadata": {
        "id": "ua7DPlj7HZyO"
      },
      "source": [
        "Check for additional citations:"
      ]
    },
    {
      "cell_type": "code",
      "execution_count": 12,
      "metadata": {
        "id": "ASotq7EcHAeo",
        "outputId": "bddd56a5-a566-4062-f0b9-f84788f1a3ec",
        "colab": {
          "base_uri": "https://localhost:8080/",
          "height": 35
        }
      },
      "outputs": [
        {
          "output_type": "execute_result",
          "data": {
            "text/plain": [
              "'No citations found'"
            ],
            "application/vnd.google.colaboratory.intrinsic+json": {
              "type": "string"
            }
          },
          "metadata": {},
          "execution_count": 12
        }
      ],
      "source": [
        "response.candidates[0].citation_metadata or 'No citations found'"
      ]
    },
    {
      "cell_type": "markdown",
      "metadata": {
        "id": "lIC_Mpd0-3vj"
      },
      "source": [
        "### Step 4: Understand Chat History"
      ]
    },
    {
      "cell_type": "markdown",
      "metadata": {
        "id": "A0CfKMjYFSQm"
      },
      "source": [
        "That looks like it worked. You can go through the chat history to see the details of what was sent and received in the function calls:"
      ]
    },
    {
      "cell_type": "code",
      "execution_count": 14,
      "metadata": {
        "id": "_9h2b8saNnxh",
        "outputId": "cb06a8a0-8b90-4a07-a0b6-f6a8b1bd9711",
        "colab": {
          "base_uri": "https://localhost:8080/",
          "height": 1000
        }
      },
      "outputs": [
        {
          "output_type": "display_data",
          "data": {
            "text/plain": [
              "<IPython.core.display.Markdown object>"
            ],
            "text/markdown": "### user:"
          },
          "metadata": {}
        },
        {
          "output_type": "display_data",
          "data": {
            "text/plain": [
              "<IPython.core.display.Markdown object>"
            ],
            "text/markdown": "Explain how deep-sea life survives."
          },
          "metadata": {}
        },
        {
          "output_type": "stream",
          "name": "stdout",
          "text": [
            "--------------------------------------------------------------------------------\n"
          ]
        },
        {
          "output_type": "display_data",
          "data": {
            "text/plain": [
              "<IPython.core.display.Markdown object>"
            ],
            "text/markdown": "### model:"
          },
          "metadata": {}
        },
        {
          "output_type": "stream",
          "name": "stdout",
          "text": [
            "wikipedia_search {\n",
            "  \"search_queries\": [\n",
            "    \"deep sea life adaptations\",\n",
            "    \"deep sea food sources\",\n",
            "    \"deep sea environment challenges\",\n",
            "    \"deep sea organisms survival strategies\",\n",
            "    \"hydrothermal vent ecosystems\",\n",
            "    \"deep sea pressure adaptations\",\n",
            "    \"deep sea bioluminescence\",\n",
            "    \"deep sea chemosynthesis\",\n",
            "    \"How do deep-sea creatures get energy?\",\n",
            "    \"What are the challenges of living in the deep sea?\",\n",
            "    \"What are the adaptations of deep-sea animals?\"\n",
            "  ]\n",
            "}\n",
            "--------------------------------------------------------------------------------\n"
          ]
        },
        {
          "output_type": "display_data",
          "data": {
            "text/plain": [
              "<IPython.core.display.Markdown object>"
            ],
            "text/markdown": "### user:"
          },
          "metadata": {}
        },
        {
          "output_type": "display_data",
          "data": {
            "text/plain": [
              "<IPython.core.display.Markdown object>"
            ],
            "text/markdown": "The following information is relevant to the query \"deep sea life adaptations\":\n\n*   Organisms living within the deep sea have a variety of adaptations to survive in the conditions of low temperatures, darkness, and high pressure.\n*   Feeding methods include scavenging, predation, and filtration, with many organisms feeding on marine snow (organic material falling from upper waters).\n*   Many deep-sea species have jelly-like flesh made of glycosaminoglycans for buoyancy instead of relying on gas.\n*   Deep water squid combine gelatinous tissue with a flotation chamber filled with ammonium chloride.\n*   Midwater fish are small, have slow metabolisms, unspecialized diets, elongated bodies with weak muscles, and hinged jaws with recurved teeth. Many are hermaphroditic.\n*   Fish often have large, tubular eyes with only rod cells.\n*   Prey fish reduce silhouettes through lateral compression and counter-illumination via bioluminescence.\n*   Some fish have a retroreflector behind the retina for more sensitive vision in low light; flashlight fish use this with photophores to detect eyeshine.\n*   Organisms rely on sinking organic matter, with only 1-3% of surface production reaching the seabed as marine snow.\n*   Scavengers feed on large food falls like whale carcasses. Filter feeders use tentacles to feed on organic particles.\n*   Some species at hydrothermal vents rely on chemosynthesis rather than dissolved organic matter, such as the symbiotic relationship between tube worms (Riftia) and chemosynthetic bacteria.\n*   Deep-sea fish have adaptations in proteins, anatomical structures, and metabolic systems to withstand hydrostatic pressure.\n*   Adaptations in proteins, such as the α-actin, help maintain metabolic systems under pressure. Specific substitutions in α-Actin are predicted to have importance in pressure tolerance.\n*   Specific osmolytes like Trimethylamine N-oxide (TMAO) are abundant in deep sea fish to protect proteins from high hydrostatic pressure.\n*   Mariana hadal snailfish have a modified Osteocalcin gene, resulting in an open skull and cartilage-based bone formation to withstand high hydrostatic pressure.\n\n\n\nBased on:\n  https://en.wikipedia.org/wiki/Deep_sea"
          },
          "metadata": {}
        },
        {
          "output_type": "display_data",
          "data": {
            "text/plain": [
              "<IPython.core.display.Markdown object>"
            ],
            "text/markdown": "The following information pertains to deep sea life adaptations:\n\n*   **Deep-sea gigantism (abyssal gigantism):** The tendency for deep-sea dwelling animals to be larger than their shallower-water relatives.\n\n*   **Proposed explanations:**\n\n    *   Adaptation to colder temperature\n    *   Food scarcity\n    *   Reduced predation pressure\n    *   Increased dissolved oxygen concentrations\n\n*   **Taxonomic range:** Observed in marine crustaceans (mysids, euphausiids, decapods, isopods, ostracods, amphipods), cephalopods, cnidarians, and eels (Anguilliformes).\n\n*   **Examples of organisms:** big red jellyfish, Stygiomedusa jellyfish, giant isopod, giant ostracod, giant sea spider, giant amphipod, Japanese spider crab, giant oarfish, deepwater stingray, seven-arm octopus, colossal squid, giant squid, Megalocranchia fisheri, robust clubhook squid, Dana octopus squid, cockatoo squid, giant warty squid, and the bigfin squids of the genus Magnapinna.\n\n*   **Lower temperature:** Similar to Bergmann's rule (increasing size with decreasing temperature/latitude). Decreasing temperature leads to increased cell size, increased lifespan (delayed sexual maturity), and continued growth, resulting in larger body size.\n\n*   **Food scarcity:** Larger body size improves foraging ability. Larger offspring (planktonic eggs/larvae) can drift for greater distances with greater stored food reserves. Giant isopods can gorge on food and survive long periods without it. Kleiber's law suggests larger animals have more efficient metabolisms.\n\n*   **Reduced predation pressure:** Less frequent predation in deeper waters.\n\n*   **Increased dissolved oxygen:** Maximum organism size correlates with increased dissolved oxygen levels in deeper waters. Larger organisms can intake more dissolved oxygen, potentially combating asphyxiation in frigid, dense waters, but also risking oxygen toxicity.\n\n\nBased on:\n  https://en.wikipedia.org/wiki/Deep-sea_gigantism"
          },
          "metadata": {}
        },
        {
          "output_type": "display_data",
          "data": {
            "text/plain": [
              "<IPython.core.display.Markdown object>"
            ],
            "text/markdown": "The three main sources of energy and nutrients for deep sea communities are:\n\n*   Marine snow\n*   Whale falls\n*   Chemosynthesis at hydrothermal vents and cold seeps\n\n\nBased on:\n  https://en.wikipedia.org/wiki/Deep-sea_community"
          },
          "metadata": {}
        },
        {
          "output_type": "display_data",
          "data": {
            "text/plain": [
              "<IPython.core.display.Markdown object>"
            ],
            "text/markdown": "The challenges faced during the Deepsea Challenger dives included:\n\n*   Power system fluctuations\n*   Unforeseen currents\n*   Problems with vertical thrusters\n*   Hydraulic system problems hampered the use of sampling equipment.\n*   Sonar needed to find bait-carrying landers on the ocean floor was not working.\n*   Problems with cameras and life support systems (during test dive).\n\n\nBased on:\n  https://en.wikipedia.org/wiki/Deepsea_Challenger"
          },
          "metadata": {}
        },
        {
          "output_type": "display_data",
          "data": {
            "text/plain": [
              "<IPython.core.display.Markdown object>"
            ],
            "text/markdown": "Deep-sea organisms survival strategies in brine pools:\n\n*   **Challenges:** High salinity, anoxia, extreme water temperature, and hydrostatic pressure. These factors can lead to toxic shock and death for marine animals. High salinity levels also present challenges for water retention by cells, affecting cell turgor and functioning. Lack of oxygen makes it difficult for organisms to yield energy.\n*   **Adaptations:**\n    *   Halophilic archaea use a \"salt-in\" approach and \"compatible-solute\" strategy, increasing intracellular ionic concentration (mostly K+) to decrease osmotic pressure. They adapt their metabolic machinery to maintain salt concentration inside their cells.\n    *   Piezophilic microorganisms synthesize thermoprotective molecules (e.g., hydroxyketone) to prevent protein denaturation and decrease desiccation risk.\n    *   Use of alternative electron acceptors like iron, manganese, sulfate, elemental sulfur, carbon dioxide, nitrite, and nitrate to yield energy.\n*   **Symbiotic Relationships:** Bacteria form symbiotic relationships with organisms like tubeworms, clams, and mussels, converting chemical energy from hydrogen sulfide or methane and providing food or a safe habitat.\n*   **Microbial Adaptations:** Biofilms contribute to the survival of other micro-organisms in extreme environments.\n\n\nBased on:\n  https://en.wikipedia.org/wiki/Brine_pool"
          },
          "metadata": {}
        },
        {
          "output_type": "display_data",
          "data": {
            "text/plain": [
              "<IPython.core.display.Markdown object>"
            ],
            "text/markdown": "*   **Predation and Luring:** Anglerfish are carnivorous and use a specialized \"lure\" (esca) at the tip of a modified dorsal fin ray (illicium) to attract prey. Deep-sea anglerfish often have bioluminescent esca that glow in the dark. Some anglerfish use the esca to emit odors to attract prey, or to resemble prey items.\n*   **Opportunistic Foraging:** Anglerfish are opportunistic foragers and will eat a range of prey, with crustaceans and teleost fish being common food sources.\n*   **Energy Conservation:** Anglerfish are weak swimmers and often drift passively to conserve energy in the food-scarce deep-sea environment. Some species have been observed using unusual inverted swimming behavior to entice prey. They can also extend their jaws and stomachs to consume and store large meals when food is available.\n*   **Respiration:** The sea toad conserves energy by retaining water in its gills for extended periods.\n\n\nBased on:\n  https://en.wikipedia.org/wiki/Anglerfish"
          },
          "metadata": {}
        },
        {
          "output_type": "display_data",
          "data": {
            "text/plain": [
              "<IPython.core.display.Markdown object>"
            ],
            "text/markdown": "This document is about the video game Subnautica and does not contain information about how deep-sea creatures get energy.\n\n\nBased on:\n  https://en.wikipedia.org/wiki/Subnautica"
          },
          "metadata": {}
        },
        {
          "output_type": "display_data",
          "data": {
            "text/plain": [
              "<IPython.core.display.Markdown object>"
            ],
            "text/markdown": "This document primarily focuses on the surveys and bathymetry (depth measurements) of the Challenger Deep. It does not explicitly list challenges of living in the deep sea. However, some implicit challenges can be inferred from the text:\n\n*   **Extreme Pressure:** The text details the equipment and engineering required to withstand the immense pressure at the Challenger Deep, implying that this is a major obstacle for any life. Vessels needed thick steel walls to resist being crushed.\n*   **Darkness:** The observation by the Trieste crew that the floodlight they used was \"the first real light\" to enter that realm points to the challenge of living in complete darkness.\n*   **Limited Nutrient Availability/Specific Diet:** The description of organisms that live at this depth (foraminifera, amphipods) and their diet (diatomaceous ooze, bottom-feeders) suggests the specialized adaptations required to survive in an environment with limited and unique food sources. The challenge of growing calcium-based shells.\n*   **Cold Temperatures:** Mentions of temperature readings (2.6°C) demonstrate the challenges of living in extremely cold environment.\n*   **Scarcity of life** Camera recordings revealed only holothurians, White polychaetes (bristle worms), tube worms, and other biological species.\n\n\nBased on:\n  https://en.wikipedia.org/wiki/Challenger_Deep"
          },
          "metadata": {}
        },
        {
          "output_type": "stream",
          "name": "stdout",
          "text": [
            "--------------------------------------------------------------------------------\n"
          ]
        },
        {
          "output_type": "display_data",
          "data": {
            "text/plain": [
              "<IPython.core.display.Markdown object>"
            ],
            "text/markdown": "### model:"
          },
          "metadata": {}
        },
        {
          "output_type": "display_data",
          "data": {
            "text/plain": [
              "<IPython.core.display.Markdown object>"
            ],
            "text/markdown": "Deep-sea life survives by adapting to the extreme conditions of low temperatures, darkness, and high pressure. Here's a breakdown:\n\n*   **Adaptations to the Environment:** Organisms have developed jelly-like flesh for buoyancy, large eyes with rod cells for low light, and specialized proteins and metabolic systems to withstand hydrostatic pressure. Some fish also have a retroreflector behind the retina for more sensitive vision in low light.\n\n*   **Food Sources:** Deep-sea creatures rely on marine snow (organic material falling from upper waters), scavenging, predation, and filtration. Some species at hydrothermal vents use chemosynthesis instead of dissolved organic matter, like the symbiotic relationship between tube worms and chemosynthetic bacteria.\n\n*   **Deep-Sea Gigantism:** Some deep-sea animals tend to be larger than their shallower-water relatives, potentially due to colder temperatures, food scarcity, reduced predation pressure, and increased dissolved oxygen concentrations.\n\n*   **Energy Conservation:** Some species conserve energy by retaining water in their gills for extended periods.\n\nIn extreme environments like brine pools, organisms have further adaptations to survive high salinity, lack of oxygen, and extreme temperatures, such as using alternative electron acceptors and forming symbiotic relationships with bacteria.\n"
          },
          "metadata": {}
        },
        {
          "output_type": "stream",
          "name": "stdout",
          "text": [
            "--------------------------------------------------------------------------------\n"
          ]
        }
      ],
      "source": [
        "import json\n",
        "for content in chat.get_history():\n",
        "    display(Markdown(\"### \" + content.role + \":\"))\n",
        "    for part in content.parts:\n",
        "        if part.text:\n",
        "            display(Markdown(part.text))\n",
        "        if part.function_call:\n",
        "            print(part.function_call.name, json.dumps(part.function_call.args, indent=2))\n",
        "        if part.function_response:\n",
        "            for res in part.function_response.response['result']:\n",
        "                display(Markdown(res))\n",
        "    print(\"-\" * 80)"
      ]
    },
    {
      "cell_type": "markdown",
      "metadata": {
        "id": "WDWc9Fj9Ig6A"
      },
      "source": [
        "In the chat history you can see all 4 steps:\n",
        "\n",
        "1. User: Asks the question about the total number of mittens.\n",
        "2. Model: Determines that the `wikipedia_search` is helpful and sends a FunctionCall request to the user.\n",
        "3. User: The Chat session automatically executes the function (due to `_automatic_function_calling` is enabled by default) and sends back a FunctionResponse with the calculated result.\n",
        "4. Model: Uses the function's output to formulate the final answer and presents it as a text response."
      ]
    },
    {
      "cell_type": "markdown",
      "metadata": {
        "id": "PJP1EAgfnPUA"
      },
      "source": [
        "## [Optional] Manually Execute the Function Call"
      ]
    },
    {
      "cell_type": "markdown",
      "metadata": {
        "id": "Sa5ke2ssKl7M"
      },
      "source": [
        "If you want to understand what happened behind the scenes, this section executes the `FunctionCall` manually to demonstrate."
      ]
    },
    {
      "cell_type": "code",
      "execution_count": 15,
      "metadata": {
        "id": "wavbHrL3K5vo"
      },
      "outputs": [],
      "source": [
        "config  = {\n",
        "        \"tools\": [wikipedia_search],\n",
        "        \"automatic_function_calling\": {\"disable\": True}, # for manual execution\n",
        "    }\n",
        "\n",
        "chat    = client.chats.create(model=model, config=config, history=[])\n",
        "response  = chat.send_message(query)"
      ]
    },
    {
      "cell_type": "markdown",
      "metadata": {
        "id": "__JN3YuHe7fR"
      },
      "source": [
        "Initially the model returns a `FunctionCall`:"
      ]
    },
    {
      "cell_type": "code",
      "execution_count": 16,
      "metadata": {
        "id": "Lgngdvcdi06F",
        "outputId": "84b37221-9ce4-4672-be4d-60de0dd857aa",
        "colab": {
          "base_uri": "https://localhost:8080/"
        }
      },
      "outputs": [
        {
          "output_type": "stream",
          "name": "stdout",
          "text": [
            "{\n",
            "  \"search_queries\": [\n",
            "    \"deep sea life survival\"\n",
            "  ]\n",
            "}\n"
          ]
        }
      ],
      "source": [
        "fc = response.candidates[0].content.parts[0].function_call\n",
        "print(json.dumps(fc.args, indent=2))"
      ]
    },
    {
      "cell_type": "markdown",
      "metadata": {
        "id": "xpD3axtDmfZb"
      },
      "source": [
        "Call the function with generated arguments to get the results."
      ]
    },
    {
      "cell_type": "code",
      "execution_count": 17,
      "metadata": {
        "id": "Ek4g-CTAPSou",
        "outputId": "c1f33635-6379-41d9-aba0-bcbece257790",
        "colab": {
          "base_uri": "https://localhost:8080/",
          "height": 576
        }
      },
      "outputs": [
        {
          "output_type": "stream",
          "name": "stdout",
          "text": [
            "Searching for \"deep sea life survival\"\n",
            "Related search terms: ['Deep sea mining', 'Stranded Deep', 'Deep-sea community']\n",
            "Fetching page: \"Deep sea mining\"\n",
            "Information Source: https://en.wikipedia.org/wiki/Deep_sea_mining\n",
            "Fetching page: \"Stranded Deep\"\n",
            "Information Source: https://en.wikipedia.org/wiki/Stranded_Deep\n",
            "Fetching page: \"Deep-sea community\"\n",
            "Information Source: https://en.wikipedia.org/wiki/Deep-sea_community\n",
            "Deep-sea community did not match with any page id, hence skipping.\n",
            "Information Sources:\n",
            "     https://en.wikipedia.org/wiki/Deep_sea_mining\n",
            "     https://en.wikipedia.org/wiki/Stranded_Deep\n",
            "     https://en.wikipedia.org/wiki/Deep-sea_community\n"
          ]
        },
        {
          "output_type": "display_data",
          "data": {
            "text/plain": [
              "<IPython.core.display.Markdown object>"
            ],
            "text/markdown": "\n ### Function execution result:"
          },
          "metadata": {}
        },
        {
          "output_type": "display_data",
          "data": {
            "text/plain": [
              "<IPython.core.display.Markdown object>"
            ],
            "text/markdown": "The provided text does not contain information about how deep sea life survives. It primarily focuses on deep sea mining, its processes, environmental impacts, and related legal and economic aspects.\n\n\nBased on:\n  https://en.wikipedia.org/wiki/Deep_sea_mining"
          },
          "metadata": {}
        },
        {
          "output_type": "display_data",
          "data": {
            "text/plain": [
              "<IPython.core.display.Markdown object>"
            ],
            "text/markdown": "*   Stranded Deep takes place in the Pacific Ocean.\n*   A plane crash survivor explores Pacific islands, reefs, and bottomless ocean trenches.\n*   Players need to search for and develop the means to survive.\n*   Players need to manage their vitals of health, hunger, thirst, and sleep.\n*   Thirst is an important component of survival.\n*   Hydration sources are scarce, with coconut water being the most common.\n*   Food can be obtained from coconuts, fishing, and rations.\n*   The tropical ocean is full of life forms, including small fish, sea turtles, rays, lionfish, sea snakes, crown-of-thorns starfish, swordfish, whales, and sharks.\n*   There are different types of sharks, some harmless, others life-threatening like great whites, hammerhead shark, and goblin shark.\n*   Sharks can attack the player or flip their raft.\n*   There are three mythical sea creatures: a megalodon shark, a giant squid named Lusca, and a giant eel named Abaia.\n\n\nBased on:\n  https://en.wikipedia.org/wiki/Stranded_Deep"
          },
          "metadata": {}
        }
      ],
      "source": [
        "if fc.name == \"wikipedia_search\":\n",
        "    summaries = wikipedia_search(**fc.args)\n",
        "    display(Markdown(\"\\n ### Function execution result:\"))\n",
        "    for text in summaries:\n",
        "        display(Markdown(text))"
      ]
    },
    {
      "cell_type": "markdown",
      "metadata": {
        "id": "kv4WGnG_gT3F"
      },
      "source": [
        "Now send the `summaries` to the model."
      ]
    },
    {
      "cell_type": "code",
      "execution_count": 18,
      "metadata": {
        "id": "bcLuieHqj9PW",
        "outputId": "db24303a-52c0-43a1-fc6a-4feb094f7c76",
        "colab": {
          "base_uri": "https://localhost:8080/",
          "height": 64
        }
      },
      "outputs": [
        {
          "output_type": "display_data",
          "data": {
            "text/plain": [
              "<IPython.core.display.Markdown object>"
            ],
            "text/markdown": "I'm sorry, but I do not have the information to explain how deep-sea life survives. The search results I have are about deep-sea mining and the video game Stranded Deep, which contains some information about sea creatures, but not about their survival in the deep sea."
          },
          "metadata": {}
        }
      ],
      "source": [
        "# Create a function response part\n",
        "function_response_part = types.Part.from_function_response(\n",
        "    name=fc.name,\n",
        "    response={\"result\": summaries},\n",
        ")\n",
        "\n",
        "response = chat.send_message(function_response_part)\n",
        "\n",
        "display(Markdown(response.text))"
      ]
    },
    {
      "cell_type": "markdown",
      "metadata": {
        "id": "L2Vfv8xpmuV1"
      },
      "source": [
        "## Re-ranking the search results"
      ]
    },
    {
      "cell_type": "markdown",
      "metadata": {
        "id": "cQ3JUJLeGGzA"
      },
      "source": [
        "Helper function to embed the content:"
      ]
    },
    {
      "cell_type": "code",
      "execution_count": 19,
      "metadata": {
        "cellView": "code",
        "id": "mSkE7EynJBwF"
      },
      "outputs": [],
      "source": [
        "# @title Helper function to embed the content\n",
        "from tqdm.auto import tqdm\n",
        "from google.genai import types\n",
        "\n",
        "tqdm.pandas()\n",
        "\n",
        "from google.api_core import retry\n",
        "import numpy as np\n",
        "\n",
        "def make_embed_text_fn(model):\n",
        "\n",
        "    @retry.Retry(timeout=300.0)\n",
        "    def embed_fn(texts: list[str]) -> list[list[float]]:\n",
        "        # Set the task_type to SEMANTIC_SIMILARITY and embed the batch of texts\n",
        "        embeddings = client.models.embed_content(\n",
        "            model=model,\n",
        "            contents=texts,\n",
        "            config=types.EmbedContentConfig(task_type=\"SEMANTIC_SIMILARITY\"),\n",
        "        ).embeddings\n",
        "        return np.array([embedding.values for embedding in embeddings])\n",
        "\n",
        "    return embed_fn\n",
        "\n",
        "\n",
        "def create_embeddings(content: list[str]) -> np.ndarray:\n",
        "    MODEL_ID = \"embedding-001\" # @param [\"embedding-001\", \"text-embedding-004\",\"gemini-embedding-exp-03-07\"] {\"allow-input\":true, isTemplate: true}\n",
        "    model = f\"models/{MODEL_ID}\"\n",
        "    embed_fn = make_embed_text_fn(model)\n",
        "\n",
        "    batch_size = 100  # at most 100 requests can be in one batch\n",
        "    all_embeddings = []\n",
        "\n",
        "    # Loop over the texts in chunks of batch_size\n",
        "    for i in tqdm(range(0, len(content), batch_size)):\n",
        "        batch = content[i:i + batch_size]\n",
        "        embeddings = embed_fn(batch)\n",
        "        all_embeddings.extend(embeddings)\n",
        "\n",
        "    return np.array(all_embeddings).reshape(len(all_embeddings), -1)"
      ]
    },
    {
      "cell_type": "markdown",
      "metadata": {
        "id": "tip8ArqJf_ep"
      },
      "source": [
        "Please refer to the [embeddings guide](https://ai.google.dev/docs/embeddings_guide) for more information on embeddings."
      ]
    },
    {
      "cell_type": "markdown",
      "metadata": {
        "id": "nSPyycFuFj-_"
      },
      "source": [
        "Your next step is to define functions that you can use to calculate similarity scores between two embedding vectors. These scores will help you decide which embedding vector is the most relevant vector to the user's query.\n"
      ]
    },
    {
      "cell_type": "markdown",
      "metadata": {
        "id": "ltbB0vDsKQtI"
      },
      "source": [
        "You will now implement cosine similarity as your metric. Here returned embedding vectors will be of unit length and so their L1 norm (`np.linalg.norm()`) will be ~1. Hence, calculating cosine similarity is esentially same as calculating their dot product score."
      ]
    },
    {
      "cell_type": "code",
      "execution_count": 20,
      "metadata": {
        "id": "9iDFdzq_JWJW"
      },
      "outputs": [],
      "source": [
        "def dot_product(a: np.ndarray, b: np.ndarray):\n",
        "  return (a @ b.T)"
      ]
    },
    {
      "cell_type": "markdown",
      "metadata": {
        "id": "MrF_1c_M_Hw3"
      },
      "source": [
        "### Similarity with user's query\n",
        "\n",
        "Now it's time to find the most relevant search result returned by the Wikipedia API.\n",
        "\n",
        "Use Gemini API to get embeddings for user's query and search results."
      ]
    },
    {
      "cell_type": "code",
      "execution_count": 21,
      "metadata": {
        "id": "gK9ryjftGDNe",
        "outputId": "5756c03f-8c2e-46f3-e8ef-16c149b7f1d6",
        "colab": {
          "base_uri": "https://localhost:8080/",
          "height": 81,
          "referenced_widgets": [
            "641b5cbeb115414d9194d9700e83c226",
            "c49c448715cc428ab908a7e89cbb349b",
            "3e16227686e1437e9fe61a2ece6b37ca",
            "f625f86913bc4aaf86fc57cff67075fa",
            "475e7af7c16b42c386adf80beed83c27",
            "980c4290fda14522a15fe8415e58d62c",
            "a72bc87d062d424690f4c77393b542cc",
            "aee51fca6a474ea084e14604150893b5",
            "b7eafac565e74208a8f03a7283282f8a",
            "a4b6fab7465741c7b1773ddd4a9f91f8",
            "fc1192ca892f497aa708874bc56352d6",
            "9c2389efd3d5450fa8662c504762791d",
            "54ab4755184041009f91ef83daeb57d4",
            "73a7b6c524ba4507b385bb08db2a810d",
            "e8a5103ba1fc45079fd3cf10af5965fa",
            "bd06c822f6594fba8ec868e944e982b6",
            "0d9352ee285c4c0b8e9f8c67eb271d85",
            "091c4260088a414ebaba079402a1887f",
            "620a358145724fa491ad8a068fc100dc",
            "33ded9f7789246308342367ac19503e9",
            "ee971800b601474fa125d4bdbc876b1b",
            "d234fcd6b4004de8b54bfbc441a4784b"
          ]
        }
      },
      "outputs": [
        {
          "output_type": "display_data",
          "data": {
            "text/plain": [
              "  0%|          | 0/1 [00:00<?, ?it/s]"
            ],
            "application/vnd.jupyter.widget-view+json": {
              "version_major": 2,
              "version_minor": 0,
              "model_id": "641b5cbeb115414d9194d9700e83c226"
            }
          },
          "metadata": {}
        },
        {
          "output_type": "display_data",
          "data": {
            "text/plain": [
              "  0%|          | 0/1 [00:00<?, ?it/s]"
            ],
            "application/vnd.jupyter.widget-view+json": {
              "version_major": 2,
              "version_minor": 0,
              "model_id": "9c2389efd3d5450fa8662c504762791d"
            }
          },
          "metadata": {}
        }
      ],
      "source": [
        "search_res = create_embeddings(summaries)\n",
        "embedded_query = create_embeddings([query])"
      ]
    },
    {
      "cell_type": "markdown",
      "metadata": {
        "id": "2wwWq30uGRG3"
      },
      "source": [
        "Calculate similarity score:"
      ]
    },
    {
      "cell_type": "code",
      "execution_count": 22,
      "metadata": {
        "id": "jWlFNYIsGV0X",
        "outputId": "6e35a4d3-f8c1-4e59-ebaf-7d1415e1645f",
        "colab": {
          "base_uri": "https://localhost:8080/"
        }
      },
      "outputs": [
        {
          "output_type": "execute_result",
          "data": {
            "text/plain": [
              "array([[0.81370797],\n",
              "       [0.65965196]])"
            ]
          },
          "metadata": {},
          "execution_count": 22
        }
      ],
      "source": [
        "sim_value = dot_product(search_res, embedded_query)\n",
        "sim_value"
      ]
    },
    {
      "cell_type": "markdown",
      "metadata": {
        "id": "bJW1pQQXG2w2"
      },
      "source": [
        "using `np.argmax` best candidate is selected.\n",
        "\n",
        "**Users's Input:** Explain how deep-sea life survives.\n",
        "\n",
        "**Answer:**"
      ]
    },
    {
      "cell_type": "code",
      "execution_count": 23,
      "metadata": {
        "id": "8vDMDnCsG8Wn",
        "outputId": "4f6d9d0a-688c-484b-c896-932896bd4788",
        "colab": {
          "base_uri": "https://localhost:8080/",
          "height": 87
        }
      },
      "outputs": [
        {
          "output_type": "display_data",
          "data": {
            "text/plain": [
              "<IPython.core.display.Markdown object>"
            ],
            "text/markdown": "The provided text does not contain information about how deep sea life survives. It primarily focuses on deep sea mining, its processes, environmental impacts, and related legal and economic aspects.\n\n\nBased on:\n  https://en.wikipedia.org/wiki/Deep_sea_mining"
          },
          "metadata": {}
        }
      ],
      "source": [
        "display(Markdown(summaries[np.argmax(sim_value)]))"
      ]
    },
    {
      "cell_type": "markdown",
      "metadata": {
        "id": "Ozn6mIFvoyJU"
      },
      "source": [
        "### Similarity with Hypothetical Document Embeddings (HyDE)\n",
        "\n",
        "Drawing inspiration from [Gao et al](https://arxiv.org/abs/2212.10496) the objective here is to generate a template answer to the user's query using `gemini-2.0-flash`'s internal knowledge. This hypothetical answer will serve as a baseline to calculate relevance of all the search results."
      ]
    },
    {
      "cell_type": "code",
      "execution_count": 24,
      "metadata": {
        "id": "J7m5KAkMREBH",
        "outputId": "3e86a181-dec3-4083-8f8e-d11894affffb",
        "colab": {
          "base_uri": "https://localhost:8080/",
          "height": 337
        }
      },
      "outputs": [
        {
          "output_type": "display_data",
          "data": {
            "text/plain": [
              "<IPython.core.display.Markdown object>"
            ],
            "text/markdown": "Okay, so imagine you're trying to survive in a place where the pressure is like having [Placeholder: Ridiculous Number] elephants standing on your head, and it's darker than [Placeholder: Something Incredibly Dark, Like the Inside of a Black Hole] all the time. Plus, food is scarcer than [Placeholder: Something Extremely Rare, like Unicorn Tears]. That's basically the deep sea!\n\nSo how do these crazy creatures manage? Well, it's all about adaptation, baby!\n\nFirst off, dealing with that crushing pressure. Many deep-sea creatures have bodies that are mostly water - we're talking like [Placeholder: Percentage]%! This helps them equalize the pressure. They also often lack swim bladders, the gas-filled sacs that help fish float at shallower depths, because those would just get squished. Think of it like having a super flexible, adaptable jelly-like body, but not actually jelly because that's just a simple example for us surface dwellers.\n\nThen there's the darkness. Photosynthesis? Forget about it! No sunlight means no plants. So, the food chain starts with \"marine snow\" – basically, organic debris raining down from above. Some creatures are masters of scavenging, hoovering up this stuff like they're cleaning up after a [Placeholder: Messy Creature]. Others have developed amazing bioluminescence. They can produce their own light to lure prey, communicate with each other (maybe even have little underwater dance parties!), or even startle predators with a flash of light like a tiny, deep-sea [Placeholder: Creature With a Flashlight].\n\nAnd finally, the food scarcity. Strategies here are all over the place. Some are ambush predators, sitting perfectly still and waiting for an unsuspecting [Placeholder: Deep-Sea Prey] to wander by. Others have incredibly slow metabolisms, meaning they barely need to eat anything at all. They're basically like the deep-sea equivalent of a [Placeholder: Animal Known for Slow Metabolism]. They can conserve energy and survive for extended periods between meals.\n\nIt's a tough life down there, but the creatures that have adapted to it are absolutely fascinating. They’re masters of survival in one of the most extreme environments on our planet! And trust me, there's still SO much we don't know about them - it's truly a whole other world down there.\n"
          },
          "metadata": {}
        }
      ],
      "source": [
        "res = client.models.generate_content(\n",
        "    model=model,\n",
        "    contents=f\"\"\"\n",
        "        Generate a hypothetical answer\n",
        "        to the user's query by using your own knowledge. Assume that you know everything\n",
        "        about the said topic. Do not use factual information, instead use placeholders\n",
        "        to complete your answer. Your answer should feel like it has been written by a human.\n",
        "\n",
        "        query: {query}\n",
        "    \"\"\",\n",
        ")\n",
        "\n",
        "display(Markdown(res.text))"
      ]
    },
    {
      "cell_type": "markdown",
      "metadata": {
        "id": "85f4MpLgrYbW"
      },
      "source": [
        "Use Gemini API to get embeddings for the baseline answer and compare them with search results"
      ]
    },
    {
      "cell_type": "code",
      "execution_count": 25,
      "metadata": {
        "id": "fSI6-5eYI3me",
        "outputId": "4e0f8701-9744-471a-fb96-e9274577bae0",
        "colab": {
          "base_uri": "https://localhost:8080/",
          "height": 49,
          "referenced_widgets": [
            "235b903a9fd744fdaa5daa7be8114e56",
            "220c857deb484bdaa6adb8eb43ca61ec",
            "d6caa601b5824bc594cb0055e987cfba",
            "c2bd44811c1048eda3a8d831c77013b7",
            "32e5c6c2a9da42698f8344c73edeeafb",
            "6f7655cf00be4214b2a12fb1c8cb5609",
            "4c58837a4a8b49c6b174db44e88dfcbc",
            "a9f894e746d04ecc94eefd2328061e76",
            "3994fc7bd10a49aba4bb23a952bfa3f8",
            "bcc0c00561b04e01a48c08eb6dabd8bd",
            "61615220461b4d8298eac84b3e71796d"
          ]
        }
      },
      "outputs": [
        {
          "output_type": "display_data",
          "data": {
            "text/plain": [
              "  0%|          | 0/1 [00:00<?, ?it/s]"
            ],
            "application/vnd.jupyter.widget-view+json": {
              "version_major": 2,
              "version_minor": 0,
              "model_id": "235b903a9fd744fdaa5daa7be8114e56"
            }
          },
          "metadata": {}
        }
      ],
      "source": [
        "hypothetical_ans = create_embeddings([res.text])"
      ]
    },
    {
      "cell_type": "markdown",
      "metadata": {
        "id": "WxYGEWbqrh44"
      },
      "source": [
        "Calculate similarity scores to rank the search results"
      ]
    },
    {
      "cell_type": "code",
      "execution_count": 26,
      "metadata": {
        "id": "99sjvMtlJfL_",
        "outputId": "09b572f8-9bee-4591-8ad9-9255b07fb8e7",
        "colab": {
          "base_uri": "https://localhost:8080/"
        }
      },
      "outputs": [
        {
          "output_type": "execute_result",
          "data": {
            "text/plain": [
              "array([[0.726802  ],\n",
              "       [0.72210996]])"
            ]
          },
          "metadata": {},
          "execution_count": 26
        }
      ],
      "source": [
        "sim_value = dot_product(search_res, hypothetical_ans)\n",
        "sim_value"
      ]
    },
    {
      "cell_type": "markdown",
      "metadata": {
        "id": "wJ7pklxursSk"
      },
      "source": [
        "using `np.argmax` best candidate is selected.\n",
        "\n",
        "**Users's Input:** Explain how deep-sea life survives.\n",
        "\n",
        "**Answer:**"
      ]
    },
    {
      "cell_type": "code",
      "execution_count": 27,
      "metadata": {
        "id": "MzTfyU_mJ8-M",
        "outputId": "3dc9f9be-fbf5-44be-d9f1-b079271a316e",
        "colab": {
          "base_uri": "https://localhost:8080/",
          "height": 87
        }
      },
      "outputs": [
        {
          "output_type": "display_data",
          "data": {
            "text/plain": [
              "<IPython.core.display.Markdown object>"
            ],
            "text/markdown": "The provided text does not contain information about how deep sea life survives. It primarily focuses on deep sea mining, its processes, environmental impacts, and related legal and economic aspects.\n\n\nBased on:\n  https://en.wikipedia.org/wiki/Deep_sea_mining"
          },
          "metadata": {}
        }
      ],
      "source": [
        "display(Markdown(summaries[np.argmax(sim_value)]))"
      ]
    },
    {
      "cell_type": "markdown",
      "metadata": {
        "id": "UjDN2OUpsL6M"
      },
      "source": [
        "You have now created a search re-ranking engine using embeddings!"
      ]
    },
    {
      "cell_type": "markdown",
      "metadata": {
        "id": "AKH2vs2Lc1R1"
      },
      "source": [
        "## Next steps\n",
        "\n",
        "I hope you found this example helpful! Check out more examples in the [Cookbook](https://github.com/google-gemini/cookbook) to learn more."
      ]
    }
  ],
  "metadata": {
    "colab": {
      "name": "Search_reranking_using_embeddings.ipynb",
      "provenance": []
    },
    "kernelspec": {
      "display_name": "Python 3",
      "name": "python3"
    },
    "widgets": {
      "application/vnd.jupyter.widget-state+json": {
        "641b5cbeb115414d9194d9700e83c226": {
          "model_module": "@jupyter-widgets/controls",
          "model_name": "HBoxModel",
          "model_module_version": "1.5.0",
          "state": {
            "_dom_classes": [],
            "_model_module": "@jupyter-widgets/controls",
            "_model_module_version": "1.5.0",
            "_model_name": "HBoxModel",
            "_view_count": null,
            "_view_module": "@jupyter-widgets/controls",
            "_view_module_version": "1.5.0",
            "_view_name": "HBoxView",
            "box_style": "",
            "children": [
              "IPY_MODEL_c49c448715cc428ab908a7e89cbb349b",
              "IPY_MODEL_3e16227686e1437e9fe61a2ece6b37ca",
              "IPY_MODEL_f625f86913bc4aaf86fc57cff67075fa"
            ],
            "layout": "IPY_MODEL_475e7af7c16b42c386adf80beed83c27"
          }
        },
        "c49c448715cc428ab908a7e89cbb349b": {
          "model_module": "@jupyter-widgets/controls",
          "model_name": "HTMLModel",
          "model_module_version": "1.5.0",
          "state": {
            "_dom_classes": [],
            "_model_module": "@jupyter-widgets/controls",
            "_model_module_version": "1.5.0",
            "_model_name": "HTMLModel",
            "_view_count": null,
            "_view_module": "@jupyter-widgets/controls",
            "_view_module_version": "1.5.0",
            "_view_name": "HTMLView",
            "description": "",
            "description_tooltip": null,
            "layout": "IPY_MODEL_980c4290fda14522a15fe8415e58d62c",
            "placeholder": "​",
            "style": "IPY_MODEL_a72bc87d062d424690f4c77393b542cc",
            "value": "100%"
          }
        },
        "3e16227686e1437e9fe61a2ece6b37ca": {
          "model_module": "@jupyter-widgets/controls",
          "model_name": "FloatProgressModel",
          "model_module_version": "1.5.0",
          "state": {
            "_dom_classes": [],
            "_model_module": "@jupyter-widgets/controls",
            "_model_module_version": "1.5.0",
            "_model_name": "FloatProgressModel",
            "_view_count": null,
            "_view_module": "@jupyter-widgets/controls",
            "_view_module_version": "1.5.0",
            "_view_name": "ProgressView",
            "bar_style": "success",
            "description": "",
            "description_tooltip": null,
            "layout": "IPY_MODEL_aee51fca6a474ea084e14604150893b5",
            "max": 1,
            "min": 0,
            "orientation": "horizontal",
            "style": "IPY_MODEL_b7eafac565e74208a8f03a7283282f8a",
            "value": 1
          }
        },
        "f625f86913bc4aaf86fc57cff67075fa": {
          "model_module": "@jupyter-widgets/controls",
          "model_name": "HTMLModel",
          "model_module_version": "1.5.0",
          "state": {
            "_dom_classes": [],
            "_model_module": "@jupyter-widgets/controls",
            "_model_module_version": "1.5.0",
            "_model_name": "HTMLModel",
            "_view_count": null,
            "_view_module": "@jupyter-widgets/controls",
            "_view_module_version": "1.5.0",
            "_view_name": "HTMLView",
            "description": "",
            "description_tooltip": null,
            "layout": "IPY_MODEL_a4b6fab7465741c7b1773ddd4a9f91f8",
            "placeholder": "​",
            "style": "IPY_MODEL_fc1192ca892f497aa708874bc56352d6",
            "value": " 1/1 [00:00&lt;00:00,  1.07it/s]"
          }
        },
        "475e7af7c16b42c386adf80beed83c27": {
          "model_module": "@jupyter-widgets/base",
          "model_name": "LayoutModel",
          "model_module_version": "1.2.0",
          "state": {
            "_model_module": "@jupyter-widgets/base",
            "_model_module_version": "1.2.0",
            "_model_name": "LayoutModel",
            "_view_count": null,
            "_view_module": "@jupyter-widgets/base",
            "_view_module_version": "1.2.0",
            "_view_name": "LayoutView",
            "align_content": null,
            "align_items": null,
            "align_self": null,
            "border": null,
            "bottom": null,
            "display": null,
            "flex": null,
            "flex_flow": null,
            "grid_area": null,
            "grid_auto_columns": null,
            "grid_auto_flow": null,
            "grid_auto_rows": null,
            "grid_column": null,
            "grid_gap": null,
            "grid_row": null,
            "grid_template_areas": null,
            "grid_template_columns": null,
            "grid_template_rows": null,
            "height": null,
            "justify_content": null,
            "justify_items": null,
            "left": null,
            "margin": null,
            "max_height": null,
            "max_width": null,
            "min_height": null,
            "min_width": null,
            "object_fit": null,
            "object_position": null,
            "order": null,
            "overflow": null,
            "overflow_x": null,
            "overflow_y": null,
            "padding": null,
            "right": null,
            "top": null,
            "visibility": null,
            "width": null
          }
        },
        "980c4290fda14522a15fe8415e58d62c": {
          "model_module": "@jupyter-widgets/base",
          "model_name": "LayoutModel",
          "model_module_version": "1.2.0",
          "state": {
            "_model_module": "@jupyter-widgets/base",
            "_model_module_version": "1.2.0",
            "_model_name": "LayoutModel",
            "_view_count": null,
            "_view_module": "@jupyter-widgets/base",
            "_view_module_version": "1.2.0",
            "_view_name": "LayoutView",
            "align_content": null,
            "align_items": null,
            "align_self": null,
            "border": null,
            "bottom": null,
            "display": null,
            "flex": null,
            "flex_flow": null,
            "grid_area": null,
            "grid_auto_columns": null,
            "grid_auto_flow": null,
            "grid_auto_rows": null,
            "grid_column": null,
            "grid_gap": null,
            "grid_row": null,
            "grid_template_areas": null,
            "grid_template_columns": null,
            "grid_template_rows": null,
            "height": null,
            "justify_content": null,
            "justify_items": null,
            "left": null,
            "margin": null,
            "max_height": null,
            "max_width": null,
            "min_height": null,
            "min_width": null,
            "object_fit": null,
            "object_position": null,
            "order": null,
            "overflow": null,
            "overflow_x": null,
            "overflow_y": null,
            "padding": null,
            "right": null,
            "top": null,
            "visibility": null,
            "width": null
          }
        },
        "a72bc87d062d424690f4c77393b542cc": {
          "model_module": "@jupyter-widgets/controls",
          "model_name": "DescriptionStyleModel",
          "model_module_version": "1.5.0",
          "state": {
            "_model_module": "@jupyter-widgets/controls",
            "_model_module_version": "1.5.0",
            "_model_name": "DescriptionStyleModel",
            "_view_count": null,
            "_view_module": "@jupyter-widgets/base",
            "_view_module_version": "1.2.0",
            "_view_name": "StyleView",
            "description_width": ""
          }
        },
        "aee51fca6a474ea084e14604150893b5": {
          "model_module": "@jupyter-widgets/base",
          "model_name": "LayoutModel",
          "model_module_version": "1.2.0",
          "state": {
            "_model_module": "@jupyter-widgets/base",
            "_model_module_version": "1.2.0",
            "_model_name": "LayoutModel",
            "_view_count": null,
            "_view_module": "@jupyter-widgets/base",
            "_view_module_version": "1.2.0",
            "_view_name": "LayoutView",
            "align_content": null,
            "align_items": null,
            "align_self": null,
            "border": null,
            "bottom": null,
            "display": null,
            "flex": null,
            "flex_flow": null,
            "grid_area": null,
            "grid_auto_columns": null,
            "grid_auto_flow": null,
            "grid_auto_rows": null,
            "grid_column": null,
            "grid_gap": null,
            "grid_row": null,
            "grid_template_areas": null,
            "grid_template_columns": null,
            "grid_template_rows": null,
            "height": null,
            "justify_content": null,
            "justify_items": null,
            "left": null,
            "margin": null,
            "max_height": null,
            "max_width": null,
            "min_height": null,
            "min_width": null,
            "object_fit": null,
            "object_position": null,
            "order": null,
            "overflow": null,
            "overflow_x": null,
            "overflow_y": null,
            "padding": null,
            "right": null,
            "top": null,
            "visibility": null,
            "width": null
          }
        },
        "b7eafac565e74208a8f03a7283282f8a": {
          "model_module": "@jupyter-widgets/controls",
          "model_name": "ProgressStyleModel",
          "model_module_version": "1.5.0",
          "state": {
            "_model_module": "@jupyter-widgets/controls",
            "_model_module_version": "1.5.0",
            "_model_name": "ProgressStyleModel",
            "_view_count": null,
            "_view_module": "@jupyter-widgets/base",
            "_view_module_version": "1.2.0",
            "_view_name": "StyleView",
            "bar_color": null,
            "description_width": ""
          }
        },
        "a4b6fab7465741c7b1773ddd4a9f91f8": {
          "model_module": "@jupyter-widgets/base",
          "model_name": "LayoutModel",
          "model_module_version": "1.2.0",
          "state": {
            "_model_module": "@jupyter-widgets/base",
            "_model_module_version": "1.2.0",
            "_model_name": "LayoutModel",
            "_view_count": null,
            "_view_module": "@jupyter-widgets/base",
            "_view_module_version": "1.2.0",
            "_view_name": "LayoutView",
            "align_content": null,
            "align_items": null,
            "align_self": null,
            "border": null,
            "bottom": null,
            "display": null,
            "flex": null,
            "flex_flow": null,
            "grid_area": null,
            "grid_auto_columns": null,
            "grid_auto_flow": null,
            "grid_auto_rows": null,
            "grid_column": null,
            "grid_gap": null,
            "grid_row": null,
            "grid_template_areas": null,
            "grid_template_columns": null,
            "grid_template_rows": null,
            "height": null,
            "justify_content": null,
            "justify_items": null,
            "left": null,
            "margin": null,
            "max_height": null,
            "max_width": null,
            "min_height": null,
            "min_width": null,
            "object_fit": null,
            "object_position": null,
            "order": null,
            "overflow": null,
            "overflow_x": null,
            "overflow_y": null,
            "padding": null,
            "right": null,
            "top": null,
            "visibility": null,
            "width": null
          }
        },
        "fc1192ca892f497aa708874bc56352d6": {
          "model_module": "@jupyter-widgets/controls",
          "model_name": "DescriptionStyleModel",
          "model_module_version": "1.5.0",
          "state": {
            "_model_module": "@jupyter-widgets/controls",
            "_model_module_version": "1.5.0",
            "_model_name": "DescriptionStyleModel",
            "_view_count": null,
            "_view_module": "@jupyter-widgets/base",
            "_view_module_version": "1.2.0",
            "_view_name": "StyleView",
            "description_width": ""
          }
        },
        "9c2389efd3d5450fa8662c504762791d": {
          "model_module": "@jupyter-widgets/controls",
          "model_name": "HBoxModel",
          "model_module_version": "1.5.0",
          "state": {
            "_dom_classes": [],
            "_model_module": "@jupyter-widgets/controls",
            "_model_module_version": "1.5.0",
            "_model_name": "HBoxModel",
            "_view_count": null,
            "_view_module": "@jupyter-widgets/controls",
            "_view_module_version": "1.5.0",
            "_view_name": "HBoxView",
            "box_style": "",
            "children": [
              "IPY_MODEL_54ab4755184041009f91ef83daeb57d4",
              "IPY_MODEL_73a7b6c524ba4507b385bb08db2a810d",
              "IPY_MODEL_e8a5103ba1fc45079fd3cf10af5965fa"
            ],
            "layout": "IPY_MODEL_bd06c822f6594fba8ec868e944e982b6"
          }
        },
        "54ab4755184041009f91ef83daeb57d4": {
          "model_module": "@jupyter-widgets/controls",
          "model_name": "HTMLModel",
          "model_module_version": "1.5.0",
          "state": {
            "_dom_classes": [],
            "_model_module": "@jupyter-widgets/controls",
            "_model_module_version": "1.5.0",
            "_model_name": "HTMLModel",
            "_view_count": null,
            "_view_module": "@jupyter-widgets/controls",
            "_view_module_version": "1.5.0",
            "_view_name": "HTMLView",
            "description": "",
            "description_tooltip": null,
            "layout": "IPY_MODEL_0d9352ee285c4c0b8e9f8c67eb271d85",
            "placeholder": "​",
            "style": "IPY_MODEL_091c4260088a414ebaba079402a1887f",
            "value": "100%"
          }
        },
        "73a7b6c524ba4507b385bb08db2a810d": {
          "model_module": "@jupyter-widgets/controls",
          "model_name": "FloatProgressModel",
          "model_module_version": "1.5.0",
          "state": {
            "_dom_classes": [],
            "_model_module": "@jupyter-widgets/controls",
            "_model_module_version": "1.5.0",
            "_model_name": "FloatProgressModel",
            "_view_count": null,
            "_view_module": "@jupyter-widgets/controls",
            "_view_module_version": "1.5.0",
            "_view_name": "ProgressView",
            "bar_style": "success",
            "description": "",
            "description_tooltip": null,
            "layout": "IPY_MODEL_620a358145724fa491ad8a068fc100dc",
            "max": 1,
            "min": 0,
            "orientation": "horizontal",
            "style": "IPY_MODEL_33ded9f7789246308342367ac19503e9",
            "value": 1
          }
        },
        "e8a5103ba1fc45079fd3cf10af5965fa": {
          "model_module": "@jupyter-widgets/controls",
          "model_name": "HTMLModel",
          "model_module_version": "1.5.0",
          "state": {
            "_dom_classes": [],
            "_model_module": "@jupyter-widgets/controls",
            "_model_module_version": "1.5.0",
            "_model_name": "HTMLModel",
            "_view_count": null,
            "_view_module": "@jupyter-widgets/controls",
            "_view_module_version": "1.5.0",
            "_view_name": "HTMLView",
            "description": "",
            "description_tooltip": null,
            "layout": "IPY_MODEL_ee971800b601474fa125d4bdbc876b1b",
            "placeholder": "​",
            "style": "IPY_MODEL_d234fcd6b4004de8b54bfbc441a4784b",
            "value": " 1/1 [00:00&lt;00:00,  5.66it/s]"
          }
        },
        "bd06c822f6594fba8ec868e944e982b6": {
          "model_module": "@jupyter-widgets/base",
          "model_name": "LayoutModel",
          "model_module_version": "1.2.0",
          "state": {
            "_model_module": "@jupyter-widgets/base",
            "_model_module_version": "1.2.0",
            "_model_name": "LayoutModel",
            "_view_count": null,
            "_view_module": "@jupyter-widgets/base",
            "_view_module_version": "1.2.0",
            "_view_name": "LayoutView",
            "align_content": null,
            "align_items": null,
            "align_self": null,
            "border": null,
            "bottom": null,
            "display": null,
            "flex": null,
            "flex_flow": null,
            "grid_area": null,
            "grid_auto_columns": null,
            "grid_auto_flow": null,
            "grid_auto_rows": null,
            "grid_column": null,
            "grid_gap": null,
            "grid_row": null,
            "grid_template_areas": null,
            "grid_template_columns": null,
            "grid_template_rows": null,
            "height": null,
            "justify_content": null,
            "justify_items": null,
            "left": null,
            "margin": null,
            "max_height": null,
            "max_width": null,
            "min_height": null,
            "min_width": null,
            "object_fit": null,
            "object_position": null,
            "order": null,
            "overflow": null,
            "overflow_x": null,
            "overflow_y": null,
            "padding": null,
            "right": null,
            "top": null,
            "visibility": null,
            "width": null
          }
        },
        "0d9352ee285c4c0b8e9f8c67eb271d85": {
          "model_module": "@jupyter-widgets/base",
          "model_name": "LayoutModel",
          "model_module_version": "1.2.0",
          "state": {
            "_model_module": "@jupyter-widgets/base",
            "_model_module_version": "1.2.0",
            "_model_name": "LayoutModel",
            "_view_count": null,
            "_view_module": "@jupyter-widgets/base",
            "_view_module_version": "1.2.0",
            "_view_name": "LayoutView",
            "align_content": null,
            "align_items": null,
            "align_self": null,
            "border": null,
            "bottom": null,
            "display": null,
            "flex": null,
            "flex_flow": null,
            "grid_area": null,
            "grid_auto_columns": null,
            "grid_auto_flow": null,
            "grid_auto_rows": null,
            "grid_column": null,
            "grid_gap": null,
            "grid_row": null,
            "grid_template_areas": null,
            "grid_template_columns": null,
            "grid_template_rows": null,
            "height": null,
            "justify_content": null,
            "justify_items": null,
            "left": null,
            "margin": null,
            "max_height": null,
            "max_width": null,
            "min_height": null,
            "min_width": null,
            "object_fit": null,
            "object_position": null,
            "order": null,
            "overflow": null,
            "overflow_x": null,
            "overflow_y": null,
            "padding": null,
            "right": null,
            "top": null,
            "visibility": null,
            "width": null
          }
        },
        "091c4260088a414ebaba079402a1887f": {
          "model_module": "@jupyter-widgets/controls",
          "model_name": "DescriptionStyleModel",
          "model_module_version": "1.5.0",
          "state": {
            "_model_module": "@jupyter-widgets/controls",
            "_model_module_version": "1.5.0",
            "_model_name": "DescriptionStyleModel",
            "_view_count": null,
            "_view_module": "@jupyter-widgets/base",
            "_view_module_version": "1.2.0",
            "_view_name": "StyleView",
            "description_width": ""
          }
        },
        "620a358145724fa491ad8a068fc100dc": {
          "model_module": "@jupyter-widgets/base",
          "model_name": "LayoutModel",
          "model_module_version": "1.2.0",
          "state": {
            "_model_module": "@jupyter-widgets/base",
            "_model_module_version": "1.2.0",
            "_model_name": "LayoutModel",
            "_view_count": null,
            "_view_module": "@jupyter-widgets/base",
            "_view_module_version": "1.2.0",
            "_view_name": "LayoutView",
            "align_content": null,
            "align_items": null,
            "align_self": null,
            "border": null,
            "bottom": null,
            "display": null,
            "flex": null,
            "flex_flow": null,
            "grid_area": null,
            "grid_auto_columns": null,
            "grid_auto_flow": null,
            "grid_auto_rows": null,
            "grid_column": null,
            "grid_gap": null,
            "grid_row": null,
            "grid_template_areas": null,
            "grid_template_columns": null,
            "grid_template_rows": null,
            "height": null,
            "justify_content": null,
            "justify_items": null,
            "left": null,
            "margin": null,
            "max_height": null,
            "max_width": null,
            "min_height": null,
            "min_width": null,
            "object_fit": null,
            "object_position": null,
            "order": null,
            "overflow": null,
            "overflow_x": null,
            "overflow_y": null,
            "padding": null,
            "right": null,
            "top": null,
            "visibility": null,
            "width": null
          }
        },
        "33ded9f7789246308342367ac19503e9": {
          "model_module": "@jupyter-widgets/controls",
          "model_name": "ProgressStyleModel",
          "model_module_version": "1.5.0",
          "state": {
            "_model_module": "@jupyter-widgets/controls",
            "_model_module_version": "1.5.0",
            "_model_name": "ProgressStyleModel",
            "_view_count": null,
            "_view_module": "@jupyter-widgets/base",
            "_view_module_version": "1.2.0",
            "_view_name": "StyleView",
            "bar_color": null,
            "description_width": ""
          }
        },
        "ee971800b601474fa125d4bdbc876b1b": {
          "model_module": "@jupyter-widgets/base",
          "model_name": "LayoutModel",
          "model_module_version": "1.2.0",
          "state": {
            "_model_module": "@jupyter-widgets/base",
            "_model_module_version": "1.2.0",
            "_model_name": "LayoutModel",
            "_view_count": null,
            "_view_module": "@jupyter-widgets/base",
            "_view_module_version": "1.2.0",
            "_view_name": "LayoutView",
            "align_content": null,
            "align_items": null,
            "align_self": null,
            "border": null,
            "bottom": null,
            "display": null,
            "flex": null,
            "flex_flow": null,
            "grid_area": null,
            "grid_auto_columns": null,
            "grid_auto_flow": null,
            "grid_auto_rows": null,
            "grid_column": null,
            "grid_gap": null,
            "grid_row": null,
            "grid_template_areas": null,
            "grid_template_columns": null,
            "grid_template_rows": null,
            "height": null,
            "justify_content": null,
            "justify_items": null,
            "left": null,
            "margin": null,
            "max_height": null,
            "max_width": null,
            "min_height": null,
            "min_width": null,
            "object_fit": null,
            "object_position": null,
            "order": null,
            "overflow": null,
            "overflow_x": null,
            "overflow_y": null,
            "padding": null,
            "right": null,
            "top": null,
            "visibility": null,
            "width": null
          }
        },
        "d234fcd6b4004de8b54bfbc441a4784b": {
          "model_module": "@jupyter-widgets/controls",
          "model_name": "DescriptionStyleModel",
          "model_module_version": "1.5.0",
          "state": {
            "_model_module": "@jupyter-widgets/controls",
            "_model_module_version": "1.5.0",
            "_model_name": "DescriptionStyleModel",
            "_view_count": null,
            "_view_module": "@jupyter-widgets/base",
            "_view_module_version": "1.2.0",
            "_view_name": "StyleView",
            "description_width": ""
          }
        },
        "235b903a9fd744fdaa5daa7be8114e56": {
          "model_module": "@jupyter-widgets/controls",
          "model_name": "HBoxModel",
          "model_module_version": "1.5.0",
          "state": {
            "_dom_classes": [],
            "_model_module": "@jupyter-widgets/controls",
            "_model_module_version": "1.5.0",
            "_model_name": "HBoxModel",
            "_view_count": null,
            "_view_module": "@jupyter-widgets/controls",
            "_view_module_version": "1.5.0",
            "_view_name": "HBoxView",
            "box_style": "",
            "children": [
              "IPY_MODEL_220c857deb484bdaa6adb8eb43ca61ec",
              "IPY_MODEL_d6caa601b5824bc594cb0055e987cfba",
              "IPY_MODEL_c2bd44811c1048eda3a8d831c77013b7"
            ],
            "layout": "IPY_MODEL_32e5c6c2a9da42698f8344c73edeeafb"
          }
        },
        "220c857deb484bdaa6adb8eb43ca61ec": {
          "model_module": "@jupyter-widgets/controls",
          "model_name": "HTMLModel",
          "model_module_version": "1.5.0",
          "state": {
            "_dom_classes": [],
            "_model_module": "@jupyter-widgets/controls",
            "_model_module_version": "1.5.0",
            "_model_name": "HTMLModel",
            "_view_count": null,
            "_view_module": "@jupyter-widgets/controls",
            "_view_module_version": "1.5.0",
            "_view_name": "HTMLView",
            "description": "",
            "description_tooltip": null,
            "layout": "IPY_MODEL_6f7655cf00be4214b2a12fb1c8cb5609",
            "placeholder": "​",
            "style": "IPY_MODEL_4c58837a4a8b49c6b174db44e88dfcbc",
            "value": "100%"
          }
        },
        "d6caa601b5824bc594cb0055e987cfba": {
          "model_module": "@jupyter-widgets/controls",
          "model_name": "FloatProgressModel",
          "model_module_version": "1.5.0",
          "state": {
            "_dom_classes": [],
            "_model_module": "@jupyter-widgets/controls",
            "_model_module_version": "1.5.0",
            "_model_name": "FloatProgressModel",
            "_view_count": null,
            "_view_module": "@jupyter-widgets/controls",
            "_view_module_version": "1.5.0",
            "_view_name": "ProgressView",
            "bar_style": "success",
            "description": "",
            "description_tooltip": null,
            "layout": "IPY_MODEL_a9f894e746d04ecc94eefd2328061e76",
            "max": 1,
            "min": 0,
            "orientation": "horizontal",
            "style": "IPY_MODEL_3994fc7bd10a49aba4bb23a952bfa3f8",
            "value": 1
          }
        },
        "c2bd44811c1048eda3a8d831c77013b7": {
          "model_module": "@jupyter-widgets/controls",
          "model_name": "HTMLModel",
          "model_module_version": "1.5.0",
          "state": {
            "_dom_classes": [],
            "_model_module": "@jupyter-widgets/controls",
            "_model_module_version": "1.5.0",
            "_model_name": "HTMLModel",
            "_view_count": null,
            "_view_module": "@jupyter-widgets/controls",
            "_view_module_version": "1.5.0",
            "_view_name": "HTMLView",
            "description": "",
            "description_tooltip": null,
            "layout": "IPY_MODEL_bcc0c00561b04e01a48c08eb6dabd8bd",
            "placeholder": "​",
            "style": "IPY_MODEL_61615220461b4d8298eac84b3e71796d",
            "value": " 1/1 [00:00&lt;00:00,  1.06it/s]"
          }
        },
        "32e5c6c2a9da42698f8344c73edeeafb": {
          "model_module": "@jupyter-widgets/base",
          "model_name": "LayoutModel",
          "model_module_version": "1.2.0",
          "state": {
            "_model_module": "@jupyter-widgets/base",
            "_model_module_version": "1.2.0",
            "_model_name": "LayoutModel",
            "_view_count": null,
            "_view_module": "@jupyter-widgets/base",
            "_view_module_version": "1.2.0",
            "_view_name": "LayoutView",
            "align_content": null,
            "align_items": null,
            "align_self": null,
            "border": null,
            "bottom": null,
            "display": null,
            "flex": null,
            "flex_flow": null,
            "grid_area": null,
            "grid_auto_columns": null,
            "grid_auto_flow": null,
            "grid_auto_rows": null,
            "grid_column": null,
            "grid_gap": null,
            "grid_row": null,
            "grid_template_areas": null,
            "grid_template_columns": null,
            "grid_template_rows": null,
            "height": null,
            "justify_content": null,
            "justify_items": null,
            "left": null,
            "margin": null,
            "max_height": null,
            "max_width": null,
            "min_height": null,
            "min_width": null,
            "object_fit": null,
            "object_position": null,
            "order": null,
            "overflow": null,
            "overflow_x": null,
            "overflow_y": null,
            "padding": null,
            "right": null,
            "top": null,
            "visibility": null,
            "width": null
          }
        },
        "6f7655cf00be4214b2a12fb1c8cb5609": {
          "model_module": "@jupyter-widgets/base",
          "model_name": "LayoutModel",
          "model_module_version": "1.2.0",
          "state": {
            "_model_module": "@jupyter-widgets/base",
            "_model_module_version": "1.2.0",
            "_model_name": "LayoutModel",
            "_view_count": null,
            "_view_module": "@jupyter-widgets/base",
            "_view_module_version": "1.2.0",
            "_view_name": "LayoutView",
            "align_content": null,
            "align_items": null,
            "align_self": null,
            "border": null,
            "bottom": null,
            "display": null,
            "flex": null,
            "flex_flow": null,
            "grid_area": null,
            "grid_auto_columns": null,
            "grid_auto_flow": null,
            "grid_auto_rows": null,
            "grid_column": null,
            "grid_gap": null,
            "grid_row": null,
            "grid_template_areas": null,
            "grid_template_columns": null,
            "grid_template_rows": null,
            "height": null,
            "justify_content": null,
            "justify_items": null,
            "left": null,
            "margin": null,
            "max_height": null,
            "max_width": null,
            "min_height": null,
            "min_width": null,
            "object_fit": null,
            "object_position": null,
            "order": null,
            "overflow": null,
            "overflow_x": null,
            "overflow_y": null,
            "padding": null,
            "right": null,
            "top": null,
            "visibility": null,
            "width": null
          }
        },
        "4c58837a4a8b49c6b174db44e88dfcbc": {
          "model_module": "@jupyter-widgets/controls",
          "model_name": "DescriptionStyleModel",
          "model_module_version": "1.5.0",
          "state": {
            "_model_module": "@jupyter-widgets/controls",
            "_model_module_version": "1.5.0",
            "_model_name": "DescriptionStyleModel",
            "_view_count": null,
            "_view_module": "@jupyter-widgets/base",
            "_view_module_version": "1.2.0",
            "_view_name": "StyleView",
            "description_width": ""
          }
        },
        "a9f894e746d04ecc94eefd2328061e76": {
          "model_module": "@jupyter-widgets/base",
          "model_name": "LayoutModel",
          "model_module_version": "1.2.0",
          "state": {
            "_model_module": "@jupyter-widgets/base",
            "_model_module_version": "1.2.0",
            "_model_name": "LayoutModel",
            "_view_count": null,
            "_view_module": "@jupyter-widgets/base",
            "_view_module_version": "1.2.0",
            "_view_name": "LayoutView",
            "align_content": null,
            "align_items": null,
            "align_self": null,
            "border": null,
            "bottom": null,
            "display": null,
            "flex": null,
            "flex_flow": null,
            "grid_area": null,
            "grid_auto_columns": null,
            "grid_auto_flow": null,
            "grid_auto_rows": null,
            "grid_column": null,
            "grid_gap": null,
            "grid_row": null,
            "grid_template_areas": null,
            "grid_template_columns": null,
            "grid_template_rows": null,
            "height": null,
            "justify_content": null,
            "justify_items": null,
            "left": null,
            "margin": null,
            "max_height": null,
            "max_width": null,
            "min_height": null,
            "min_width": null,
            "object_fit": null,
            "object_position": null,
            "order": null,
            "overflow": null,
            "overflow_x": null,
            "overflow_y": null,
            "padding": null,
            "right": null,
            "top": null,
            "visibility": null,
            "width": null
          }
        },
        "3994fc7bd10a49aba4bb23a952bfa3f8": {
          "model_module": "@jupyter-widgets/controls",
          "model_name": "ProgressStyleModel",
          "model_module_version": "1.5.0",
          "state": {
            "_model_module": "@jupyter-widgets/controls",
            "_model_module_version": "1.5.0",
            "_model_name": "ProgressStyleModel",
            "_view_count": null,
            "_view_module": "@jupyter-widgets/base",
            "_view_module_version": "1.2.0",
            "_view_name": "StyleView",
            "bar_color": null,
            "description_width": ""
          }
        },
        "bcc0c00561b04e01a48c08eb6dabd8bd": {
          "model_module": "@jupyter-widgets/base",
          "model_name": "LayoutModel",
          "model_module_version": "1.2.0",
          "state": {
            "_model_module": "@jupyter-widgets/base",
            "_model_module_version": "1.2.0",
            "_model_name": "LayoutModel",
            "_view_count": null,
            "_view_module": "@jupyter-widgets/base",
            "_view_module_version": "1.2.0",
            "_view_name": "LayoutView",
            "align_content": null,
            "align_items": null,
            "align_self": null,
            "border": null,
            "bottom": null,
            "display": null,
            "flex": null,
            "flex_flow": null,
            "grid_area": null,
            "grid_auto_columns": null,
            "grid_auto_flow": null,
            "grid_auto_rows": null,
            "grid_column": null,
            "grid_gap": null,
            "grid_row": null,
            "grid_template_areas": null,
            "grid_template_columns": null,
            "grid_template_rows": null,
            "height": null,
            "justify_content": null,
            "justify_items": null,
            "left": null,
            "margin": null,
            "max_height": null,
            "max_width": null,
            "min_height": null,
            "min_width": null,
            "object_fit": null,
            "object_position": null,
            "order": null,
            "overflow": null,
            "overflow_x": null,
            "overflow_y": null,
            "padding": null,
            "right": null,
            "top": null,
            "visibility": null,
            "width": null
          }
        },
        "61615220461b4d8298eac84b3e71796d": {
          "model_module": "@jupyter-widgets/controls",
          "model_name": "DescriptionStyleModel",
          "model_module_version": "1.5.0",
          "state": {
            "_model_module": "@jupyter-widgets/controls",
            "_model_module_version": "1.5.0",
            "_model_name": "DescriptionStyleModel",
            "_view_count": null,
            "_view_module": "@jupyter-widgets/base",
            "_view_module_version": "1.2.0",
            "_view_name": "StyleView",
            "description_width": ""
          }
        }
      }
    }
  },
  "nbformat": 4,
  "nbformat_minor": 0
}